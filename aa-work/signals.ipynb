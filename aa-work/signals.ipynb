{
 "cells": [
  {
   "cell_type": "code",
   "execution_count": 11,
   "metadata": {
    "ExecuteTime": {
     "end_time": "2020-11-21T21:57:56.128825Z",
     "start_time": "2020-11-21T21:57:56.121416Z"
    }
   },
   "outputs": [],
   "source": [
    "import numpy as np\n",
    "import matplotlib as mpl\n",
    "import matplotlib.pyplot as plt\n",
    "from scipy import signal\n",
    "from scipy import stats\n",
    "from scipy import linalg"
   ]
  },
  {
   "cell_type": "code",
   "execution_count": 12,
   "metadata": {
    "ExecuteTime": {
     "end_time": "2020-11-21T21:57:56.155452Z",
     "start_time": "2020-11-21T21:57:56.134995Z"
    }
   },
   "outputs": [],
   "source": [
    "class Util:\n",
    "    def __init(self):\n",
    "        pass\n",
    "\n",
    "    @classmethod\n",
    "    def round_power2(self, x):\n",
    "        assert x > 0.\n",
    "        assert not np.iscomplex(x)\n",
    "        return int(np.power(2., np.ceil(np.log2(x))))\n",
    "\n",
    "    @classmethod\n",
    "    def sample_time(self, f_sample, n):\n",
    "        assert n > 0, 'n must be greater than 0'\n",
    "        assert f_sample > 0.\n",
    "        return n / f_sample\n",
    "\n",
    "    @classmethod\n",
    "    def dB_power(self, x):\n",
    "        assert x > 0\n",
    "        assert not np.iscomplex(x)\n",
    "        return 10. * np.log10(x)\n",
    "\n",
    "    @classmethod\n",
    "    def dB(self, x):\n",
    "        assert x > 0\n",
    "        assert not np.iscomplex(x)\n",
    "        return 20. * np.log10(x)\n",
    "\n",
    "    @classmethod\n",
    "    def dB_to_factor_power(self, x):\n",
    "        assert not np.iscomplex(x)\n",
    "        return 10.**(x / 10.)\n",
    "\n",
    "    @classmethod\n",
    "    def dB_to_factor(self, x):\n",
    "        assert not np.iscomplex(x)\n",
    "        return 10.**(x / 20.)\n",
    "\n",
    "    @classmethod\n",
    "    def signal_power(self, x, dB=True):\n",
    "        assert x.ndim == 1\n",
    "        p = np.sum(np.abs(x)**2.) / len(x)\n",
    "        if dB:\n",
    "            return self.dB_power(p)\n",
    "        else:\n",
    "            return p\n",
    "\n",
    "    @classmethod\n",
    "    def signal_energy(self, x, length):\n",
    "        assert x.ndim == 1, 'signal must have 1 dimension'\n",
    "        assert length > 0, 'time length must be greater than 0'\n",
    "        return self.signal_power(x) * length\n",
    "\n",
    "    @classmethod\n",
    "    def snr(self, x, y, dB=True):\n",
    "        assert x.ndim == 1\n",
    "        assert y.ndim == 1\n",
    "        snr = self.signal_power(x, dB=False) / self.signal_power(y, dB=False)\n",
    "        if dB:\n",
    "            return self.dB_power(snr)\n",
    "        else:\n",
    "            return snr\n",
    "\n",
    "    @classmethod\n",
    "    def get_signal_length(self, fs, seconds):\n",
    "        assert fs > 0. and seconds > 0.\n",
    "        return fs * seconds"
   ]
  },
  {
   "cell_type": "code",
   "execution_count": 13,
   "metadata": {
    "ExecuteTime": {
     "end_time": "2020-11-21T21:57:56.165905Z",
     "start_time": "2020-11-21T21:57:56.157605Z"
    }
   },
   "outputs": [],
   "source": [
    "class WirelessMicrophone:\n",
    "    def __init__(self, f_sample=1000.0, num_samples=None, t_sec=None):\n",
    "        assert f_sample > 0, 'must be greater than 0'\n",
    "        if num_samples is not None:\n",
    "            assert num_samples > 0, 'must be greater than 0'\n",
    "            self.f_sample = f_sample\n",
    "            self.num_samples = int(num_samples)\n",
    "            self.t_sec = self.num_samples / self.f_sample\n",
    "        elif t_sec is not None:\n",
    "            assert t_sec > 0, 'must be greater than 0'\n",
    "            self.f_sample = f_sample\n",
    "            self.t_sec = t_sec\n",
    "            self.num_samples = int(self.t_sec * self.f_sample)\n",
    "        else:\n",
    "            assert False, 'either num_samples or t_sec needed'\n",
    "\n",
    "    def get_signal(self, f_center, f_deviation, f_modulation, dB=0.):\n",
    "        t = np.arange(self.num_samples) / self.f_sample\n",
    "        x = np.exp(1.j *\n",
    "                   (2. * np.pi * f_center * t + f_deviation / f_modulation *\n",
    "                    np.sin(2. * np.pi * f_modulation * t)))\n",
    "        x -= np.mean(x)  # normalize signal\n",
    "        x /= np.std(x)  # ^\n",
    "        x *= 10.**(dB / 20.)\n",
    "        return x\n",
    "\n",
    "    def get_silent(self, f_center, dB=0.):\n",
    "        return self.get_signal(f_center, 5000, 32000, dB)\n",
    "\n",
    "    def get_soft(self, f_center, dB=0.):\n",
    "        return self.get_signal(f_center, 3900, 15000, dB)\n",
    "\n",
    "    def get_loud(self, f_center, dB=0.):\n",
    "        return self.get_signal(f_center, 13400, 32600, dB)"
   ]
  },
  {
   "cell_type": "code",
   "execution_count": 14,
   "metadata": {
    "ExecuteTime": {
     "end_time": "2020-11-21T21:57:56.172674Z",
     "start_time": "2020-11-21T21:57:56.167468Z"
    }
   },
   "outputs": [],
   "source": [
    "class WhiteGaussianNoise:\n",
    "    def __init__(self, f_sample=1000.0, n=None, t_sec=None):\n",
    "        assert f_sample > 0, 'must be greater than 0'\n",
    "        if n is not None:\n",
    "            assert n > 0, 'must be greater than 0'\n",
    "            self.f_sample = f_sample\n",
    "            self.n = int(n)\n",
    "            self.t_sec = self.n / self.f_sample\n",
    "        elif t_sec is not None:\n",
    "            assert t_sec > 0, 'must be greater than 0'\n",
    "            self.f_sample = f_sample\n",
    "            self.t_sec = t_sec\n",
    "            self.n = int(self.t_sec * self.f_sample)\n",
    "        else:\n",
    "            assert False, 'either n or t_sec needed'\n",
    "\n",
    "    def get_signal(self, dB=0.):\n",
    "        x = 10.**(dB / 10.)\n",
    "        x = stats.multivariate_normal(mean=[0., 0.],\n",
    "                                      cov=[[.5 * x, 0.], [0., .5 * x]])\n",
    "        x = x.rvs(size=self.n).view(np.complex128).reshape(self.n)\n",
    "        return x"
   ]
  },
  {
   "cell_type": "code",
   "execution_count": 22,
   "metadata": {
    "ExecuteTime": {
     "end_time": "2020-11-21T22:01:44.706898Z",
     "start_time": "2020-11-21T22:01:44.682393Z"
    }
   },
   "outputs": [],
   "source": [
    "%%script false --no-raise-error\n",
    "\n",
    "# Example\n",
    "sample_frequency = 1e6  # in Hz\n",
    "length = 1.0  # in s\n",
    "signal_strength = 0.0  # in dB\n",
    "noise_strength = 0.0  # in dB\n",
    "\n",
    "wm = WirelessMicrophone(f_sample=sample_frequency, t_sec=length)\n",
    "# wm = WirelessMicrophone(f_sample=sample_frequency, num_samples=1e5)\n",
    "sig = wm.get_signal(f_center=1e5,\n",
    "                    f_deviation=15000,\n",
    "                    f_modulation=3900,\n",
    "                    dB=signal_strength)\n",
    "\n",
    "wgn = WhiteGaussianNoise(f_sample=sample_frequency, t_sec=length)\n",
    "noise = wgn.get_signal(dB=noise_strength)\n",
    "\n",
    "both = sig + noise\n",
    "\n",
    "print('wm.f_sample     %6.2f' % (wm.f_sample))\n",
    "print('wm.nnum_samples %6.2f' % (wm.num_samples))\n",
    "print('wm.t_sec        %6.2f' % (wm.t_sec))\n",
    "\n",
    "num_samples = wm.num_samples\n",
    "sample_freq = wm.f_sample\n",
    "\n",
    "print('Signal power:   %6.2f dB' % (Util.signal_power(sig, dB=True)))\n",
    "print('Noise power:    %6.2f dB' % (Util.signal_power(noise, dB=True)))\n",
    "print('SNR:            %6.2f dB' % (Util.snr(sig, noise, dB=True)))\n",
    "print('Mean:           %6.2f ' % (np.abs(noise.mean())))\n",
    "print('Var:            %6.2f ' % (np.abs(noise.var())))"
   ]
  }
 ],
 "metadata": {
  "kernelspec": {
   "display_name": "Python 3",
   "language": "python",
   "name": "python3"
  },
  "language_info": {
   "codemirror_mode": {
    "name": "ipython",
    "version": 3
   },
   "file_extension": ".py",
   "mimetype": "text/x-python",
   "name": "python",
   "nbconvert_exporter": "python",
   "pygments_lexer": "ipython3",
   "version": "3.6.9"
  },
  "varInspector": {
   "cols": {
    "lenName": 16,
    "lenType": 16,
    "lenVar": 40
   },
   "kernels_config": {
    "python": {
     "delete_cmd_postfix": "",
     "delete_cmd_prefix": "del ",
     "library": "var_list.py",
     "varRefreshCmd": "print(var_dic_list())"
    },
    "r": {
     "delete_cmd_postfix": ") ",
     "delete_cmd_prefix": "rm(",
     "library": "var_list.r",
     "varRefreshCmd": "cat(var_dic_list()) "
    }
   },
   "types_to_exclude": [
    "module",
    "function",
    "builtin_function_or_method",
    "instance",
    "_Feature"
   ],
   "window_display": false
  }
 },
 "nbformat": 4,
 "nbformat_minor": 4
}
