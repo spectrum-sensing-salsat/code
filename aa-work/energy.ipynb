{
 "cells": [
  {
   "cell_type": "code",
   "execution_count": 11,
   "metadata": {
    "ExecuteTime": {
     "end_time": "2020-11-21T22:07:01.163333Z",
     "start_time": "2020-11-21T22:07:01.083767Z"
    }
   },
   "outputs": [],
   "source": [
    "import numpy as np\n",
    "import matplotlib as mpl\n",
    "import matplotlib.pyplot as plt\n",
    "from scipy import signal\n",
    "from scipy import stats\n",
    "from scipy import linalg\n",
    "\n",
    "%run signals.ipynb"
   ]
  },
  {
   "cell_type": "code",
   "execution_count": 12,
   "metadata": {
    "ExecuteTime": {
     "end_time": "2020-11-21T22:07:01.167541Z",
     "start_time": "2020-11-21T22:07:01.164906Z"
    }
   },
   "outputs": [],
   "source": [
    "class TimeED():\n",
    "    def __init__(self):\n",
    "        pass\n",
    "    \n",
    "    @classmethod\n",
    "    def get(self, x):\n",
    "        return np.sum(np.abs(x) ** 2.)"
   ]
  },
  {
   "cell_type": "code",
   "execution_count": 13,
   "metadata": {
    "ExecuteTime": {
     "end_time": "2020-11-21T22:07:01.172368Z",
     "start_time": "2020-11-21T22:07:01.169111Z"
    }
   },
   "outputs": [],
   "source": [
    "class CLTStats():\n",
    "    def __init__(self):\n",
    "        pass\n",
    "        \n",
    "    @classmethod\n",
    "    def get_thr(self, noise_power, p_fa, n):\n",
    "        return Util.signal_power(noise, dB=False)*(stats.norm.isf(p_fa)*np.sqrt(2.*n)+n)\n",
    "    \n",
    "    @classmethod\n",
    "    def get_pfa(self):\n",
    "        pass\n",
    "    \n",
    "    @classmethod\n",
    "    def get_pd(self):\n",
    "        pass\n",
    "    \n",
    "    @classmethod\n",
    "    def get_roc(self):\n",
    "        pass"
   ]
  },
  {
   "cell_type": "code",
   "execution_count": 22,
   "metadata": {
    "ExecuteTime": {
     "end_time": "2020-11-21T22:12:11.778117Z",
     "start_time": "2020-11-21T22:12:11.757736Z"
    }
   },
   "outputs": [],
   "source": [
    "class Chi2Stats():\n",
    "    def __init__(self):\n",
    "        pass\n",
    "    \n",
    "    @classmethod\n",
    "    def get_thr(self, noise_power, pfa, n):\n",
    "        return stats.chi2.ppf(1.-pfa, 2.*n)*noise_power/2.\n",
    "    \n",
    "    @classmethod\n",
    "    def get_pfa(self, noise_power, thr, n):\n",
    "        return 1. - stats.chi2.cdf(2.*thr/noise_power, 2.*n)\n",
    "    \n",
    "    @classmethod\n",
    "    def get_pd(self, noise_power, signal_power, thr, n):\n",
    "        return 1. - stats.chi2.cdf(2.*thr/(noise_power+signal_power), 2.*n)\n",
    "    \n",
    "    @classmethod\n",
    "    def get_roc(self, noise_power=None, signal_power=None, snr=None, pfa=None, n=None):\n",
    "        if snr is not None:\n",
    "            snr = snr\n",
    "        elif noise_power is not None and signal_power is not None:\n",
    "            snr = signal_power/noise_power\n",
    "        else:\n",
    "            assert False, 'either supply snr or signal and noise power'\n",
    "        return 1. - stats.chi2.cdf(stats.chi2.ppf(1.-pfa, 2.*n)/(1+signal_power/noise_power), 2.*n)"
   ]
  },
  {
   "cell_type": "code",
   "execution_count": 25,
   "metadata": {
    "ExecuteTime": {
     "end_time": "2020-11-21T22:12:29.384257Z",
     "start_time": "2020-11-21T22:12:29.361024Z"
    }
   },
   "outputs": [
    {
     "name": "stdout",
     "output_type": "stream",
     "text": [
      "Threshold 10012817.654996209\n",
      "pfa 0.10000000000000464\n",
      "pd 1.0\n"
     ]
    }
   ],
   "source": [
    "num_samples = 1e6\n",
    "\n",
    "threshold = Chi2Stats.get_thr(noise_power=Util.dB_to_factor_power(10.), pfa=0.1, n=num_samples)\n",
    "print(f'Threshold {threshold}')\n",
    "print('wm.f_sample     %6.2f' % (wm.f_sample))\n",
    "print('wm.nnum_samples %6.2f' % (wm.num_samples))\n",
    "print('wm.t_sec        %6.2f' % (wm.t_sec))\n",
    "\n",
    "pfa = Chi2Stats.get_pfa(noise_power=Util.dB_to_factor_power(10.), thr=threshold, n=num_samples)\n",
    "print(f'pfa {pfa}')\n",
    "\n",
    "pd = Chi2Stats.get_pd(noise_power=Util.dB_to_factor_power(10.), signal_power=Util.dB_to_factor_power(10.), thr=threshold, n=num_samples)\n",
    "print(f'pd {pd}')\n",
    "\n",
    "# pfa_roc = np.linspace(0., 1., 100)\n",
    "# plt.figure(figsize=(8, 6))\n",
    "# pd_roc = Chi2Stats.get_roc(noise_power=1., signal_power=0.001, pfa=pfa_roc, n=num_samples)\n",
    "# plt.plot(pfa_roc, pd_roc)\n",
    "# pd_roc = Chi2Stats.get_roc(noise_power=1., signal_power=0.002, pfa=pfa_roc, n=num_samples)\n",
    "# plt.plot(pfa_roc, pd_roc)\n",
    "# pd_roc = Chi2Stats.get_roc(noise_power=1., signal_power=0.0003, pfa=pfa_roc, n=num_samples)\n",
    "# plt.plot(pfa_roc, pd_roc)\n",
    "# plt.show()"
   ]
  }
 ],
 "metadata": {
  "kernelspec": {
   "display_name": "Python 3",
   "language": "python",
   "name": "python3"
  },
  "language_info": {
   "codemirror_mode": {
    "name": "ipython",
    "version": 3
   },
   "file_extension": ".py",
   "mimetype": "text/x-python",
   "name": "python",
   "nbconvert_exporter": "python",
   "pygments_lexer": "ipython3",
   "version": "3.6.9"
  },
  "varInspector": {
   "cols": {
    "lenName": 16,
    "lenType": 16,
    "lenVar": 40
   },
   "kernels_config": {
    "python": {
     "delete_cmd_postfix": "",
     "delete_cmd_prefix": "del ",
     "library": "var_list.py",
     "varRefreshCmd": "print(var_dic_list())"
    },
    "r": {
     "delete_cmd_postfix": ") ",
     "delete_cmd_prefix": "rm(",
     "library": "var_list.r",
     "varRefreshCmd": "cat(var_dic_list()) "
    }
   },
   "types_to_exclude": [
    "module",
    "function",
    "builtin_function_or_method",
    "instance",
    "_Feature"
   ],
   "window_display": false
  }
 },
 "nbformat": 4,
 "nbformat_minor": 4
}
