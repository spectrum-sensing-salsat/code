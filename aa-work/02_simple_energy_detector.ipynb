{
 "cells": [
  {
   "cell_type": "code",
   "execution_count": 1,
   "metadata": {
    "ExecuteTime": {
     "end_time": "2021-01-08T05:36:55.965872Z",
     "start_time": "2021-01-08T05:36:55.558597Z"
    }
   },
   "outputs": [],
   "source": [
    "import numpy as np\n",
    "import math\n",
    "import matplotlib as mpl\n",
    "import matplotlib.pyplot as plt\n",
    "plt.style.use('seaborn-deep')\n",
    "from mpl_toolkits import mplot3d as mpl3d\n",
    "from scipy import signal, stats, linalg, fft\n",
    "\n",
    "# import our 'specsens' package with the help of 'sys'\n",
    "import sys\n",
    "sys.path.insert(0, '..')\n",
    "import specsens as ss"
   ]
  },
  {
   "cell_type": "code",
   "execution_count": 2,
   "metadata": {
    "ExecuteTime": {
     "end_time": "2021-01-08T05:36:56.317793Z",
     "start_time": "2021-01-08T05:36:55.967481Z"
    }
   },
   "outputs": [
    {
     "name": "stdout",
     "output_type": "stream",
     "text": [
      "Signal power: 0.63 dB\n",
      "Noise power:  -0.00 dB\n",
      "SNR:          0.63 dB\n",
      "Num samples:  1000000 \n"
     ]
    }
   ],
   "source": [
    "# general settings for signal and noise\n",
    "sample_freq = 1e6  # in Hz\n",
    "length = 1.0  # in s\n",
    "noise_power = 0.0  # in dB\n",
    "\n",
    "# create a signal with varying power level (-100dB -> signal not present)\n",
    "# 10 sections, each 0.1 seconds (1e5 samples) long\n",
    "signal_power = np.repeat(\n",
    "    [0.0, -100.0, 0.0, 0.0, 6.0, 5.0, -100.0, -10.0, -5.0, 0.0],\n",
    "    sample_freq // 10)  # in dB\n",
    "\n",
    "# create the signal (the 'soft speaker' kind)\n",
    "wm = ss.WirelessMicrophone(f_sample=sample_freq, t_sec=length, seed=None)\n",
    "sig = wm.soft(f_center=1e4, power=signal_power, dB=True)\n",
    "\n",
    "# create the noise\n",
    "wgn = ss.WhiteGaussianNoise(f_sample=sample_freq, t_sec=length, seed=None)\n",
    "noise = wgn.signal(power=noise_power, dB=True)\n",
    "\n",
    "# ensure noise and signal have same length (and create global variable 'num_samples')\n",
    "assert wm.num_samples == wgn.num_samples\n",
    "num_samples = wm.num_samples\n",
    "\n",
    "# create actual signal ('both') comprising of signal and additive white Gaussian noise (AWGN)\n",
    "both = sig + noise\n",
    "\n",
    "# print some info about signal and noise\n",
    "print('Signal power: %.2f dB' % (ss.util.signal_power(sig, dB=True)))\n",
    "print('Noise power:  %.2f dB' % (ss.util.signal_power(noise, dB=True)))\n",
    "print('SNR:          %.2f dB' % (ss.util.snr(sig, noise, dB=True)))\n",
    "print('Num samples:  %d ' % (num_samples))\n",
    "\n",
    "# ensure that Parseval's theorem holds\n",
    "ss.util.check_parseval(both, length, sample_freq)"
   ]
  },
  {
   "cell_type": "code",
   "execution_count": 3,
   "metadata": {
    "ExecuteTime": {
     "end_time": "2021-01-08T05:36:56.483399Z",
     "start_time": "2021-01-08T05:36:56.319186Z"
    }
   },
   "outputs": [
    {
     "data": {
      "image/png": "[encoded data removed]",
      "text/plain": [
       "<Figure size 576x432 with 1 Axes>"
      ]
     },
     "metadata": {
      "needs_background": "light"
     },
     "output_type": "display_data"
    }
   ],
   "source": [
    "# split signal in 100 bins and apply energy detector on each bin\n",
    "both_seg = np.split(both, 100)\n",
    "eng = list(map(lambda x: ss.EnergyDetector.get(x), both_seg))\n",
    "\n",
    "# plot the resulting bins (keep in mind that the energy here does not have any useful ('real') unit)\n",
    "plt.figure(figsize=(8, 6))\n",
    "plt.plot(eng, 'o', markersize=2, aa=True)\n",
    "plt.xlabel(r'Bins')\n",
    "plt.ylabel(r'Energy')\n",
    "plt.grid(linewidth=0.5)\n",
    "plt.show()"
   ]
  },
  {
   "cell_type": "code",
   "execution_count": 4,
   "metadata": {
    "ExecuteTime": {
     "end_time": "2021-01-08T05:36:56.649461Z",
     "start_time": "2021-01-08T05:36:56.484715Z"
    }
   },
   "outputs": [
    {
     "data": {
      "image/png": "[encoded data removed]",
      "text/plain": [
       "<Figure size 576x432 with 1 Axes>"
      ]
     },
     "metadata": {
      "needs_background": "light"
     },
     "output_type": "display_data"
    }
   ],
   "source": [
    "# calculate threshold (see notebook 3 for more info on that)\n",
    "thr = ss.chi2_stats.thr(\n",
    "    noise_power=noise_power,\n",
    "    pfa=0.01,  # probability of false alarm 1%\n",
    "    n=sample_freq // 100)  # number of samples per bin\n",
    "result = eng > thr\n",
    "\n",
    "# plot the result\n",
    "plt.figure(figsize=(8, 6))\n",
    "plt.plot(result, 'o', markersize=2, aa=True)\n",
    "plt.xlabel(r'Bins')\n",
    "plt.ylabel(r'Signal / no signal')\n",
    "plt.grid(linewidth=0.5)\n",
    "plt.show()\n",
    "\n",
    "# As we can see the detection is near perfect. The energy detector is able to detect all occurrences of the signal.\n",
    "# This is thanks to the fact the noise power is perfectly known.\n",
    "# However, as we will see later this is not always the case. Therefore, detection performance will also degrade..."
   ]
  }
 ],
 "metadata": {
  "kernelspec": {
   "display_name": "Python 3",
   "language": "python",
   "name": "python3"
  },
  "language_info": {
   "codemirror_mode": {
    "name": "ipython",
    "version": 3
   },
   "file_extension": ".py",
   "mimetype": "text/x-python",
   "name": "python",
   "nbconvert_exporter": "python",
   "pygments_lexer": "ipython3",
   "version": "3.6.9"
  },
  "varInspector": {
   "cols": {
    "lenName": 16,
    "lenType": 16,
    "lenVar": 40
   },
   "kernels_config": {
    "python": {
     "delete_cmd_postfix": "",
     "delete_cmd_prefix": "del ",
     "library": "var_list.py",
     "varRefreshCmd": "print(var_dic_list())"
    },
    "r": {
     "delete_cmd_postfix": ") ",
     "delete_cmd_prefix": "rm(",
     "library": "var_list.r",
     "varRefreshCmd": "cat(var_dic_list()) "
    }
   },
   "position": {
    "height": "646px",
    "left": "1413px",
    "right": "20px",
    "top": "126px",
    "width": "350px"
   },
   "types_to_exclude": [
    "module",
    "function",
    "builtin_function_or_method",
    "instance",
    "_Feature"
   ],
   "window_display": false
  }
 },
 "nbformat": 4,
 "nbformat_minor": 4
}
