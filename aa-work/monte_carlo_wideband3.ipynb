{
 "cells": [
  {
   "cell_type": "code",
   "execution_count": 5,
   "metadata": {
    "ExecuteTime": {
     "end_time": "2020-12-05T23:11:01.151105Z",
     "start_time": "2020-12-05T23:11:01.142637Z"
    }
   },
   "outputs": [],
   "source": [
    "import numpy as np\n",
    "import matplotlib as mpl\n",
    "import matplotlib.pyplot as plt\n",
    "from scipy import signal\n",
    "from scipy import stats\n",
    "from scipy import linalg\n",
    "import time\n",
    "\n",
    "import sys\n",
    "sys.path.insert(0, '..')\n",
    "import specsens as ss"
   ]
  },
  {
   "cell_type": "code",
   "execution_count": 21,
   "metadata": {
    "ExecuteTime": {
     "end_time": "2020-12-06T00:22:55.399452Z",
     "start_time": "2020-12-06T00:22:38.633734Z"
    }
   },
   "outputs": [
    {
     "name": "stdout",
     "output_type": "stream",
     "text": [
      "Theory     pfa 0.1\n",
      "Theory     pd  0.9608106474202457\n",
      "Threshold is: 1065.2178104514555 with 1024 samples\n",
      "   infs left at  0.00%\n",
      " 15.31s left at  1.00%\n",
      " 15.11s left at  2.00%\n",
      " 15.29s left at  3.00%\n",
      " 14.70s left at  4.00%\n",
      " 15.08s left at  5.00%\n",
      " 14.37s left at  6.00%\n",
      " 14.51s left at  7.00%\n",
      " 14.25s left at  8.00%\n",
      " 14.25s left at  9.00%\n",
      " 13.89s left at 10.00%\n",
      " 14.04s left at 11.00%\n",
      " 13.55s left at 12.00%\n",
      " 13.52s left at 13.00%\n",
      " 13.26s left at 14.00%\n",
      " 14.18s left at 15.00%\n",
      " 13.33s left at 16.00%\n",
      " 12.96s left at 17.00%\n",
      " 12.61s left at 18.00%\n",
      " 12.50s left at 19.00%\n",
      " 12.20s left at 20.00%\n",
      " 12.59s left at 21.00%\n",
      " 11.98s left at 22.00%\n",
      " 12.14s left at 23.00%\n",
      " 11.61s left at 24.00%\n",
      " 11.54s left at 25.00%\n",
      " 11.31s left at 26.00%\n",
      " 11.27s left at 27.00%\n",
      " 11.07s left at 28.00%\n",
      " 10.99s left at 29.00%\n",
      " 10.80s left at 30.00%\n",
      " 10.71s left at 31.00%\n",
      " 10.38s left at 32.00%\n",
      " 10.37s left at 33.00%\n",
      " 10.09s left at 34.00%\n",
      " 10.06s left at 35.00%\n",
      "  9.84s left at 36.00%\n",
      "  9.91s left at 37.00%\n",
      "  9.50s left at 38.00%\n",
      "  9.41s left at 39.00%\n",
      "  9.15s left at 40.00%\n",
      "  9.12s left at 41.00%\n",
      "  8.86s left at 42.00%\n",
      "  8.82s left at 43.00%\n",
      "  8.55s left at 44.00%\n",
      "  8.49s left at 45.00%\n",
      "  8.25s left at 46.00%\n",
      "  8.22s left at 47.00%\n",
      "  8.06s left at 48.00%\n",
      "  7.96s left at 49.00%\n",
      "  7.71s left at 50.00%\n",
      "  7.58s left at 51.00%\n",
      "  7.46s left at 52.00%\n",
      "  7.53s left at 53.00%\n",
      "  7.07s left at 54.00%\n",
      "  7.07s left at 55.00%\n",
      "  6.81s left at 56.00%\n",
      "  6.67s left at 57.00%\n",
      "  6.42s left at 58.00%\n",
      "  6.39s left at 59.00%\n",
      "  6.17s left at 60.00%\n",
      "  6.20s left at 61.00%\n",
      "  5.86s left at 62.00%\n",
      "  5.95s left at 63.00%\n",
      "  5.49s left at 64.00%\n",
      "  5.57s left at 65.00%\n",
      "  5.27s left at 66.00%\n",
      "  5.23s left at 67.00%\n",
      "  4.96s left at 68.00%\n",
      "  4.88s left at 69.00%\n",
      "  4.59s left at 70.00%\n",
      "  4.52s left at 71.00%\n",
      "  4.32s left at 72.00%\n",
      "  4.24s left at 73.00%\n",
      "  4.02s left at 74.00%\n",
      "  3.88s left at 75.00%\n",
      "  3.75s left at 76.00%\n",
      "  3.60s left at 77.00%\n",
      "  3.41s left at 78.00%\n",
      "  3.34s left at 79.00%\n",
      "  3.07s left at 80.00%\n",
      "  2.94s left at 81.00%\n",
      "  2.78s left at 82.00%\n",
      "  2.68s left at 83.00%\n",
      "  2.46s left at 84.00%\n",
      "  2.35s left at 85.00%\n",
      "  2.15s left at 86.00%\n",
      "  2.01s left at 87.00%\n",
      "  1.85s left at 88.00%\n",
      "  1.70s left at 89.00%\n",
      "  1.53s left at 90.00%\n",
      "  1.51s left at 91.00%\n",
      "  1.41s left at 92.00%\n",
      "  1.10s left at 93.00%\n",
      "  0.99s left at 94.00%\n",
      "  0.85s left at 95.00%\n",
      "  0.69s left at 96.00%\n",
      "  0.47s left at 97.00%\n",
      "  0.32s left at 98.00%\n",
      "  0.17s left at 99.00%\n"
     ]
    },
    {
     "data": {
      "image/png": "[encoded data removed]",
      "text/plain": [
       "<Figure size 432x288 with 1 Axes>"
      ]
     },
     "metadata": {
      "needs_background": "light"
     },
     "output_type": "display_data"
    },
    {
     "name": "stdout",
     "output_type": "stream",
     "text": [
      "Box Sig Mean=1126.719, Standard Deviation=35.400\n"
     ]
    },
    {
     "data": {
      "image/png": "[encoded data removed]",
      "text/plain": [
       "<Figure size 432x288 with 1 Axes>"
      ]
     },
     "metadata": {
      "needs_background": "light"
     },
     "output_type": "display_data"
    },
    {
     "name": "stdout",
     "output_type": "stream",
     "text": [
      "Flat Sig Mean=nan, Standard Deviation=nan\n"
     ]
    },
    {
     "data": {
      "image/png": "[encoded data removed]",
      "text/plain": [
       "<Figure size 432x288 with 1 Axes>"
      ]
     },
     "metadata": {
      "needs_background": "light"
     },
     "output_type": "display_data"
    },
    {
     "name": "stdout",
     "output_type": "stream",
     "text": [
      "Box Noise Mean=1023.881, Standard Deviation=32.164\n"
     ]
    },
    {
     "data": {
      "image/png": "[encoded data removed]",
      "text/plain": [
       "<Figure size 432x288 with 1 Axes>"
      ]
     },
     "metadata": {
      "needs_background": "light"
     },
     "output_type": "display_data"
    },
    {
     "name": "stdout",
     "output_type": "stream",
     "text": [
      "Flat Noise Mean=nan, Standard Deviation=nan\n"
     ]
    },
    {
     "name": "stderr",
     "output_type": "stream",
     "text": [
      "/home/fabian/.local/lib/python3.6/site-packages/ipykernel_launcher.py:181: RuntimeWarning: invalid value encountered in double_scalars\n"
     ]
    },
    {
     "data": {
      "image/png": "[encoded data removed]",
      "text/plain": [
       "<Figure size 576x432 with 1 Axes>"
      ]
     },
     "metadata": {
      "needs_background": "light"
     },
     "output_type": "display_data"
    },
    {
     "name": "stdout",
     "output_type": "stream",
     "text": [
      "Theory     pfa 0.1\n",
      "Simulation pfa 0.1007332506459271\n",
      "Theory     pd  0.9608106474202457\n",
      "Simulation pd  0.9628393874642573\n",
      "Threshold      1065.2178104514555\n"
     ]
    }
   ],
   "source": [
    "n_bands = 1\n",
    "band_to_detect = 0\n",
    "n_fft = 1024\n",
    "n_stats = 1024 // n_bands\n",
    "\n",
    "class MonteCarloSim():\n",
    "    def __init__(self, gens, itrs):\n",
    "        self.gens = gens  # Number of generations\n",
    "        self.itrs = itrs  # NUmber of iterations per generation\n",
    "        self.reset()\n",
    "\n",
    "    def reset(self):\n",
    "        self.pfas = list()  # Probability of false alarm list\n",
    "        self.pds = list()  # Probability of detection list\n",
    "        self.en_box_sig = list()\n",
    "        self.en_box_noise = list()\n",
    "        self.en_flat_noise = list()\n",
    "        self.en_flat_sig = list()\n",
    "        self.time = None\n",
    "\n",
    "    def run(self,\n",
    "            signal_strength=0.,\n",
    "            noise_strength=0.,\n",
    "            sample_freq=1e6,\n",
    "            length=1.,\n",
    "            pre_pfa=0.1):\n",
    "\n",
    "        self.reset()\n",
    "\n",
    "#         n_samples = ss.util.get_signal_length(f_sample=sample_freq,\n",
    "#                                               t_sec=length)\n",
    "        n_samples = n_stats\n",
    "        thr = ss.chi2_stats.get_thr(\n",
    "            noise_power=noise_strength,\n",
    "            pfa=pre_pfa,\n",
    "            n=n_samples,\n",
    "            dB=True)\n",
    "        print(f'Threshold is: {thr} with {n_samples} samples')\n",
    "        \n",
    "        # Generations loop\n",
    "        for i in range(self.gens):\n",
    "\n",
    "            wm = ss.WirelessMicrophone(f_sample=sample_freq, t_sec=length)\n",
    "            wgn = ss.WhiteGaussianNoise(f_sample=sample_freq, t_sec=length)\n",
    "\n",
    "            correct_hit = 0\n",
    "            false_hit = 0\n",
    "            correct_miss = 0\n",
    "            false_miss = 0\n",
    "            times_signal_present = 0\n",
    "\n",
    "            # As soon as we introduce noise uncertainty, the detector performs badly\n",
    "            # This is expected, as energy detectors cant handle noise uncertainty\n",
    "            # noise_uncertainty = np.random.uniform(-1., 1.)\n",
    "            noise_uncertainty = 0.\n",
    "            \n",
    "            # Iterations loop\n",
    "            for j in range(self.itrs):\n",
    "                \n",
    "                # Generate signal and noise\n",
    "                sig = wm.get_soft(f_center=4e5, dB=signal_strength)\n",
    "                noise = wgn.get_signal(dB=noise_strength + noise_uncertainty)\n",
    "                \n",
    "                # Randomly decide whether signal should be present\n",
    "                sig_present = bool(np.random.randint(2))\n",
    "                if sig_present:\n",
    "                    both = sig + noise\n",
    "                    times_signal_present += 1\n",
    "                else:\n",
    "                    both = noise\n",
    "\n",
    "                # Classic energy detector\n",
    "                eng = ss.EnergyDetector.get(both)\n",
    "                \n",
    "                # Mutliband stft based energy detector\n",
    "#                 sft = ss.Stft(\n",
    "#                     n=n_fft,\n",
    "#                     window='flattop')  # currently only working with box window\n",
    "#                 f, psd = sft.stft(sig=both[100:1124],\n",
    "#                                   f_sample=sample_freq,\n",
    "#                                   normalized=False,\n",
    "#                                   dB=False)\n",
    "#                 edf = ss.FreqEnergyDetector(num_bands=n_bands,\n",
    "#                                             f_sample=1e6,\n",
    "#                                             fft_len=n_fft,\n",
    "#                                             freqs=f)\n",
    "#                 eng = edf.detect(psd)[band_to_detect]\n",
    "                \n",
    "#                 if sig_present:\n",
    "#                     self.en_flat_sig.append(eng)\n",
    "#                 else:\n",
    "#                     self.en_flat_noise.append(eng)\n",
    "                \n",
    "#                 sft = ss.Stft(\n",
    "#                     n=n_fft,\n",
    "#                     window='box')  # currently only working with box window\n",
    "#                 f, psd = sft.stft(sig=both[100:1124],\n",
    "#                                   f_sample=sample_freq,\n",
    "#                                   normalized=False,\n",
    "#                                   dB=False)\n",
    "#                 edf = ss.FreqEnergyDetector(num_bands=n_bands,\n",
    "#                                             f_sample=1e6,\n",
    "#                                             fft_len=n_fft,\n",
    "#                                             freqs=f)\n",
    "#                 eng = edf.detect(psd)[band_to_detect]\n",
    "                \n",
    "                if sig_present:\n",
    "                    self.en_box_sig.append(eng)\n",
    "                else:\n",
    "                    self.en_box_noise.append(eng)\n",
    "                \n",
    "#                 plt.figure(figsize=(8, 6))\n",
    "#                 plt.plot(f, psd)\n",
    "#                 plt.show()\n",
    "                    \n",
    "                # Threshold\n",
    "                sig_detected = eng > thr\n",
    "                \n",
    "                \n",
    "                # Log signal and detection outcome\n",
    "                if sig_present and sig_detected:\n",
    "                    correct_hit += 1\n",
    "                elif sig_present and not sig_detected:\n",
    "                    false_miss += 1\n",
    "                elif not sig_present and sig_detected:\n",
    "                    false_hit += 1\n",
    "                else:\n",
    "                    correct_miss += 1\n",
    "            \n",
    "            # Compute stats and store in list\n",
    "            pfa_tmp = false_hit / (self.itrs - times_signal_present)\n",
    "            pd_tmp = correct_hit / times_signal_present\n",
    "            self.pfas.append(pfa_tmp)\n",
    "            self.pds.append(pd_tmp)\n",
    "            \n",
    "            # Print simulation progress\n",
    "            rem, per = self.runtime_stats(self.gens, i)\n",
    "            print('%6.2fs left at %5.2f%%' % (rem, per))\n",
    "        \n",
    "        # Compute stats from list \n",
    "        pfa = np.sum(self.pfas) / self.gens\n",
    "        pd = np.sum(self.pds) / self.gens\n",
    "        \n",
    "#         plt.figure(figsize=(8, 6))\n",
    "#         plt.plot(self.energys)\n",
    "#         plt.show()\n",
    "        \n",
    "        plt.hist(self.en_box_sig, bins=100)\n",
    "        plt.show()\n",
    "        print('Box Sig Mean=%.3f, Standard Deviation=%.3f' % (np.mean(self.en_box_sig), np.std(self.en_box_sig)))\n",
    "        \n",
    "        plt.hist(self.en_flat_sig, bins=100)\n",
    "        plt.show()\n",
    "        print('Flat Sig Mean=%.3f, Standard Deviation=%.3f' % (np.mean(self.en_flat_sig), np.std(self.en_flat_sig)))\n",
    "        \n",
    "        plt.hist(self.en_box_noise, bins=100)\n",
    "        plt.show()\n",
    "        print('Box Noise Mean=%.3f, Standard Deviation=%.3f' % (np.mean(self.en_box_noise), np.std(self.en_box_noise)))\n",
    "        \n",
    "        plt.hist(self.en_flat_noise, bins=100)\n",
    "        plt.show()\n",
    "        print('Flat Noise Mean=%.3f, Standard Deviation=%.3f' % (np.mean(self.en_flat_noise), np.std(self.en_flat_noise)))\n",
    "\n",
    "        return pfa, pd\n",
    "\n",
    "    def runtime_stats(self, total_itr, current_itr):\n",
    "        if self.time is None: # First iteration cant predict time\n",
    "            self.time = time.time()\n",
    "            return float('inf'), 0.0\n",
    "        delta_time = time.time() - self.time\n",
    "        self.time = time.time()\n",
    "        remaining_itr = total_itr - current_itr\n",
    "        remaining_time = delta_time * remaining_itr\n",
    "        percent_done = current_itr / total_itr * 100.0\n",
    "        return remaining_time, percent_done\n",
    "\n",
    "    def print_convergence(self):\n",
    "        plt.figure(figsize=(8, 6))\n",
    "        plt.grid(linewidth=0.3)\n",
    "        for i in range(self.gens):\n",
    "            inter = np.sum(self.pfas[0:i]) / i\n",
    "            plt.plot(i, inter, 'kx')\n",
    "        plt.show()\n",
    "\n",
    "\n",
    "signal_strength = -10.\n",
    "noise_strength = 0.\n",
    "theo_pfa = 0.1\n",
    "length = 0.001024\n",
    "sample_freq = 1e6\n",
    "\n",
    "n_samples = n_stats\n",
    "thr = ss.chi2_stats.get_thr(\n",
    "    noise_power=noise_strength,\n",
    "    pfa=theo_pfa,\n",
    "    n=n_samples,\n",
    "    dB=True)\n",
    "theo_pd = ss.chi2_stats.get_pd(noise_strength, signal_strength, thr, n_samples, dB=True, bands=n_bands)\n",
    "print(f'Theory     pfa {theo_pfa}')\n",
    "print(f'Theory     pd  {theo_pd}')\n",
    "\n",
    "sim = MonteCarloSim(100, 300)\n",
    "pfa, pd = sim.run(signal_strength=signal_strength,\n",
    "                  noise_strength=noise_strength,\n",
    "                  sample_freq=sample_freq,\n",
    "                  length=length,\n",
    "                  pre_pfa=theo_pfa)\n",
    "\n",
    "sim.print_convergence()\n",
    "\n",
    "print(f'Theory     pfa {theo_pfa}')\n",
    "print(f'Simulation pfa {pfa}')\n",
    "\n",
    "n_samples = n_stats\n",
    "thr = ss.chi2_stats.get_thr(\n",
    "    noise_power=noise_strength,\n",
    "    pfa=theo_pfa,\n",
    "    n=n_samples,\n",
    "    dB=True)\n",
    "theo_pd = ss.chi2_stats.get_pd(noise_strength, signal_strength, thr, n_samples, dB=True, bands=n_bands)\n",
    "print(f'Theory     pd  {theo_pd}')\n",
    "print(f'Simulation pd  {pd}')\n",
    "print(f'Threshold      {thr}')"
   ]
  },
  {
   "cell_type": "code",
   "execution_count": null,
   "metadata": {
    "ExecuteTime": {
     "end_time": "2020-12-05T23:11:25.999226Z",
     "start_time": "2020-12-05T23:11:01.159Z"
    }
   },
   "outputs": [],
   "source": [
    "signal_fac = ss.util.dB_to_factor_power(signal_strength)\n",
    "noise_fac  = ss.util.dB_to_factor_power(noise_strength) / n_bands\n",
    "n_samples = n_stats\n",
    "thr = ss.chi2_stats.get_thr(\n",
    "    noise_power=noise_fac,\n",
    "    pfa=theo_pfa,\n",
    "    n=n_samples,\n",
    "    dB=False)\n",
    "theo_pd = ss.chi2_stats.get_pd(noise_fac, signal_fac, thr, n_samples, dB=False, bands=1)\n",
    "print(f'Theory     pd  {theo_pd}')\n",
    "print(f'Simulation pd  {pd}')\n",
    "print(f'Threshold      {thr}')"
   ]
  }
 ],
 "metadata": {
  "kernelspec": {
   "display_name": "Python 3",
   "language": "python",
   "name": "python3"
  },
  "language_info": {
   "codemirror_mode": {
    "name": "ipython",
    "version": 3
   },
   "file_extension": ".py",
   "mimetype": "text/x-python",
   "name": "python",
   "nbconvert_exporter": "python",
   "pygments_lexer": "ipython3",
   "version": "3.6.9"
  },
  "varInspector": {
   "cols": {
    "lenName": 16,
    "lenType": 16,
    "lenVar": 40
   },
   "kernels_config": {
    "python": {
     "delete_cmd_postfix": "",
     "delete_cmd_prefix": "del ",
     "library": "var_list.py",
     "varRefreshCmd": "print(var_dic_list())"
    },
    "r": {
     "delete_cmd_postfix": ") ",
     "delete_cmd_prefix": "rm(",
     "library": "var_list.r",
     "varRefreshCmd": "cat(var_dic_list()) "
    }
   },
   "types_to_exclude": [
    "module",
    "function",
    "builtin_function_or_method",
    "instance",
    "_Feature"
   ],
   "window_display": false
  }
 },
 "nbformat": 4,
 "nbformat_minor": 4
}
