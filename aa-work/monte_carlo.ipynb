{
 "cells": [
  {
   "cell_type": "code",
   "execution_count": 1,
   "metadata": {
    "ExecuteTime": {
     "end_time": "2020-12-03T06:04:49.080739Z",
     "start_time": "2020-12-03T06:04:48.786993Z"
    }
   },
   "outputs": [],
   "source": [
    "import numpy as np\n",
    "import matplotlib as mpl\n",
    "import matplotlib.pyplot as plt\n",
    "from scipy import signal\n",
    "from scipy import stats\n",
    "from scipy import linalg\n",
    "import time\n",
    "\n",
    "import sys\n",
    "sys.path.insert(0, '..')\n",
    "import specsens as ss"
   ]
  },
  {
   "cell_type": "code",
   "execution_count": 10,
   "metadata": {
    "ExecuteTime": {
     "end_time": "2020-12-03T13:47:08.150445Z",
     "start_time": "2020-12-03T13:46:52.456674Z"
    }
   },
   "outputs": [
    {
     "name": "stdout",
     "output_type": "stream",
     "text": [
      "Threshold is: 24971.142858522962 with 1024 samples\n",
      "   infs left at  0.00%\n",
      " 15.25s left at  1.00%\n",
      " 15.04s left at  2.00%\n",
      " 15.40s left at  3.00%\n",
      " 14.57s left at  4.00%\n",
      " 16.41s left at  5.00%\n",
      " 16.78s left at  6.00%\n",
      " 14.68s left at  7.00%\n",
      " 14.16s left at  8.00%\n",
      " 13.97s left at  9.00%\n",
      " 13.61s left at 10.00%\n",
      " 13.62s left at 11.00%\n",
      " 13.34s left at 12.00%\n",
      " 13.47s left at 13.00%\n",
      " 13.06s left at 14.00%\n",
      " 13.33s left at 15.00%\n",
      " 12.78s left at 16.00%\n",
      " 12.83s left at 17.00%\n",
      " 12.39s left at 18.00%\n",
      " 12.49s left at 19.00%\n",
      " 12.09s left at 20.00%\n",
      " 12.38s left at 21.00%\n",
      " 11.86s left at 22.00%\n",
      " 11.87s left at 23.00%\n",
      " 11.50s left at 24.00%\n",
      " 11.59s left at 25.00%\n",
      " 11.18s left at 26.00%\n",
      " 11.28s left at 27.00%\n",
      " 10.90s left at 28.00%\n",
      " 10.99s left at 29.00%\n",
      " 10.62s left at 30.00%\n",
      " 10.68s left at 31.00%\n",
      " 10.29s left at 32.00%\n",
      " 10.28s left at 33.00%\n",
      "  9.97s left at 34.00%\n",
      " 10.05s left at 35.00%\n",
      "  9.70s left at 36.00%\n",
      "  9.66s left at 37.00%\n",
      "  9.38s left at 38.00%\n",
      "  9.37s left at 39.00%\n",
      "  9.06s left at 40.00%\n",
      "  9.15s left at 41.00%\n",
      "  8.81s left at 42.00%\n",
      "  8.80s left at 43.00%\n",
      "  8.46s left at 44.00%\n",
      "  8.42s left at 45.00%\n",
      "  8.18s left at 46.00%\n",
      "  8.12s left at 47.00%\n",
      "  7.87s left at 48.00%\n",
      "  7.86s left at 49.00%\n",
      "  7.57s left at 50.00%\n",
      "  7.51s left at 51.00%\n",
      "  7.29s left at 52.00%\n",
      "  7.20s left at 53.00%\n",
      "  6.97s left at 54.00%\n",
      "  6.90s left at 55.00%\n",
      "  6.70s left at 56.00%\n",
      "  6.70s left at 57.00%\n",
      "  6.44s left at 58.00%\n",
      "  6.45s left at 59.00%\n",
      "  6.08s left at 60.00%\n",
      "  5.98s left at 61.00%\n",
      "  6.44s left at 62.00%\n",
      "  5.97s left at 63.00%\n",
      "  5.49s left at 64.00%\n",
      "  5.36s left at 65.00%\n",
      "  5.15s left at 66.00%\n",
      "  5.06s left at 67.00%\n",
      "  4.86s left at 68.00%\n",
      "  4.80s left at 69.00%\n",
      "  4.54s left at 70.00%\n",
      "  4.45s left at 71.00%\n",
      "  4.25s left at 72.00%\n",
      "  4.16s left at 73.00%\n",
      "  3.97s left at 74.00%\n",
      "  3.87s left at 75.00%\n",
      "  3.65s left at 76.00%\n",
      "  3.53s left at 77.00%\n",
      "  3.34s left at 78.00%\n",
      "  3.23s left at 79.00%\n",
      "  3.05s left at 80.00%\n",
      "  3.03s left at 81.00%\n",
      "  2.77s left at 82.00%\n",
      "  2.65s left at 83.00%\n",
      "  2.42s left at 84.00%\n",
      "  2.30s left at 85.00%\n",
      "  2.12s left at 86.00%\n",
      "  1.99s left at 87.00%\n",
      "  1.84s left at 88.00%\n",
      "  1.71s left at 89.00%\n",
      "  1.51s left at 90.00%\n",
      "  1.40s left at 91.00%\n",
      "  1.21s left at 92.00%\n",
      "  1.09s left at 93.00%\n",
      "  0.91s left at 94.00%\n",
      "  0.77s left at 95.00%\n",
      "  0.61s left at 96.00%\n",
      "  0.46s left at 97.00%\n",
      "  0.30s left at 98.00%\n",
      "  0.15s left at 99.00%\n"
     ]
    },
    {
     "name": "stderr",
     "output_type": "stream",
     "text": [
      "/home/fabian/.local/lib/python3.6/site-packages/ipykernel_launcher.py:106: RuntimeWarning: invalid value encountered in double_scalars\n"
     ]
    },
    {
     "data": {
      "image/png": "[encoded data removed]",
      "text/plain": [
       "<Figure size 576x432 with 1 Axes>"
      ]
     },
     "metadata": {
      "needs_background": "light"
     },
     "output_type": "display_data"
    },
    {
     "name": "stdout",
     "output_type": "stream",
     "text": [
      "Theory     pfa 0.1\n",
      "Simulation pfa 0.09737159226209606\n",
      "Theory     pd  0.4179713989642303\n",
      "Simulation pd  0.4167498830062879\n",
      "Threshold      24971.142858522962\n"
     ]
    }
   ],
   "source": [
    "class MonteCarloSim():\n",
    "    def __init__(self, gens, itrs):\n",
    "        self.gens = gens  # Number of generations\n",
    "        self.itrs = itrs  # NUmber of iterations per generation\n",
    "        self.reset()\n",
    "\n",
    "    def reset(self):\n",
    "        self.pfas = list()  # Probability of false alarm list\n",
    "        self.pds = list()  # Probability of detection list\n",
    "        self.time = None\n",
    "\n",
    "    def run(self,\n",
    "            signal_strength=0.,\n",
    "            noise_strength=0.,\n",
    "            sample_freq=1e6,\n",
    "            length=1.,\n",
    "            pre_pfa=0.1):\n",
    "\n",
    "        self.reset()\n",
    "\n",
    "        n_samples = ss.util.get_signal_length(f_sample=sample_freq,\n",
    "                                              t_sec=length)\n",
    "        thr = ss.chi2_stats.get_thr(\n",
    "            noise_power=noise_strength,\n",
    "            pfa=pre_pfa,\n",
    "            n=n_samples,\n",
    "            dB=True)\n",
    "        print(f'Threshold is: {thr} with {n_samples} samples')\n",
    "\n",
    "        for i in range(self.gens):\n",
    "\n",
    "            wm = ss.WirelessMicrophone(f_sample=sample_freq, t_sec=length)\n",
    "            wgn = ss.WhiteGaussianNoise(f_sample=sample_freq, t_sec=length)\n",
    "\n",
    "            correct_hit = 0\n",
    "            false_hit = 0\n",
    "            correct_miss = 0\n",
    "            false_miss = 0\n",
    "            times_signal_present = 0\n",
    "\n",
    "            # As soon as we introduce noise uncertainty, the detector performs badly\n",
    "            # This is expected, as energy detectors cant handle noise uncertainty\n",
    "            # noise_uncertainty = np.random.uniform(-1., 1.)\n",
    "            noise_uncertainty = 0.\n",
    "\n",
    "            for j in range(self.itrs):\n",
    "                \n",
    "                # Generate signal and noise\n",
    "                sig = wm.get_soft(f_center=1e5, dB=signal_strength)\n",
    "                noise = wgn.get_signal(dB=noise_strength + noise_uncertainty)\n",
    "                \n",
    "                # Randomly decide whether signal should be present\n",
    "                sig_present = bool(np.random.randint(2))\n",
    "                if sig_present:\n",
    "                    both = sig + noise\n",
    "                    times_signal_present += 1\n",
    "                else:\n",
    "                    both = noise\n",
    "\n",
    "                # Classic energy detector\n",
    "                eng = ss.EnergyDetector.get(both)\n",
    "\n",
    "                # Threshold\n",
    "                sig_detected = eng > thr\n",
    "                \n",
    "                # Log signal and detection outcome\n",
    "                if sig_present and sig_detected:\n",
    "                    correct_hit += 1\n",
    "                elif sig_present and not sig_detected:\n",
    "                    false_miss += 1\n",
    "                elif not sig_present and sig_detected:\n",
    "                    false_hit += 1\n",
    "                else:\n",
    "                    correct_miss += 1\n",
    "            \n",
    "            # Compute stats and store in list\n",
    "            pfa_tmp = false_hit / (self.itrs - times_signal_present)\n",
    "            pd_tmp = correct_hit / times_signal_present\n",
    "            self.pfas.append(pfa_tmp)\n",
    "            self.pds.append(pd_tmp)\n",
    "            \n",
    "            # Print simulation progress\n",
    "            rem, per = self.runtime_stats(self.gens, i)\n",
    "            print('%6.2fs left at %5.2f%%' % (rem, per))\n",
    "        \n",
    "        # Compute stats from list \n",
    "        pfa = np.sum(self.pfas) / self.gens\n",
    "        pd = np.sum(self.pds) / self.gens\n",
    "        return pfa, pd\n",
    "\n",
    "    def runtime_stats(self, total_itr, current_itr):\n",
    "        if self.time is None: # First iteration cant predict time\n",
    "            self.time = time.time()\n",
    "            return float('inf'), 0.0\n",
    "        delta_time = time.time() - self.time\n",
    "        self.time = time.time()\n",
    "        remaining_itr = total_itr - current_itr\n",
    "        remaining_time = delta_time * remaining_itr\n",
    "        percent_done = current_itr / total_itr * 100.0\n",
    "        return remaining_time, percent_done\n",
    "\n",
    "    def print_convergence(self):\n",
    "        plt.figure(figsize=(8, 6))\n",
    "        plt.grid(linewidth=0.3)\n",
    "        for i in range(self.gens):\n",
    "            inter = np.sum(self.pfas[0:i]) / i\n",
    "            plt.plot(i, inter, 'kx')\n",
    "        plt.show()\n",
    "\n",
    "\n",
    "signal_strength = -1.\n",
    "noise_strength = 13.7\n",
    "pre_pfa = 0.1\n",
    "length = 0.001024\n",
    "sample_freq = 1e6\n",
    "sim = MonteCarloSim(100, 300)\n",
    "pfa, pd = sim.run(signal_strength=signal_strength,\n",
    "                  noise_strength=noise_strength,\n",
    "                  sample_freq=sample_freq,\n",
    "                  length=length,\n",
    "                  pre_pfa=pre_pfa)\n",
    "\n",
    "sim.print_convergence()\n",
    "\n",
    "print(f'Theory     pfa {pre_pfa}')\n",
    "print(f'Simulation pfa {pfa}')\n",
    "\n",
    "n_samples = ss.util.get_signal_length(f_sample=sample_freq, t_sec=length)\n",
    "thr = ss.chi2_stats.get_thr(\n",
    "    noise_power=noise_strength,\n",
    "    pfa=pre_pfa,\n",
    "    n=n_samples,\n",
    "    dB=True)\n",
    "print(f'Theory     pd  {ss.chi2_stats.get_pd(noise_strength, signal_strength, thr, n_samples, dB=True)}')\n",
    "print(f'Simulation pd  {pd}')\n",
    "print(f'Threshold      {thr}')"
   ]
  },
  {
   "cell_type": "code",
   "execution_count": 3,
   "metadata": {
    "ExecuteTime": {
     "end_time": "2020-12-03T06:05:50.247297Z",
     "start_time": "2020-12-03T06:05:50.188548Z"
    }
   },
   "outputs": [
    {
     "name": "stdout",
     "output_type": "stream",
     "text": [
      "--CLT--\n"
     ]
    },
    {
     "ename": "NameError",
     "evalue": "name 'noise_fac' is not defined",
     "output_type": "error",
     "traceback": [
      "\u001b[0;31m---------------------------------------------------------------------------\u001b[0m",
      "\u001b[0;31mNameError\u001b[0m                                 Traceback (most recent call last)",
      "\u001b[0;32m<ipython-input-3-caacad9149e0>\u001b[0m in \u001b[0;36m<module>\u001b[0;34m\u001b[0m\n\u001b[1;32m      1\u001b[0m \u001b[0mprint\u001b[0m\u001b[0;34m(\u001b[0m\u001b[0;34mf'--CLT--'\u001b[0m\u001b[0;34m)\u001b[0m\u001b[0;34m\u001b[0m\u001b[0;34m\u001b[0m\u001b[0m\n\u001b[0;32m----> 2\u001b[0;31m \u001b[0mprint\u001b[0m\u001b[0;34m(\u001b[0m\u001b[0;34mf'Threshold      {ss.clt_stats.get_thr(noise_fac, pre_pfa, n_samples)}'\u001b[0m\u001b[0;34m)\u001b[0m\u001b[0;34m\u001b[0m\u001b[0;34m\u001b[0m\u001b[0m\n\u001b[0m\u001b[1;32m      3\u001b[0m \u001b[0mprint\u001b[0m\u001b[0;34m(\u001b[0m\u001b[0;34mf'Theory     pfa {ss.clt_stats.get_pfa(noise_fac, thr, n_samples)}'\u001b[0m\u001b[0;34m)\u001b[0m\u001b[0;34m\u001b[0m\u001b[0;34m\u001b[0m\u001b[0m\n\u001b[1;32m      4\u001b[0m \u001b[0mprint\u001b[0m\u001b[0;34m(\u001b[0m\u001b[0;34mf'Theory     pd  {ss.clt_stats.get_pd(noise_fac, signal_fac, thr, n_samples)}'\u001b[0m\u001b[0;34m)\u001b[0m\u001b[0;34m\u001b[0m\u001b[0;34m\u001b[0m\u001b[0m\n\u001b[1;32m      5\u001b[0m \u001b[0mprint\u001b[0m\u001b[0;34m(\u001b[0m\u001b[0;34mf'Theory     n   {ss.clt_stats.get_num(noise_power=noise_fac, signal_power=signal_fac, pfa=pre_pfa, pd=0.2044)}'\u001b[0m\u001b[0;34m)\u001b[0m\u001b[0;34m\u001b[0m\u001b[0;34m\u001b[0m\u001b[0m\n",
      "\u001b[0;31mNameError\u001b[0m: name 'noise_fac' is not defined"
     ]
    }
   ],
   "source": [
    "print(f'--CLT--')\n",
    "print(f'Threshold      {ss.clt_stats.get_thr(noise_fac, pre_pfa, n_samples)}')\n",
    "print(f'Theory     pfa {ss.clt_stats.get_pfa(noise_fac, thr, n_samples)}')\n",
    "print(f'Theory     pd  {ss.clt_stats.get_pd(noise_fac, signal_fac, thr, n_samples)}')\n",
    "print(f'Theory     n   {ss.clt_stats.get_num(noise_power=noise_fac, signal_power=signal_fac, pfa=pre_pfa, pd=0.2044)}')"
   ]
  }
 ],
 "metadata": {
  "kernelspec": {
   "display_name": "Python 3",
   "language": "python",
   "name": "python3"
  },
  "language_info": {
   "codemirror_mode": {
    "name": "ipython",
    "version": 3
   },
   "file_extension": ".py",
   "mimetype": "text/x-python",
   "name": "python",
   "nbconvert_exporter": "python",
   "pygments_lexer": "ipython3",
   "version": "3.6.9"
  },
  "varInspector": {
   "cols": {
    "lenName": 16,
    "lenType": 16,
    "lenVar": 40
   },
   "kernels_config": {
    "python": {
     "delete_cmd_postfix": "",
     "delete_cmd_prefix": "del ",
     "library": "var_list.py",
     "varRefreshCmd": "print(var_dic_list())"
    },
    "r": {
     "delete_cmd_postfix": ") ",
     "delete_cmd_prefix": "rm(",
     "library": "var_list.r",
     "varRefreshCmd": "cat(var_dic_list()) "
    }
   },
   "types_to_exclude": [
    "module",
    "function",
    "builtin_function_or_method",
    "instance",
    "_Feature"
   ],
   "window_display": false
  }
 },
 "nbformat": 4,
 "nbformat_minor": 4
}
