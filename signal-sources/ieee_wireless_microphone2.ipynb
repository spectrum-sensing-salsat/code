{
 "cells": [
  {
   "cell_type": "code",
   "execution_count": 246,
   "metadata": {
    "ExecuteTime": {
     "end_time": "2020-11-14T13:18:42.481464Z",
     "start_time": "2020-11-14T13:18:42.477334Z"
    }
   },
   "outputs": [
    {
     "data": {
      "text/html": [
       "<style>.container { width:100% !important; }</style>"
      ],
      "text/plain": [
       "<IPython.core.display.HTML object>"
      ]
     },
     "metadata": {},
     "output_type": "display_data"
    }
   ],
   "source": [
    "# %matplotlib inline\n",
    "# %matplotlib notebook\n",
    "\n",
    "import numpy as np\n",
    "import matplotlib as mpl\n",
    "import matplotlib.pyplot as plt\n",
    "from mpl_toolkits import mplot3d as mpl3d\n",
    "from matplotlib import cm\n",
    "from scipy import signal\n",
    "from scipy import stats\n",
    "from scipy import linalg\n",
    "from scipy import fft\n",
    "from scipy import io\n",
    "\n",
    "from IPython.core.display import display, HTML\n",
    "display(HTML(\"<style>.container { width:100% !important; }</style>\"))\n",
    "\n",
    "np.random.seed(123)"
   ]
  },
  {
   "cell_type": "code",
   "execution_count": 248,
   "metadata": {
    "ExecuteTime": {
     "end_time": "2020-11-14T13:18:42.490806Z",
     "start_time": "2020-11-14T13:18:42.487245Z"
    }
   },
   "outputs": [],
   "source": [
    "def round_power2(num):\n",
    "    return int(np.power(2., np.ceil(np.log2(num))))\n",
    "\n",
    "\n",
    "def signal_power(x):\n",
    "    #     return np.var(x) # one can also use the variance, iff all signals are zero mean\n",
    "    return sum(abs(x)**2.0) / len(x)\n",
    "\n",
    "\n",
    "def signal_power_dB(x):\n",
    "    return 10. * np.log10(signal_power(x))\n",
    "\n",
    "\n",
    "def snr(a, b):\n",
    "    return signal_power(a) / signal_power(b)\n",
    "\n",
    "\n",
    "def snr_dB(a, b):\n",
    "    return 10. * np.log10(snr(a, b))"
   ]
  },
  {
   "cell_type": "code",
   "execution_count": 249,
   "metadata": {
    "ExecuteTime": {
     "end_time": "2020-11-14T13:18:42.496343Z",
     "start_time": "2020-11-14T13:18:42.492221Z"
    }
   },
   "outputs": [],
   "source": [
    "def mic_sig(n, fs, fc, fm, fd, dB=0.):\n",
    "    t = np.arange(n) / fs\n",
    "    x = np.exp(1.j *\n",
    "               (2. * np.pi * fc * t + fd / fm * np.sin(2. * np.pi * fm * t)))\n",
    "    x /= np.std(x)\n",
    "    x *= 10.**(dB / 20.)\n",
    "    return x\n",
    "\n",
    "\n",
    "def awgn(n, dB=0.):\n",
    "    w = 10.**(dB / 10.)\n",
    "    d = stats.multivariate_normal(mean=[0., 0.],\n",
    "                                  cov=[[.5 * w, 0.], [0., .5 * w]])\n",
    "    x = d.rvs(size=n).view(np.complex128).reshape(N)\n",
    "    return x"
   ]
  },
  {
   "cell_type": "code",
   "execution_count": 265,
   "metadata": {
    "ExecuteTime": {
     "end_time": "2020-11-14T19:29:32.831601Z",
     "start_time": "2020-11-14T19:29:32.648132Z"
    }
   },
   "outputs": [
    {
     "name": "stdout",
     "output_type": "stream",
     "text": [
      "Signal power:  6.01 dB\n",
      "Noise power: 10.02 dB\n",
      "SNR: -4.00 dB\n"
     ]
    }
   ],
   "source": [
    "N = round_power2(1e5)\n",
    "fs = int(1e6)\n",
    "fc = int(2e5)\n",
    "fd = 15000.\n",
    "fm = 3900.\n",
    "\n",
    "sig = mic_sig(N, fs, fc=fc, fm=fm, fd=fd, dB=3.) + mic_sig(N, fs, fc=fc-1e5, fm=fm+1000, fd=fd, dB=3.)\n",
    "noise = awgn(N, dB=10.)\n",
    "both = sig + noise\n",
    "\n",
    "print('Signal power: %5.2f dB' % (signal_power_dB(sig)))\n",
    "print('Noise power: %5.2f dB' % (signal_power_dB(noise)))\n",
    "print('SNR: %5.2f dB' % (snr_dB(sig, noise)))"
   ]
  },
  {
   "cell_type": "code",
   "execution_count": 1,
   "metadata": {
    "ExecuteTime": {
     "end_time": "2020-11-14T19:37:37.087984Z",
     "start_time": "2020-11-14T19:37:37.082881Z"
    }
   },
   "outputs": [],
   "source": [
    "# Matplotlib Spectogram\n",
    "\n",
    "# plt.figure(figsize=(8, 6))\n",
    "# plt.specgram(noise,\n",
    "#              NFFT=1024,\n",
    "#              Fs=fs,\n",
    "#              scale='dB',\n",
    "#              cmap='viridis',\n",
    "#              noverlap=0,\n",
    "#              mode='psd',\n",
    "#              window=signal.get_window('hann', 1024))\n",
    "# plt.title(\"PSD\")\n",
    "# plt.xlabel(\"Time\")\n",
    "# plt.ylabel(\"Frequency\")\n",
    "# plt.show()\n",
    "\n",
    "# plt.figure(figsize=(8, 6))\n",
    "# plt.specgram(sig,\n",
    "#              NFFT=1024,\n",
    "#              Fs=fs,\n",
    "#              scale='dB',\n",
    "#              cmap='viridis',\n",
    "#              noverlap=0,\n",
    "#              mode='psd',\n",
    "#              window=signal.get_window('hann', 1024))\n",
    "# plt.title(\"PSD\")\n",
    "# plt.xlabel(\"Time\")\n",
    "# plt.ylabel(\"Frequency\")\n",
    "# plt.show()\n",
    "\n",
    "# plt.figure(figsize=(8, 6))\n",
    "# plt.specgram(both,\n",
    "#              NFFT=1024,\n",
    "#              Fs=fs,\n",
    "#              scale='dB',\n",
    "#              cmap='viridis',\n",
    "#              noverlap=0,\n",
    "#              mode='psd',\n",
    "#              window=signal.get_window('hann', 1024))\n",
    "# plt.title(\"PSD\")\n",
    "# plt.xlabel(\"Time\")\n",
    "# plt.ylabel(\"Frequency\")\n",
    "# plt.show()"
   ]
  },
  {
   "cell_type": "code",
   "execution_count": 252,
   "metadata": {
    "ExecuteTime": {
     "end_time": "2020-11-14T13:18:43.200667Z",
     "start_time": "2020-11-14T13:18:43.198663Z"
    }
   },
   "outputs": [],
   "source": [
    "# Scipy Welch (Periodigram with averaging and overlap, which is currently 0)\n",
    "\n",
    "# plt.figure(figsize=(8, 6))\n",
    "# f, Pxx_den = signal.welch(noise,\n",
    "#                           fs,\n",
    "#                           nperseg=1024,\n",
    "#                           noverlap=0,\n",
    "#                           window='hann',\n",
    "#                           scaling='density',\n",
    "#                           detrend=False)\n",
    "# plt.semilogy(fft.fftshift(f), fft.fftshift(Pxx_den))\n",
    "# plt.xlabel('Frequency [Hz]')\n",
    "# plt.ylabel('PSD [V**2/Hz]')\n",
    "# plt.show()\n",
    "\n",
    "# plt.figure(figsize=(8, 6))\n",
    "# f, Pxx_den = signal.welch(sig,\n",
    "#                           fs,\n",
    "#                           nperseg=1024,\n",
    "#                           noverlap=0,\n",
    "#                           window='hann',\n",
    "#                           scaling='density',\n",
    "#                           detrend=False)\n",
    "# plt.semilogy(fft.fftshift(f), fft.fftshift(Pxx_den))\n",
    "# plt.xlabel('Frequency [Hz]')\n",
    "# plt.ylabel('PSD [V**2/Hz]')\n",
    "# plt.show()\n",
    "\n",
    "# plt.figure(figsize=(8, 6))\n",
    "# f, Pxx_den = signal.welch(both,\n",
    "#                           fs,\n",
    "#                           nperseg=1024,\n",
    "#                           noverlap=0,\n",
    "#                           window='hann',\n",
    "#                           scaling='density',\n",
    "#                           detrend=False)\n",
    "# plt.semilogy(fft.fftshift(f), fft.fftshift(Pxx_den))\n",
    "# plt.xlabel('Frequency [Hz]')\n",
    "# plt.ylabel('PSD [V**2/Hz]')\n",
    "# plt.show()"
   ]
  },
  {
   "cell_type": "code",
   "execution_count": 253,
   "metadata": {
    "ExecuteTime": {
     "end_time": "2020-11-14T13:18:43.206759Z",
     "start_time": "2020-11-14T13:18:43.202435Z"
    }
   },
   "outputs": [],
   "source": [
    "# Scipy Periodigram (Welch without averaging and 0 overlap)\n",
    "\n",
    "# plt.figure(figsize=(8, 6))\n",
    "# f, Pxx_den = signal.periodogram(noise,\n",
    "#                                 fs,\n",
    "#                                 window='hann',\n",
    "#                                 nfft=1024,\n",
    "#                                 scaling='density',\n",
    "#                                 detrend=False)\n",
    "# plt.semilogy(fft.fftshift(f), fft.fftshift(Pxx_den))\n",
    "# plt.xlabel('frequency [Hz]')\n",
    "# plt.ylabel('PSD [V**2/Hz]')\n",
    "# plt.show()\n",
    "\n",
    "# plt.figure(figsize=(8, 6))\n",
    "# f, Pxx_den = signal.periodogram(sig,\n",
    "#                                 fs,\n",
    "#                                 window='hann',\n",
    "#                                 nfft=1024,\n",
    "#                                 scaling='density',\n",
    "#                                 detrend=False)\n",
    "# plt.semilogy(fft.fftshift(f), fft.fftshift(Pxx_den))\n",
    "# plt.xlabel('frequency [Hz]')\n",
    "# plt.ylabel('PSD [V**2/Hz]')\n",
    "# plt.show()\n",
    "\n",
    "# plt.figure(figsize=(8, 6))\n",
    "# f, Pxx_den = signal.periodogram(both,\n",
    "#                                 fs,\n",
    "#                                 window='hann',\n",
    "#                                 nfft=1024,\n",
    "#                                 scaling='density',\n",
    "#                                 detrend=False)\n",
    "# plt.semilogy(fft.fftshift(f), fft.fftshift(Pxx_den))\n",
    "# plt.xlabel('frequency [Hz]')\n",
    "# plt.ylabel('PSD [V**2/Hz]')\n",
    "# plt.show()"
   ]
  },
  {
   "cell_type": "code",
   "execution_count": null,
   "metadata": {},
   "outputs": [],
   "source": [
    "# Scipy Spectogram (Periodigram over time)\n",
    "\n",
    "# plt.figure(figsize=(8, 6))\n",
    "# f, t, Sxx = signal.spectrogram(noise,\n",
    "#                                fs,\n",
    "#                                return_onesided=False,\n",
    "#                                window='boxcar',\n",
    "#                                nperseg=1024,\n",
    "#                                nfft=1024,\n",
    "#                                noverlap=0,\n",
    "#                                detrend=False,\n",
    "#                                scaling='density',\n",
    "#                                mode='psd')\n",
    "# plt.pcolormesh(t,\n",
    "#                fft.fftshift(f),\n",
    "#                fft.fftshift(Sxx, axes=0),\n",
    "#                shading='gouraud')\n",
    "# plt.ylabel('Frequency [Hz]')\n",
    "# plt.xlabel('Time [sec]')\n",
    "# plt.show()\n",
    "\n",
    "# plt.figure(figsize=(8, 6))\n",
    "# f, t, Sxx = signal.spectrogram(sig,\n",
    "#                                fs,\n",
    "#                                return_onesided=False,\n",
    "#                                window='boxcar',\n",
    "#                                nperseg=1024,\n",
    "#                                nfft=1024,\n",
    "#                                noverlap=0,\n",
    "#                                detrend=False,\n",
    "#                                scaling='density',\n",
    "#                                mode='psd')\n",
    "# plt.pcolormesh(t,\n",
    "#                fft.fftshift(f),\n",
    "#                fft.fftshift(Sxx, axes=0),\n",
    "#                shading='gouraud')\n",
    "# plt.ylabel('Frequency [Hz]')\n",
    "# plt.xlabel('Time [sec]')\n",
    "# plt.show()\n",
    "\n",
    "# plt.figure(figsize=(8, 6))\n",
    "# f, t, Sxx = signal.spectrogram(both,\n",
    "#                                fs,\n",
    "#                                return_onesided=False,\n",
    "#                                window='boxcar',\n",
    "#                                nperseg=1024,\n",
    "#                                nfft=1024,\n",
    "#                                noverlap=0,\n",
    "#                                detrend=False,\n",
    "#                                scaling='density',\n",
    "#                                mode='psd')\n",
    "# plt.pcolormesh(t,\n",
    "#                fft.fftshift(f),\n",
    "#                fft.fftshift(Sxx, axes=0),\n",
    "#                shading='gouraud')\n",
    "# plt.ylabel('Frequency [Hz]')\n",
    "# plt.xlabel('Time [sec]')\n",
    "# plt.show()"
   ]
  },
  {
   "cell_type": "code",
   "execution_count": 2,
   "metadata": {
    "ExecuteTime": {
     "end_time": "2020-11-14T19:38:36.926996Z",
     "start_time": "2020-11-14T19:38:36.914911Z"
    }
   },
   "outputs": [],
   "source": [
    "def get_fft_psd(sig, fs, N):\n",
    "    f_tmp = fft.fftfreq(N, 1. / fs)\n",
    "    f = fft.fftshift(f_tmp)\n",
    "    x_tmp = fft.fft(sig)\n",
    "    x = fft.fftshift(x_tmp)\n",
    "    x = np.abs(x)**2. / (N * fs)\n",
    "    return f, x\n",
    "\n",
    "\n",
    "def get_energy_from_psd(psd):\n",
    "    return np.sum(psd)\n",
    "\n",
    "\n",
    "def get_power_from_psd(psd, f):\n",
    "    df = f[1] - f[0]\n",
    "    return np.sum(psd) * df"
   ]
  },
  {
   "cell_type": "code",
   "execution_count": 270,
   "metadata": {
    "ExecuteTime": {
     "end_time": "2020-11-14T19:34:02.708962Z",
     "start_time": "2020-11-14T19:34:02.484825Z"
    }
   },
   "outputs": [
    {
     "name": "stdout",
     "output_type": "stream",
     "text": [
      "Signal power in time 3.990585\n",
      "Signal energy in time from signal power in time 0.523054\n"
     ]
    },
    {
     "data": {
      "image/png": "[encoded data removed]",
      "text/plain": [
       "<Figure size 432x288 with 1 Axes>"
      ]
     },
     "metadata": {
      "needs_background": "light"
     },
     "output_type": "display_data"
    },
    {
     "name": "stdout",
     "output_type": "stream",
     "text": [
      "Signal power from psd 3.990585\n",
      "Signal energy from psd 0.523054\n"
     ]
    }
   ],
   "source": [
    "power_sig_time = signal_power(sig)\n",
    "energy_sig_time_from_power_sig_time = power_sig_time * N * 1. / fs  # where 1./fs=dt and T=(N*1./fs)\n",
    "print('Signal power in time %8.6f' % (power_sig_time))\n",
    "print('Signal energy in time from signal power in time %8.6f' %\n",
    "      (energy_sig_time_from_power_sig_time))\n",
    "\n",
    "f, psd = get_fft_psd(sig, fs, N)\n",
    "plt.semilogy(f, psd)\n",
    "plt.show()\n",
    "\n",
    "print('Signal power from psd %8.6f' % (get_power_from_psd(psd, f)))\n",
    "print('Signal energy from psd %8.6f' % (get_energy_from_psd(psd)))"
   ]
  },
  {
   "cell_type": "code",
   "execution_count": 272,
   "metadata": {
    "ExecuteTime": {
     "end_time": "2020-11-14T19:34:36.112981Z",
     "start_time": "2020-11-14T19:34:35.907008Z"
    }
   },
   "outputs": [
    {
     "data": {
      "image/png": "[encoded data removed]",
      "text/plain": [
       "<Figure size 576x432 with 1 Axes>"
      ]
     },
     "metadata": {
      "needs_background": "light"
     },
     "output_type": "display_data"
    },
    {
     "name": "stdout",
     "output_type": "stream",
     "text": [
      "Signal power from welch 3.990525\n",
      "Signal energy from welch 0.004086\n"
     ]
    }
   ],
   "source": [
    "window_size = 1024\n",
    "\n",
    "plt.figure(figsize=(8, 6))\n",
    "f_welch, psd_welch = signal.welch(sig,\n",
    "                                  fs,\n",
    "                                  window='flattop',\n",
    "                                  nperseg=window_size,\n",
    "                                  noverlap=0,\n",
    "                                  nfft=window_size,\n",
    "                                  detrend=False,\n",
    "                                  scaling='density',\n",
    "                                  return_onesided=False)\n",
    "f_welch = fft.fftshift(f_welch)\n",
    "psd_welch = fft.fftshift(psd_welch)\n",
    "plt.semilogy(f_welch, psd_welch)\n",
    "plt.show()\n",
    "\n",
    "df_welch = f_welch[1] - f_welch[0]\n",
    "welch_power = np.sum(psd_welch) * df_welch\n",
    "print('Signal power from welch %8.6f' % (welch_power))\n",
    "\n",
    "welch_energy = welch_power * 1./fs * window_size\n",
    "print('Signal energy from welch %8.6f' % (welch_energy))"
   ]
  },
  {
   "cell_type": "code",
   "execution_count": null,
   "metadata": {},
   "outputs": [],
   "source": []
  },
  {
   "cell_type": "code",
   "execution_count": 263,
   "metadata": {
    "ExecuteTime": {
     "end_time": "2020-11-14T13:18:58.958807Z",
     "start_time": "2020-11-14T13:18:58.951876Z"
    }
   },
   "outputs": [],
   "source": [
    "def get_stft_psd(sig, fs):\n",
    "    f, t, psd = signal.stft(sig,\n",
    "                            fs,\n",
    "#                             window='box',\n",
    "                            signal.get_window('box', 4096, False),\n",
    "                            nperseg=4096,\n",
    "                            noverlap=0,\n",
    "                            nfft=4096,\n",
    "                            detrend=False,\n",
    "                            return_onesided=False)\n",
    "    f = fft.fftshift(f)\n",
    "    psd = fft.fftshift(psd, axes=0)\n",
    "    psd = np.abs(psd)**2.\n",
    "    return f, t, psd\n",
    "\n",
    "\n",
    "def get_dB(psd):\n",
    "    return 10. * np.log10(psd)\n",
    "\n",
    "\n",
    "def get_power_from_stft(psd, f, t):\n",
    "    return np.sum(psd)\n",
    "\n",
    "\n",
    "def get_energy_from_stft(psd, f, t):\n",
    "    dt = t[-1] - t[0]\n",
    "    return np.sum(psd) * dt"
   ]
  },
  {
   "cell_type": "code",
   "execution_count": 264,
   "metadata": {
    "ExecuteTime": {
     "end_time": "2020-11-14T13:19:00.624786Z",
     "start_time": "2020-11-14T13:19:00.115781Z"
    }
   },
   "outputs": [
    {
     "data": {
      "image/png": "[encoded data removed]",
      "text/plain": [
       "<Figure size 576x432 with 1 Axes>"
      ]
     },
     "metadata": {
      "needs_background": "light"
     },
     "output_type": "display_data"
    },
    {
     "name": "stdout",
     "output_type": "stream",
     "text": [
      "3.9906321594487983\n",
      "1.6331925383486992\n"
     ]
    },
    {
     "data": {
      "image/png": "[encoded data removed]",
      "text/plain": [
       "<Figure size 576x432 with 1 Axes>"
      ]
     },
     "metadata": {
      "needs_background": "light"
     },
     "output_type": "display_data"
    },
    {
     "name": "stdout",
     "output_type": "stream",
     "text": [
      "1.1944797245851784\n"
     ]
    }
   ],
   "source": [
    "#3.99\n",
    "\n",
    "f, t, psd = get_stft_psd(sig, fs) \n",
    "\n",
    "# print('Signal energy from stft %8.6f' % (get_energy_from_stft(psd, f, t)))\n",
    "# print('Signal energy corr from stft %8.6f' % (get_energy_from_stft(psd, f, t)*(1.63**2)))\n",
    "# print('Signal power from stft %8.6f' % (get_power_from_stft(psd, f, t)))\n",
    "# print('Signal power corr from stft %8.6f' % (get_power_from_stft(psd, f, t)*(1.63)))\n",
    "\n",
    "plt.figure(figsize=(8, 6))\n",
    "plt.semilogy(psd[:, 30])\n",
    "plt.show()\n",
    "\n",
    "# print(np.sum(psd[:, 100])/3.77)\n",
    "print(np.sum(psd[:, 30]))\n",
    "\n",
    "w = signal.get_window('hann', 4096, False)\n",
    "plt.figure(figsize=(8, 6))\n",
    "plt.plot(w)\n",
    "corr = 1/(np.sqrt(np.sum(np.abs(w)**2) / 4096))\n",
    "print(corr)\n",
    "w = signal.get_window('flattop', 4096, True)\n",
    "plt.plot(w)\n",
    "plt.show()\n",
    "corr = 1/(np.sqrt(np.sum(np.abs(w)**2) / 1024))\n",
    "print(corr)\n",
    "\n",
    "# g = np.sum(psd, axis=0)\n",
    "# plt.figure(figsize=(8, 6))\n",
    "# plt.plot(g)\n",
    "# plt.show()"
   ]
  },
  {
   "cell_type": "code",
   "execution_count": 259,
   "metadata": {
    "ExecuteTime": {
     "end_time": "2020-11-14T13:18:43.929362Z",
     "start_time": "2020-11-14T13:18:43.927217Z"
    }
   },
   "outputs": [],
   "source": [
    "# f, t, psd = get_stft_psd(noise, fs)\n",
    "# psd = get_dB(psd)\n",
    "# plt.figure(figsize=(8, 6))\n",
    "# plt.pcolormesh(t,\n",
    "#                f,\n",
    "#                psd,\n",
    "#                shading='flat',\n",
    "#                cmap='viridis',\n",
    "#                vmin=np.min(psd),\n",
    "#                vmax=np.max(psd))\n",
    "# plt.title('STFT Magnitude')\n",
    "# plt.ylabel('Frequency [Hz]')\n",
    "# plt.xlabel('Time [sec]')\n",
    "# plt.show()\n",
    "\n",
    "# f, t, psd = get_stft_psd(sig, fs)\n",
    "# psd = get_dB(psd)\n",
    "# plt.figure(figsize=(8, 6))\n",
    "# plt.pcolormesh(t,\n",
    "#                f,\n",
    "#                psd,\n",
    "#                shading='flat',\n",
    "#                cmap='viridis',\n",
    "#                snap=True,\n",
    "#                vmin=np.min(psd),\n",
    "#                vmax=np.max(psd))\n",
    "# plt.title('STFT Magnitude')\n",
    "# plt.ylabel('Frequency [Hz]')\n",
    "# plt.xlabel('Time [sec]')\n",
    "# plt.show()\n",
    "\n",
    "# f, t, psd = get_stft_psd(both, fs)\n",
    "# psd = get_dB(psd)\n",
    "# plt.figure(figsize=(8, 6))\n",
    "# plt.pcolormesh(t,\n",
    "#                f,\n",
    "#                psd,\n",
    "#                shading='flat',\n",
    "#                cmap='viridis',\n",
    "#                vmin=np.min(psd),\n",
    "#                vmax=np.max(psd))\n",
    "# plt.title('STFT Magnitude')\n",
    "# plt.ylabel('Frequency [Hz]')\n",
    "# plt.xlabel('Time [sec]')\n",
    "# plt.show()"
   ]
  },
  {
   "cell_type": "code",
   "execution_count": 260,
   "metadata": {
    "ExecuteTime": {
     "end_time": "2020-11-14T13:18:43.936216Z",
     "start_time": "2020-11-14T13:18:43.930570Z"
    }
   },
   "outputs": [],
   "source": [
    "import scipy.ndimage\n",
    "\n",
    "def clip_2d(x, lim_min, lim_max):\n",
    "    (x, y) = np.shape(Sxx)\n",
    "    for i in range(x):\n",
    "        for j in range(y):\n",
    "            Sxx[i, j] = max(min(Sxx[i, j], lim_max), lim_min)\n",
    "    return Sxx\n",
    "\n",
    "def smooth_2d(x, sigma):\n",
    "    return scipy.ndimage.filters.gaussian_filter(x, [sigma, sigma], mode='mirror')\n",
    "\n",
    "def crop_2d(Sxx, f, t, n):\n",
    "    Sxx = Sxx[n:-n, n:-n]\n",
    "    f = f[n:-n]\n",
    "    t = t[n:-n]\n",
    "    return Sxx, f, t"
   ]
  },
  {
   "cell_type": "code",
   "execution_count": 261,
   "metadata": {
    "ExecuteTime": {
     "end_time": "2020-11-14T13:18:53.840364Z",
     "start_time": "2020-11-14T13:18:43.937372Z"
    }
   },
   "outputs": [
    {
     "data": {
      "image/png": "[encoded data removed]",
      "text/plain": [
       "<Figure size 864x864 with 1 Axes>"
      ]
     },
     "metadata": {
      "needs_background": "light"
     },
     "output_type": "display_data"
    },
    {
     "data": {
      "text/plain": [
       "<Figure size 432x288 with 0 Axes>"
      ]
     },
     "metadata": {},
     "output_type": "display_data"
    }
   ],
   "source": [
    "f, t, Sxx = signal.spectrogram(both, fs, return_onesided=False, window='hann', nperseg=1024, nfft=1024, noverlap=0, detrend=False, scaling='density', mode='psd')\n",
    "\n",
    "f = fft.fftshift(f)\n",
    "Sxx = fft.fftshift(Sxx, axes=0)\n",
    "\n",
    "Sxx = 10.0*np.log10(Sxx)\n",
    "Sxx = clip_2d(Sxx, -60, 0)\n",
    "Sxx = smooth_2d(Sxx, 2)\n",
    "# Sxx, f, t = crop_2d(Sxx, f, t, 4)\n",
    "\n",
    "fig = plt.figure(figsize=(12,12))\n",
    "ax = fig.gca(projection='3d')\n",
    "ax.get_proj = lambda: np.dot(mpl3d.axes3d.Axes3D.get_proj(ax), np.diag([1, 1, 0.5, 1]))\n",
    "ax.plot_surface(f[:, None], t[None, :], Sxx, cmap='viridis', rstride=1, cstride=1, alpha=1, antialiased=True)\n",
    "ax.view_init(elev=30, azim=70)\n",
    "plt.show()\n",
    "plt.savefig('test.png')  "
   ]
  },
  {
   "cell_type": "code",
   "execution_count": 262,
   "metadata": {
    "ExecuteTime": {
     "end_time": "2020-11-14T13:18:53.843482Z",
     "start_time": "2020-11-14T13:18:53.841653Z"
    }
   },
   "outputs": [],
   "source": [
    "# N = 1024\n",
    "# window = signal.hann(N)\n",
    "# # window = np.concatenate((window, np.zeros(100)), axis=0)\n",
    "# # window = np.concatenate((np.zeros(100), window), axis=0)\n",
    "\n",
    "# plt.plot(window)\n",
    "# plt.show()\n",
    "\n",
    "# response = fft.fftshift(fft.fft(window)) #/ (len(window)/2.0)\n",
    "# # freq = np.linspace(-0.5, 0.5, len(A))\n",
    "# response = np.abs(response / abs(response).max())\n",
    "# response = 20 * np.log10(np.maximum(response, 1e-10))\n",
    "# plt.plot(response)\n",
    "# # plt.plot(np.abs(response))\n",
    "# plt.show()\n",
    "\n",
    "# # x = fft.fftshift(fft.fft(window))\n",
    "# # plt.plot(x)\n",
    "# # plt.show()\n",
    "\n",
    "# print(np.sum(np.abs(window)**2))\n",
    "# print(np.sum(np.abs(response)**2)/N)"
   ]
  },
  {
   "cell_type": "code",
   "execution_count": null,
   "metadata": {},
   "outputs": [],
   "source": []
  },
  {
   "cell_type": "code",
   "execution_count": null,
   "metadata": {},
   "outputs": [],
   "source": []
  },
  {
   "cell_type": "code",
   "execution_count": null,
   "metadata": {},
   "outputs": [],
   "source": []
  },
  {
   "cell_type": "code",
   "execution_count": null,
   "metadata": {},
   "outputs": [],
   "source": []
  },
  {
   "cell_type": "code",
   "execution_count": null,
   "metadata": {},
   "outputs": [],
   "source": []
  },
  {
   "cell_type": "code",
   "execution_count": null,
   "metadata": {},
   "outputs": [],
   "source": []
  },
  {
   "cell_type": "code",
   "execution_count": null,
   "metadata": {},
   "outputs": [],
   "source": []
  },
  {
   "cell_type": "code",
   "execution_count": null,
   "metadata": {},
   "outputs": [],
   "source": []
  },
  {
   "cell_type": "code",
   "execution_count": null,
   "metadata": {},
   "outputs": [],
   "source": []
  },
  {
   "cell_type": "code",
   "execution_count": null,
   "metadata": {},
   "outputs": [],
   "source": []
  },
  {
   "cell_type": "code",
   "execution_count": null,
   "metadata": {},
   "outputs": [],
   "source": []
  },
  {
   "cell_type": "code",
   "execution_count": null,
   "metadata": {},
   "outputs": [],
   "source": []
  },
  {
   "cell_type": "code",
   "execution_count": null,
   "metadata": {},
   "outputs": [],
   "source": []
  },
  {
   "cell_type": "code",
   "execution_count": null,
   "metadata": {},
   "outputs": [],
   "source": []
  },
  {
   "cell_type": "code",
   "execution_count": null,
   "metadata": {},
   "outputs": [],
   "source": []
  }
 ],
 "metadata": {
  "kernelspec": {
   "display_name": "Python 3",
   "language": "python",
   "name": "python3"
  },
  "language_info": {
   "codemirror_mode": {
    "name": "ipython",
    "version": 3
   },
   "file_extension": ".py",
   "mimetype": "text/x-python",
   "name": "python",
   "nbconvert_exporter": "python",
   "pygments_lexer": "ipython3",
   "version": "3.6.9"
  },
  "varInspector": {
   "cols": {
    "lenName": 16,
    "lenType": 16,
    "lenVar": 40
   },
   "kernels_config": {
    "python": {
     "delete_cmd_postfix": "",
     "delete_cmd_prefix": "del ",
     "library": "var_list.py",
     "varRefreshCmd": "print(var_dic_list())"
    },
    "r": {
     "delete_cmd_postfix": ") ",
     "delete_cmd_prefix": "rm(",
     "library": "var_list.r",
     "varRefreshCmd": "cat(var_dic_list()) "
    }
   },
   "position": {
    "height": "1009px",
    "left": "1374px",
    "right": "20px",
    "top": "109px",
    "width": "342px"
   },
   "types_to_exclude": [
    "module",
    "function",
    "builtin_function_or_method",
    "instance",
    "_Feature"
   ],
   "window_display": true
  }
 },
 "nbformat": 4,
 "nbformat_minor": 4
}
