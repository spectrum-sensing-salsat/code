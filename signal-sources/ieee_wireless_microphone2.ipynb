{
 "cells": [
  {
   "cell_type": "code",
   "execution_count": 1,
   "metadata": {
    "ExecuteTime": {
     "end_time": "2020-11-16T22:24:25.536881Z",
     "start_time": "2020-11-16T22:24:25.211142Z"
    }
   },
   "outputs": [
    {
     "data": {
      "text/html": [
       "<style>.container { width:100% !important; }</style>"
      ],
      "text/plain": [
       "<IPython.core.display.HTML object>"
      ]
     },
     "metadata": {},
     "output_type": "display_data"
    }
   ],
   "source": [
    "# %matplotlib inline\n",
    "# %matplotlib notebook\n",
    "\n",
    "import numpy as np\n",
    "import matplotlib as mpl\n",
    "import matplotlib.pyplot as plt\n",
    "from mpl_toolkits import mplot3d as mpl3d\n",
    "from matplotlib import cm\n",
    "from scipy import signal\n",
    "from scipy import stats\n",
    "from scipy import linalg\n",
    "from scipy import fft\n",
    "from scipy import io\n",
    "\n",
    "from IPython.core.display import display, HTML\n",
    "display(HTML(\"<style>.container { width:100% !important; }</style>\"))\n",
    "\n",
    "np.random.seed(123)"
   ]
  },
  {
   "cell_type": "code",
   "execution_count": 2,
   "metadata": {
    "ExecuteTime": {
     "end_time": "2020-11-16T22:24:25.542201Z",
     "start_time": "2020-11-16T22:24:25.538161Z"
    }
   },
   "outputs": [],
   "source": [
    "def round_power2(num):\n",
    "    return int(np.power(2., np.ceil(np.log2(num))))\n",
    "\n",
    "\n",
    "def signal_power(x):\n",
    "    #     return np.var(x) # one can also use the variance, iff signal is zero mean\n",
    "    return sum(abs(x)**2.0) / len(x)\n",
    "\n",
    "\n",
    "def signal_power_dB(x):\n",
    "    return 10. * np.log10(signal_power(x))\n",
    "\n",
    "\n",
    "def snr(a, b):\n",
    "    return signal_power(a) / signal_power(b)\n",
    "\n",
    "\n",
    "def snr_dB(a, b):\n",
    "    return 10. * np.log10(snr(a, b))"
   ]
  },
  {
   "cell_type": "code",
   "execution_count": 3,
   "metadata": {
    "ExecuteTime": {
     "end_time": "2020-11-16T22:24:25.549040Z",
     "start_time": "2020-11-16T22:24:25.543679Z"
    }
   },
   "outputs": [],
   "source": [
    "def mic_sig(n, fs, fc, fm, fd, dB=0.):\n",
    "    t = np.arange(n) / fs\n",
    "    x = np.exp(1.j *\n",
    "               (2. * np.pi * fc * t + fd / fm * np.sin(2. * np.pi * fm * t)))\n",
    "    x /= np.std(x)\n",
    "    x *= 10.**(dB / 20.)\n",
    "    return x\n",
    "\n",
    "\n",
    "def awgn(n, dB=0.):\n",
    "    w = 10.**(dB / 10.)\n",
    "    d = stats.multivariate_normal(mean=[0., 0.],\n",
    "                                  cov=[[.5 * w, 0.], [0., .5 * w]])\n",
    "    x = d.rvs(size=n).view(np.complex128).reshape(N)\n",
    "    return x"
   ]
  },
  {
   "cell_type": "code",
   "execution_count": 4,
   "metadata": {
    "ExecuteTime": {
     "end_time": "2020-11-16T22:24:25.567141Z",
     "start_time": "2020-11-16T22:24:25.550204Z"
    }
   },
   "outputs": [
    {
     "name": "stdout",
     "output_type": "stream",
     "text": [
      "Sample time   0.13107s\n"
     ]
    }
   ],
   "source": [
    "N = round_power2(1e5)\n",
    "fs = int(1e6)\n",
    "fc = 1e5\n",
    "fd = 15000.\n",
    "fm = 3900.\n",
    "\n",
    "sig = mic_sig(N, fs, fc=fc, fm=fm, fd=fd, dB=0.) \n",
    "# + mic_sig(\n",
    "#     N, fs, fc=fc - 1e5, fm=fm + 1000, fd=fd, dB=0.) + mic_sig(\n",
    "#         N, fs, fc=fc + 2e5, fm=fm + 1000, fd=fd, dB=-2.) + mic_sig(\n",
    "#             N, fs, fc=fc - 3e5, fm=fm + 1000, fd=fd, dB=-2.)\n",
    "# # sig = mic_sig(N, fs, fc=fc-1e5, fm=fm+1000, fd=fd, dB=3.)\n",
    "# noise = awgn(N, dB=15.)\n",
    "# both = sig + noise\n",
    "\n",
    "print('Sample time %9.5fs' % (N / fs))\n",
    "# print('Signal power: %4.2f dB' % (signal_power_dB(sig)))\n",
    "# print('Noise power: %5.2f dB' % (signal_power_dB(noise)))\n",
    "# print('SNR: %13.2f dB' % (snr_dB(sig, noise)))"
   ]
  },
  {
   "cell_type": "code",
   "execution_count": 5,
   "metadata": {
    "ExecuteTime": {
     "end_time": "2020-11-16T22:24:25.751699Z",
     "start_time": "2020-11-16T22:24:25.568514Z"
    }
   },
   "outputs": [
    {
     "data": {
      "image/png": "[encoded data removed]",
      "text/plain": [
       "<Figure size 576x432 with 1 Axes>"
      ]
     },
     "metadata": {
      "needs_background": "light"
     },
     "output_type": "display_data"
    }
   ],
   "source": [
    "# Matplotlib Spectogram\n",
    "\n",
    "# plt.figure(figsize=(8, 6))\n",
    "# plt.specgram(noise,\n",
    "#              NFFT=1024,\n",
    "#              Fs=fs,\n",
    "#              scale='dB',\n",
    "#              cmap='viridis',\n",
    "#              noverlap=0,\n",
    "#              mode='psd',\n",
    "#              window=signal.get_window('hann', 1024))\n",
    "# plt.title(\"PSD\")\n",
    "# plt.xlabel(\"Time\")\n",
    "# plt.ylabel(\"Frequency\")\n",
    "# plt.show()\n",
    "\n",
    "plt.figure(figsize=(8, 6))\n",
    "plt.specgram(sig,\n",
    "             NFFT=1024,\n",
    "             Fs=fs,\n",
    "             scale='dB',\n",
    "             cmap='viridis',\n",
    "             noverlap=0,\n",
    "             mode='psd',\n",
    "             window=signal.get_window('hann', 1024))\n",
    "plt.title(\"PSD\")\n",
    "plt.xlabel(\"Time\")\n",
    "plt.ylabel(\"Frequency\")\n",
    "plt.show()\n",
    "\n",
    "# plt.figure(figsize=(8, 6))\n",
    "# plt.specgram(both,\n",
    "#              NFFT=1024,\n",
    "#              Fs=fs,\n",
    "#              scale='dB',\n",
    "#              cmap='viridis',\n",
    "#              noverlap=0,\n",
    "#              mode='psd',\n",
    "#              window=signal.get_window('hann', 1024))\n",
    "# plt.title(\"PSD\")\n",
    "# plt.xlabel(\"Time\")\n",
    "# plt.ylabel(\"Frequency\")\n",
    "# plt.show()"
   ]
  },
  {
   "cell_type": "code",
   "execution_count": 6,
   "metadata": {
    "ExecuteTime": {
     "end_time": "2020-11-16T22:24:25.755121Z",
     "start_time": "2020-11-16T22:24:25.752986Z"
    }
   },
   "outputs": [],
   "source": [
    "# Scipy Welch (Periodigram with averaging and overlap, which is currently 0)\n",
    "\n",
    "# plt.figure(figsize=(8, 6))\n",
    "# f, Pxx_den = signal.welch(noise,\n",
    "#                           fs,\n",
    "#                           nperseg=1024,\n",
    "#                           noverlap=0,\n",
    "#                           window='hann',\n",
    "#                           scaling='density',\n",
    "#                           detrend=False)\n",
    "# plt.semilogy(fft.fftshift(f), fft.fftshift(Pxx_den))\n",
    "# plt.xlabel('Frequency [Hz]')\n",
    "# plt.ylabel('PSD [V**2/Hz]')\n",
    "# plt.show()\n",
    "\n",
    "# plt.figure(figsize=(8, 6))\n",
    "# f, Pxx_den = signal.welch(sig,\n",
    "#                           fs,\n",
    "#                           nperseg=1024,\n",
    "#                           noverlap=0,\n",
    "#                           window='hann',\n",
    "#                           scaling='density',\n",
    "#                           detrend=False)\n",
    "# plt.semilogy(fft.fftshift(f), fft.fftshift(Pxx_den))\n",
    "# plt.xlabel('Frequency [Hz]')\n",
    "# plt.ylabel('PSD [V**2/Hz]')\n",
    "# plt.show()\n",
    "\n",
    "# plt.figure(figsize=(8, 6))\n",
    "# f, Pxx_den = signal.welch(both,\n",
    "#                           fs,\n",
    "#                           nperseg=1024,\n",
    "#                           noverlap=0,\n",
    "#                           window='hann',\n",
    "#                           scaling='density',\n",
    "#                           detrend=False)\n",
    "# plt.semilogy(fft.fftshift(f), fft.fftshift(Pxx_den))\n",
    "# plt.xlabel('Frequency [Hz]')\n",
    "# plt.ylabel('PSD [V**2/Hz]')\n",
    "# plt.show()"
   ]
  },
  {
   "cell_type": "code",
   "execution_count": 7,
   "metadata": {
    "ExecuteTime": {
     "end_time": "2020-11-16T22:24:25.760211Z",
     "start_time": "2020-11-16T22:24:25.756402Z"
    }
   },
   "outputs": [],
   "source": [
    "# Scipy Periodigram (Welch without averaging and 0 overlap)\n",
    "\n",
    "# plt.figure(figsize=(8, 6))\n",
    "# f, Pxx_den = signal.periodogram(noise,\n",
    "#                                 fs,\n",
    "#                                 window='hann',\n",
    "#                                 nfft=1024,\n",
    "#                                 scaling='density',\n",
    "#                                 detrend=False)\n",
    "# plt.semilogy(fft.fftshift(f), fft.fftshift(Pxx_den))\n",
    "# plt.xlabel('frequency [Hz]')\n",
    "# plt.ylabel('PSD [V**2/Hz]')\n",
    "# plt.show()\n",
    "\n",
    "# plt.figure(figsize=(8, 6))\n",
    "# f, Pxx_den = signal.periodogram(sig,\n",
    "#                                 fs,\n",
    "#                                 window='hann',\n",
    "#                                 nfft=1024,\n",
    "#                                 scaling='density',\n",
    "#                                 detrend=False)\n",
    "# plt.semilogy(fft.fftshift(f), fft.fftshift(Pxx_den))\n",
    "# plt.xlabel('frequency [Hz]')\n",
    "# plt.ylabel('PSD [V**2/Hz]')\n",
    "# plt.show()\n",
    "\n",
    "# plt.figure(figsize=(8, 6))\n",
    "# f, Pxx_den = signal.periodogram(both,\n",
    "#                                 fs,\n",
    "#                                 window='hann',\n",
    "#                                 nfft=1024,\n",
    "#                                 scaling='density',\n",
    "#                                 detrend=False)\n",
    "# plt.semilogy(fft.fftshift(f), fft.fftshift(Pxx_den))\n",
    "# plt.xlabel('frequency [Hz]')\n",
    "# plt.ylabel('PSD [V**2/Hz]')\n",
    "# plt.show()"
   ]
  },
  {
   "cell_type": "code",
   "execution_count": 8,
   "metadata": {
    "ExecuteTime": {
     "end_time": "2020-11-16T22:24:25.764881Z",
     "start_time": "2020-11-16T22:24:25.762005Z"
    }
   },
   "outputs": [],
   "source": [
    "# Scipy Spectogram (Periodigram over time)\n",
    "\n",
    "# plt.figure(figsize=(8, 6))\n",
    "# f, t, Sxx = signal.spectrogram(noise,\n",
    "#                                fs,\n",
    "#                                return_onesided=False,\n",
    "#                                window='boxcar',\n",
    "#                                nperseg=1024,\n",
    "#                                nfft=1024,\n",
    "#                                noverlap=0,\n",
    "#                                detrend=False,\n",
    "#                                scaling='density',\n",
    "#                                mode='psd')\n",
    "# plt.pcolormesh(t,\n",
    "#                fft.fftshift(f),\n",
    "#                fft.fftshift(Sxx, axes=0),\n",
    "#                shading='gouraud')\n",
    "# plt.ylabel('Frequency [Hz]')\n",
    "# plt.xlabel('Time [sec]')\n",
    "# plt.show()\n",
    "\n",
    "# plt.figure(figsize=(8, 6))\n",
    "# f, t, Sxx = signal.spectrogram(sig,\n",
    "#                                fs,\n",
    "#                                return_onesided=False,\n",
    "#                                window='boxcar',\n",
    "#                                nperseg=1024,\n",
    "#                                nfft=1024,\n",
    "#                                noverlap=0,\n",
    "#                                detrend=False,\n",
    "#                                scaling='density',\n",
    "#                                mode='psd')\n",
    "# plt.pcolormesh(t,\n",
    "#                fft.fftshift(f),\n",
    "#                fft.fftshift(Sxx, axes=0),\n",
    "#                shading='gouraud')\n",
    "# plt.ylabel('Frequency [Hz]')\n",
    "# plt.xlabel('Time [sec]')\n",
    "# plt.show()\n",
    "\n",
    "# plt.figure(figsize=(8, 6))\n",
    "# f, t, Sxx = signal.spectrogram(both,\n",
    "#                                fs,\n",
    "#                                return_onesided=False,\n",
    "#                                window='boxcar',\n",
    "#                                nperseg=1024,\n",
    "#                                nfft=1024,\n",
    "#                                noverlap=0,\n",
    "#                                detrend=False,\n",
    "#                                scaling='density',\n",
    "#                                mode='psd')\n",
    "# plt.pcolormesh(t,\n",
    "#                fft.fftshift(f),\n",
    "#                fft.fftshift(Sxx, axes=0),\n",
    "#                shading='gouraud')\n",
    "# plt.ylabel('Frequency [Hz]')\n",
    "# plt.xlabel('Time [sec]')\n",
    "# plt.show()"
   ]
  },
  {
   "cell_type": "code",
   "execution_count": 9,
   "metadata": {
    "ExecuteTime": {
     "end_time": "2020-11-16T22:24:25.770019Z",
     "start_time": "2020-11-16T22:24:25.766247Z"
    }
   },
   "outputs": [],
   "source": [
    "def get_fft_psd(sig, fs, N):\n",
    "    assert N == len(sig) \n",
    "    f_tmp = fft.fftfreq(N, 1. / fs)\n",
    "    f = fft.fftshift(f_tmp)\n",
    "    x_tmp = fft.fft(sig)\n",
    "    x = fft.fftshift(x_tmp)\n",
    "    x = np.abs(x)**2. / (N * fs)\n",
    "    return f, x\n",
    "\n",
    "\n",
    "def get_energy_from_psd(psd):\n",
    "    return np.sum(psd)\n",
    "\n",
    "\n",
    "def get_power_from_psd(psd, f):\n",
    "    df = f[1] - f[0]\n",
    "    return np.sum(psd) * df"
   ]
  },
  {
   "cell_type": "code",
   "execution_count": 10,
   "metadata": {
    "ExecuteTime": {
     "end_time": "2020-11-16T22:24:26.216883Z",
     "start_time": "2020-11-16T22:24:25.771203Z"
    }
   },
   "outputs": [
    {
     "name": "stdout",
     "output_type": "stream",
     "text": [
      "Signal power in time 1.000000\n",
      "Signal energy in time from signal power in time 0.131072\n"
     ]
    },
    {
     "data": {
      "image/png": "[encoded data removed]",
      "text/plain": [
       "<Figure size 576x432 with 1 Axes>"
      ]
     },
     "metadata": {
      "needs_background": "light"
     },
     "output_type": "display_data"
    },
    {
     "data": {
      "text/plain": [
       "<Figure size 576x432 with 0 Axes>"
      ]
     },
     "metadata": {},
     "output_type": "display_data"
    },
    {
     "name": "stdout",
     "output_type": "stream",
     "text": [
      "Signal power from psd 1.000000\n",
      "Signal energy from psd 0.131072\n"
     ]
    },
    {
     "data": {
      "text/plain": [
       "0.13107000003084252"
      ]
     },
     "execution_count": 10,
     "metadata": {},
     "output_type": "execute_result"
    }
   ],
   "source": [
    "power_sig_time = signal_power(sig)\n",
    "energy_sig_time_from_power_sig_time = power_sig_time * N * 1. / fs  # where 1./fs=dt and T=(N*1./fs)\n",
    "print('Signal power in time %8.6f' % (power_sig_time))\n",
    "print('Signal energy in time from signal power in time %8.6f' %\n",
    "      (energy_sig_time_from_power_sig_time))\n",
    "\n",
    "plt.figure(figsize=(8, 6))\n",
    "f, psd = get_fft_psd(sig, fs, N)\n",
    "plt.semilogy(f, psd)\n",
    "plt.show()\n",
    "plt.figure(figsize=(8, 6))\n",
    "# psd_log = 10. * np.log10(psd)\n",
    "# psd_log = psd\n",
    "# plt.plot(f, psd_log)\n",
    "plt.show()\n",
    "\n",
    "print('Signal power from psd %8.6f' % (get_power_from_psd(psd, f)))\n",
    "print('Signal energy from psd %8.6f' % (get_energy_from_psd(psd)))\n",
    "\n",
    "get_power_from_psd(psd, f) * 0.13107"
   ]
  },
  {
   "cell_type": "code",
   "execution_count": 11,
   "metadata": {
    "ExecuteTime": {
     "end_time": "2020-11-16T22:24:26.219920Z",
     "start_time": "2020-11-16T22:24:26.218078Z"
    }
   },
   "outputs": [],
   "source": [
    "# window_size = 1024\n",
    "\n",
    "# sig1 = sig[0:1024]\n",
    "# plt.figure(figsize=(8, 6))\n",
    "# f_welch, psd_welch = signal.welch(sig1,\n",
    "#                                   fs,\n",
    "#                                   window='flattop',\n",
    "#                                   nperseg=window_size,\n",
    "#                                   noverlap=0,\n",
    "#                                   nfft=window_size,\n",
    "#                                   detrend=False,\n",
    "#                                   scaling='density',\n",
    "#                                   return_onesided=False)\n",
    "# f_welch = fft.fftshift(f_welch)\n",
    "# psd_welch = fft.fftshift(psd_welch)\n",
    "# plt.figure(figsize=(8, 6))\n",
    "# # plt.semilogy(f_welch, psd_welch)\n",
    "# plt.plot(f_welch, psd_welch)\n",
    "# plt.show()\n",
    "\n",
    "# df_welch = f_welch[1] - f_welch[0]\n",
    "# welch_power = np.sum(psd_welch) * df_welch\n",
    "# print('Signal power from welch %8.6f' % (welch_power))\n",
    "\n",
    "# welch_energy = welch_power * 1./fs * window_size\n",
    "# print('Signal energy from welch %8.6f' % (welch_energy))"
   ]
  },
  {
   "cell_type": "code",
   "execution_count": 12,
   "metadata": {
    "ExecuteTime": {
     "end_time": "2020-11-16T22:24:26.284564Z",
     "start_time": "2020-11-16T22:24:26.221162Z"
    }
   },
   "outputs": [
    {
     "ename": "NameError",
     "evalue": "name 'both' is not defined",
     "output_type": "error",
     "traceback": [
      "\u001b[0;31m---------------------------------------------------------------------------\u001b[0m",
      "\u001b[0;31mNameError\u001b[0m                                 Traceback (most recent call last)",
      "\u001b[0;32m<ipython-input-12-c706808d9505>\u001b[0m in \u001b[0;36m<module>\u001b[0;34m\u001b[0m\n\u001b[1;32m     56\u001b[0m \u001b[0;34m\u001b[0m\u001b[0m\n\u001b[1;32m     57\u001b[0m \u001b[0msft\u001b[0m \u001b[0;34m=\u001b[0m \u001b[0mStft\u001b[0m\u001b[0;34m(\u001b[0m\u001b[0mn\u001b[0m\u001b[0;34m=\u001b[0m\u001b[0;36m1024\u001b[0m\u001b[0;34m,\u001b[0m \u001b[0mwindow\u001b[0m\u001b[0;34m=\u001b[0m\u001b[0;34m'flattop'\u001b[0m\u001b[0;34m)\u001b[0m\u001b[0;34m\u001b[0m\u001b[0;34m\u001b[0m\u001b[0m\n\u001b[0;32m---> 58\u001b[0;31m \u001b[0mf\u001b[0m\u001b[0;34m,\u001b[0m \u001b[0mt\u001b[0m\u001b[0;34m,\u001b[0m \u001b[0mx\u001b[0m \u001b[0;34m=\u001b[0m \u001b[0msft\u001b[0m\u001b[0;34m.\u001b[0m\u001b[0mspectogram\u001b[0m\u001b[0;34m(\u001b[0m\u001b[0mboth\u001b[0m\u001b[0;34m,\u001b[0m \u001b[0mfs\u001b[0m\u001b[0;34m,\u001b[0m \u001b[0;32mFalse\u001b[0m\u001b[0;34m)\u001b[0m\u001b[0;34m\u001b[0m\u001b[0;34m\u001b[0m\u001b[0m\n\u001b[0m\u001b[1;32m     59\u001b[0m \u001b[0;34m\u001b[0m\u001b[0m\n\u001b[1;32m     60\u001b[0m \u001b[0mplt\u001b[0m\u001b[0;34m.\u001b[0m\u001b[0mfigure\u001b[0m\u001b[0;34m(\u001b[0m\u001b[0mfigsize\u001b[0m\u001b[0;34m=\u001b[0m\u001b[0;34m(\u001b[0m\u001b[0;36m8\u001b[0m\u001b[0;34m,\u001b[0m \u001b[0;36m6\u001b[0m\u001b[0;34m)\u001b[0m\u001b[0;34m)\u001b[0m\u001b[0;34m\u001b[0m\u001b[0;34m\u001b[0m\u001b[0m\n",
      "\u001b[0;31mNameError\u001b[0m: name 'both' is not defined"
     ]
    }
   ],
   "source": [
    "\n",
    "class Stft:\n",
    "    \n",
    "    def __init__(self, n=1024, window='flattop'):\n",
    "        assert self.is_power2(n)\n",
    "        self.n = n\n",
    "        self.window = signal.get_window(window, self.n)\n",
    "        \n",
    "    def is_power2(self, n):\n",
    "        '''Check least significant bit for power of two.'''\n",
    "        return (n != 0) and (n & (n-1) == 0)\n",
    "    \n",
    "    def fft(self, sig, fs):\n",
    "        '''Compute FFT and spectrum shifted to natural order.'''\n",
    "        dt = 1./fs\n",
    "        f = fft.fftshift(fft.fftfreq(len(sig), dt))\n",
    "        s = fft.fftshift(fft.fft(sig))\n",
    "        return f, s\n",
    "\n",
    "    def apply_window(self, sig):\n",
    "        return sig * self.window\n",
    "    \n",
    "    def stft_helper(self, sig, fs):\n",
    "        return self.fft(self.apply_window(sig), fs)\n",
    "    \n",
    "    def stft(self, sig, fs):\n",
    "        segs = [sig[i:i + self.n] for i in range(0, len(sig), self.n)]\n",
    "        for i in segs:\n",
    "            f, x = self.stft_helper(i, fs)\n",
    "            yield f, x\n",
    "            \n",
    "    def apply_psd(self, sig, fs):\n",
    "#         return np.abs(sig)**2. / (len(sig) * fs)\n",
    "        return np.abs(sig)**2. / (fs * (self.window**2).sum())\n",
    "\n",
    "    def dB(self, psd):\n",
    "        return 10. * np.log10(psd)\n",
    "\n",
    "    def psd(self, sig, fs):\n",
    "        for f, x in self.stft(sig, fs):\n",
    "            yield f, self.apply_psd(x, fs)\n",
    "        \n",
    "    def spectogram(self, sig, fs, dB=True):\n",
    "        tl = list()\n",
    "        xl = list()\n",
    "        i = 0\n",
    "        for f, x in self.psd(sig, fs):\n",
    "            tl.append(i*self.n*1./fs)\n",
    "            i += 1\n",
    "            if dB:\n",
    "                xl.append(self.dB(x))\n",
    "            else:\n",
    "                xl.append(x)\n",
    "        xl = np.swapaxes(xl, 0, 1)\n",
    "        return f, tl, xl\n",
    "\n",
    "\n",
    "sft = Stft(n=1024, window='flattop')\n",
    "f, t, x = sft.spectogram(both, fs, False)\n",
    "\n",
    "plt.figure(figsize=(8, 6))\n",
    "plt.semilogy(f, x[:, 2])\n",
    "# plt.plot(f, x[:, 2])\n",
    "# plt.plot(150000, 10e-14, 'x')\n",
    "plt.show()\n",
    "\n",
    "# plt.figure(figsize=(8, 6))\n",
    "# plt.pcolormesh(t,\n",
    "#                f,\n",
    "#                x,\n",
    "#                shading='flat',\n",
    "#                cmap='viridis',\n",
    "#                snap=True,\n",
    "#                vmin=np.min(x),\n",
    "#                vmax=np.max(x))\n",
    "# plt.title('STFT Magnitude')\n",
    "# plt.ylabel('Frequency [Hz]')\n",
    "# plt.xlabel('Time [sec]')\n",
    "# plt.show()"
   ]
  },
  {
   "cell_type": "code",
   "execution_count": null,
   "metadata": {
    "ExecuteTime": {
     "end_time": "2020-11-16T22:24:26.286721Z",
     "start_time": "2020-11-16T22:24:25.249Z"
    }
   },
   "outputs": [],
   "source": [
    "class ED:\n",
    "        \n",
    "    def __init__(self, num_bands, fs, fft_len, f):\n",
    "        self.num_bands = num_bands\n",
    "        self.fft_len = fft_len\n",
    "        self.di = fft_len / num_bands\n",
    "        self.df = f[1] - f[0]\n",
    "        self.fs = fs\n",
    "        self.f = f\n",
    "        assert self.df == (self.fs/self.fft_len)\n",
    "        \n",
    "    def energy(self, ps):\n",
    "        return np.sum(np.abs(ps) ** 2)/self.fs\n",
    "    \n",
    "    def segs(self, ps):\n",
    "        f_segs = list()\n",
    "        ps_segs = list()\n",
    "        for i in range(int(self.num_bands)):\n",
    "            idx1 = int(i*self.di)\n",
    "            idx2 = int((i+1)*self.di)\n",
    "            f_segs.append(self.f[idx1:idx2])\n",
    "            ps_segs.append(ps[idx1:idx2])\n",
    "        return f_segs, ps_segs\n",
    "    \n",
    "    def detect(self, ps):\n",
    "        f_segs, ps_segs = self.segs(ps)\n",
    "        en_segs = list()\n",
    "        for i in range(int(self.num_bands)):\n",
    "            plt.figure(figsize=(8, 6))\n",
    "            plt.semilogy(f_segs[i], ps_segs[i])\n",
    "            plt.show()\n",
    "            en_segs.append(self.energy(ps_segs[i]))\n",
    "        return en_segs\n",
    "    \n",
    "    \n",
    "ed = ED(num_bands=8, fs=fs, fft_len=1024, f=f)\n",
    "en = ed.detect(x[:, 2])\n",
    "\n",
    "plt.figure(figsize=(8, 6))\n",
    "plt.plot(en)\n",
    "plt.show()"
   ]
  },
  {
   "cell_type": "code",
   "execution_count": null,
   "metadata": {
    "ExecuteTime": {
     "end_time": "2020-11-16T22:24:26.287714Z",
     "start_time": "2020-11-16T22:24:25.251Z"
    }
   },
   "outputs": [],
   "source": [
    "import scipy.ndimage\n",
    "\n",
    "def clip_2d(x, lim_min, lim_max):\n",
    "    (x, y) = np.shape(Sxx)\n",
    "    for i in range(x):\n",
    "        for j in range(y):\n",
    "            Sxx[i, j] = max(min(Sxx[i, j], lim_max), lim_min)\n",
    "    return Sxx\n",
    "\n",
    "def smooth_2d(x, sigma):\n",
    "    return scipy.ndimage.filters.gaussian_filter(x, [sigma, sigma], mode='mirror')\n",
    "\n",
    "def crop_2d(Sxx, f, t, n):\n",
    "    Sxx = Sxx[n:-n, n:-n]\n",
    "    f = f[n:-n]\n",
    "    t = t[n:-n]\n",
    "    return Sxx, f, t"
   ]
  },
  {
   "cell_type": "code",
   "execution_count": null,
   "metadata": {
    "ExecuteTime": {
     "end_time": "2020-11-16T22:24:26.288807Z",
     "start_time": "2020-11-16T22:24:25.253Z"
    }
   },
   "outputs": [],
   "source": [
    "f, t, Sxx = signal.spectrogram(both, fs, return_onesided=False, window='hann', nperseg=1024, nfft=1024, noverlap=0, detrend=False, scaling='density', mode='psd')\n",
    "\n",
    "f = fft.fftshift(f)\n",
    "Sxx = fft.fftshift(Sxx, axes=0)\n",
    "\n",
    "Sxx = 10.0*np.log10(Sxx)\n",
    "Sxx = clip_2d(Sxx, -60, 0)\n",
    "Sxx = smooth_2d(Sxx, 2)\n",
    "# Sxx, f, t = crop_2d(Sxx, f, t, 4)\n",
    "\n",
    "fig = plt.figure(figsize=(12,12))\n",
    "ax = fig.gca(projection='3d')\n",
    "# ax.get_proj = lambda: np.dot(mpl3d.axes3d.Axes3D.get_proj(ax), np.diag([1, 1, 0.5, 1]))\n",
    "ax.plot_surface(f[:, None], t[None, :], Sxx, cmap='viridis', rstride=1, cstride=1, alpha=1, antialiased=True)\n",
    "ax.view_init(elev=30, azim=70)\n",
    "plt.show()\n",
    "plt.savefig('test.png')  "
   ]
  },
  {
   "cell_type": "code",
   "execution_count": null,
   "metadata": {},
   "outputs": [],
   "source": []
  },
  {
   "cell_type": "code",
   "execution_count": null,
   "metadata": {},
   "outputs": [],
   "source": []
  },
  {
   "cell_type": "code",
   "execution_count": null,
   "metadata": {},
   "outputs": [],
   "source": []
  },
  {
   "cell_type": "code",
   "execution_count": null,
   "metadata": {},
   "outputs": [],
   "source": []
  },
  {
   "cell_type": "code",
   "execution_count": null,
   "metadata": {},
   "outputs": [],
   "source": []
  },
  {
   "cell_type": "code",
   "execution_count": null,
   "metadata": {},
   "outputs": [],
   "source": []
  },
  {
   "cell_type": "code",
   "execution_count": null,
   "metadata": {},
   "outputs": [],
   "source": []
  },
  {
   "cell_type": "code",
   "execution_count": null,
   "metadata": {},
   "outputs": [],
   "source": []
  },
  {
   "cell_type": "code",
   "execution_count": null,
   "metadata": {},
   "outputs": [],
   "source": []
  },
  {
   "cell_type": "code",
   "execution_count": null,
   "metadata": {},
   "outputs": [],
   "source": []
  },
  {
   "cell_type": "code",
   "execution_count": null,
   "metadata": {},
   "outputs": [],
   "source": []
  },
  {
   "cell_type": "code",
   "execution_count": null,
   "metadata": {},
   "outputs": [],
   "source": []
  },
  {
   "cell_type": "code",
   "execution_count": null,
   "metadata": {},
   "outputs": [],
   "source": []
  },
  {
   "cell_type": "code",
   "execution_count": null,
   "metadata": {},
   "outputs": [],
   "source": []
  },
  {
   "cell_type": "code",
   "execution_count": null,
   "metadata": {},
   "outputs": [],
   "source": []
  }
 ],
 "metadata": {
  "kernelspec": {
   "display_name": "Python 3",
   "language": "python",
   "name": "python3"
  },
  "language_info": {
   "codemirror_mode": {
    "name": "ipython",
    "version": 3
   },
   "file_extension": ".py",
   "mimetype": "text/x-python",
   "name": "python",
   "nbconvert_exporter": "python",
   "pygments_lexer": "ipython3",
   "version": "3.6.9"
  },
  "varInspector": {
   "cols": {
    "lenName": 16,
    "lenType": 16,
    "lenVar": 40
   },
   "kernels_config": {
    "python": {
     "delete_cmd_postfix": "",
     "delete_cmd_prefix": "del ",
     "library": "var_list.py",
     "varRefreshCmd": "print(var_dic_list())"
    },
    "r": {
     "delete_cmd_postfix": ") ",
     "delete_cmd_prefix": "rm(",
     "library": "var_list.r",
     "varRefreshCmd": "cat(var_dic_list()) "
    }
   },
   "oldHeight": 987,
   "position": {
    "height": "40px",
    "left": "1155px",
    "right": "20px",
    "top": "73px",
    "width": "544px"
   },
   "types_to_exclude": [
    "module",
    "function",
    "builtin_function_or_method",
    "instance",
    "_Feature"
   ],
   "varInspector_section_display": "none",
   "window_display": false
  }
 },
 "nbformat": 4,
 "nbformat_minor": 4
}
