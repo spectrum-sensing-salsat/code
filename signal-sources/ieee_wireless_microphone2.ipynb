{
 "cells": [
  {
   "cell_type": "code",
   "execution_count": 1,
   "metadata": {
    "ExecuteTime": {
     "end_time": "2020-11-15T00:11:04.842617Z",
     "start_time": "2020-11-15T00:11:04.515384Z"
    }
   },
   "outputs": [
    {
     "data": {
      "text/html": [
       "<style>.container { width:100% !important; }</style>"
      ],
      "text/plain": [
       "<IPython.core.display.HTML object>"
      ]
     },
     "metadata": {},
     "output_type": "display_data"
    }
   ],
   "source": [
    "# %matplotlib inline\n",
    "# %matplotlib notebook\n",
    "\n",
    "import numpy as np\n",
    "import matplotlib as mpl\n",
    "import matplotlib.pyplot as plt\n",
    "from mpl_toolkits import mplot3d as mpl3d\n",
    "from matplotlib import cm\n",
    "from scipy import signal\n",
    "from scipy import stats\n",
    "from scipy import linalg\n",
    "from scipy import fft\n",
    "from scipy import io\n",
    "\n",
    "from IPython.core.display import display, HTML\n",
    "display(HTML(\"<style>.container { width:100% !important; }</style>\"))\n",
    "\n",
    "np.random.seed(123)"
   ]
  },
  {
   "cell_type": "code",
   "execution_count": 2,
   "metadata": {
    "ExecuteTime": {
     "end_time": "2020-11-15T00:11:04.847981Z",
     "start_time": "2020-11-15T00:11:04.843879Z"
    }
   },
   "outputs": [],
   "source": [
    "def round_power2(num):\n",
    "    return int(np.power(2., np.ceil(np.log2(num))))\n",
    "\n",
    "\n",
    "def signal_power(x):\n",
    "    #     return np.var(x) # one can also use the variance, iff all signals are zero mean\n",
    "    return sum(abs(x)**2.0) / len(x)\n",
    "\n",
    "\n",
    "def signal_power_dB(x):\n",
    "    return 10. * np.log10(signal_power(x))\n",
    "\n",
    "\n",
    "def snr(a, b):\n",
    "    return signal_power(a) / signal_power(b)\n",
    "\n",
    "\n",
    "def snr_dB(a, b):\n",
    "    return 10. * np.log10(snr(a, b))"
   ]
  },
  {
   "cell_type": "code",
   "execution_count": 3,
   "metadata": {
    "ExecuteTime": {
     "end_time": "2020-11-15T00:11:04.853704Z",
     "start_time": "2020-11-15T00:11:04.849400Z"
    }
   },
   "outputs": [],
   "source": [
    "def mic_sig(n, fs, fc, fm, fd, dB=0.):\n",
    "    t = np.arange(n) / fs\n",
    "    x = np.exp(1.j *\n",
    "               (2. * np.pi * fc * t + fd / fm * np.sin(2. * np.pi * fm * t)))\n",
    "    x /= np.std(x)\n",
    "    x *= 10.**(dB / 20.)\n",
    "    return x\n",
    "\n",
    "\n",
    "def awgn(n, dB=0.):\n",
    "    w = 10.**(dB / 10.)\n",
    "    d = stats.multivariate_normal(mean=[0., 0.],\n",
    "                                  cov=[[.5 * w, 0.], [0., .5 * w]])\n",
    "    x = d.rvs(size=n).view(np.complex128).reshape(N)\n",
    "    return x"
   ]
  },
  {
   "cell_type": "code",
   "execution_count": 4,
   "metadata": {
    "ExecuteTime": {
     "end_time": "2020-11-15T00:11:05.019730Z",
     "start_time": "2020-11-15T00:11:04.854976Z"
    }
   },
   "outputs": [
    {
     "name": "stdout",
     "output_type": "stream",
     "text": [
      "Signal power:  6.01 dB\n",
      "Noise power:  9.98 dB\n",
      "SNR: -3.97 dB\n"
     ]
    }
   ],
   "source": [
    "N = round_power2(1e5)\n",
    "fs = int(1e6)\n",
    "fc = int(2e5)\n",
    "fd = 15000.\n",
    "fm = 3900.\n",
    "\n",
    "sig = mic_sig(N, fs, fc=fc, fm=fm, fd=fd, dB=3.) + mic_sig(N, fs, fc=fc-1e5, fm=fm+1000, fd=fd, dB=3.)\n",
    "noise = awgn(N, dB=10.)\n",
    "both = sig + noise\n",
    "\n",
    "print('Signal power: %5.2f dB' % (signal_power_dB(sig)))\n",
    "print('Noise power: %5.2f dB' % (signal_power_dB(noise)))\n",
    "print('SNR: %5.2f dB' % (snr_dB(sig, noise)))"
   ]
  },
  {
   "cell_type": "code",
   "execution_count": 5,
   "metadata": {
    "ExecuteTime": {
     "end_time": "2020-11-15T00:11:05.023032Z",
     "start_time": "2020-11-15T00:11:05.020893Z"
    }
   },
   "outputs": [],
   "source": [
    "# Matplotlib Spectogram\n",
    "\n",
    "# plt.figure(figsize=(8, 6))\n",
    "# plt.specgram(noise,\n",
    "#              NFFT=1024,\n",
    "#              Fs=fs,\n",
    "#              scale='dB',\n",
    "#              cmap='viridis',\n",
    "#              noverlap=0,\n",
    "#              mode='psd',\n",
    "#              window=signal.get_window('hann', 1024))\n",
    "# plt.title(\"PSD\")\n",
    "# plt.xlabel(\"Time\")\n",
    "# plt.ylabel(\"Frequency\")\n",
    "# plt.show()\n",
    "\n",
    "# plt.figure(figsize=(8, 6))\n",
    "# plt.specgram(sig,\n",
    "#              NFFT=1024,\n",
    "#              Fs=fs,\n",
    "#              scale='dB',\n",
    "#              cmap='viridis',\n",
    "#              noverlap=0,\n",
    "#              mode='psd',\n",
    "#              window=signal.get_window('hann', 1024))\n",
    "# plt.title(\"PSD\")\n",
    "# plt.xlabel(\"Time\")\n",
    "# plt.ylabel(\"Frequency\")\n",
    "# plt.show()\n",
    "\n",
    "# plt.figure(figsize=(8, 6))\n",
    "# plt.specgram(both,\n",
    "#              NFFT=1024,\n",
    "#              Fs=fs,\n",
    "#              scale='dB',\n",
    "#              cmap='viridis',\n",
    "#              noverlap=0,\n",
    "#              mode='psd',\n",
    "#              window=signal.get_window('hann', 1024))\n",
    "# plt.title(\"PSD\")\n",
    "# plt.xlabel(\"Time\")\n",
    "# plt.ylabel(\"Frequency\")\n",
    "# plt.show()"
   ]
  },
  {
   "cell_type": "code",
   "execution_count": 6,
   "metadata": {
    "ExecuteTime": {
     "end_time": "2020-11-15T00:11:05.026769Z",
     "start_time": "2020-11-15T00:11:05.024150Z"
    }
   },
   "outputs": [],
   "source": [
    "# Scipy Welch (Periodigram with averaging and overlap, which is currently 0)\n",
    "\n",
    "# plt.figure(figsize=(8, 6))\n",
    "# f, Pxx_den = signal.welch(noise,\n",
    "#                           fs,\n",
    "#                           nperseg=1024,\n",
    "#                           noverlap=0,\n",
    "#                           window='hann',\n",
    "#                           scaling='density',\n",
    "#                           detrend=False)\n",
    "# plt.semilogy(fft.fftshift(f), fft.fftshift(Pxx_den))\n",
    "# plt.xlabel('Frequency [Hz]')\n",
    "# plt.ylabel('PSD [V**2/Hz]')\n",
    "# plt.show()\n",
    "\n",
    "# plt.figure(figsize=(8, 6))\n",
    "# f, Pxx_den = signal.welch(sig,\n",
    "#                           fs,\n",
    "#                           nperseg=1024,\n",
    "#                           noverlap=0,\n",
    "#                           window='hann',\n",
    "#                           scaling='density',\n",
    "#                           detrend=False)\n",
    "# plt.semilogy(fft.fftshift(f), fft.fftshift(Pxx_den))\n",
    "# plt.xlabel('Frequency [Hz]')\n",
    "# plt.ylabel('PSD [V**2/Hz]')\n",
    "# plt.show()\n",
    "\n",
    "# plt.figure(figsize=(8, 6))\n",
    "# f, Pxx_den = signal.welch(both,\n",
    "#                           fs,\n",
    "#                           nperseg=1024,\n",
    "#                           noverlap=0,\n",
    "#                           window='hann',\n",
    "#                           scaling='density',\n",
    "#                           detrend=False)\n",
    "# plt.semilogy(fft.fftshift(f), fft.fftshift(Pxx_den))\n",
    "# plt.xlabel('Frequency [Hz]')\n",
    "# plt.ylabel('PSD [V**2/Hz]')\n",
    "# plt.show()"
   ]
  },
  {
   "cell_type": "code",
   "execution_count": 7,
   "metadata": {
    "ExecuteTime": {
     "end_time": "2020-11-15T00:11:05.031438Z",
     "start_time": "2020-11-15T00:11:05.027841Z"
    }
   },
   "outputs": [],
   "source": [
    "# Scipy Periodigram (Welch without averaging and 0 overlap)\n",
    "\n",
    "# plt.figure(figsize=(8, 6))\n",
    "# f, Pxx_den = signal.periodogram(noise,\n",
    "#                                 fs,\n",
    "#                                 window='hann',\n",
    "#                                 nfft=1024,\n",
    "#                                 scaling='density',\n",
    "#                                 detrend=False)\n",
    "# plt.semilogy(fft.fftshift(f), fft.fftshift(Pxx_den))\n",
    "# plt.xlabel('frequency [Hz]')\n",
    "# plt.ylabel('PSD [V**2/Hz]')\n",
    "# plt.show()\n",
    "\n",
    "# plt.figure(figsize=(8, 6))\n",
    "# f, Pxx_den = signal.periodogram(sig,\n",
    "#                                 fs,\n",
    "#                                 window='hann',\n",
    "#                                 nfft=1024,\n",
    "#                                 scaling='density',\n",
    "#                                 detrend=False)\n",
    "# plt.semilogy(fft.fftshift(f), fft.fftshift(Pxx_den))\n",
    "# plt.xlabel('frequency [Hz]')\n",
    "# plt.ylabel('PSD [V**2/Hz]')\n",
    "# plt.show()\n",
    "\n",
    "# plt.figure(figsize=(8, 6))\n",
    "# f, Pxx_den = signal.periodogram(both,\n",
    "#                                 fs,\n",
    "#                                 window='hann',\n",
    "#                                 nfft=1024,\n",
    "#                                 scaling='density',\n",
    "#                                 detrend=False)\n",
    "# plt.semilogy(fft.fftshift(f), fft.fftshift(Pxx_den))\n",
    "# plt.xlabel('frequency [Hz]')\n",
    "# plt.ylabel('PSD [V**2/Hz]')\n",
    "# plt.show()"
   ]
  },
  {
   "cell_type": "code",
   "execution_count": 8,
   "metadata": {
    "ExecuteTime": {
     "end_time": "2020-11-15T00:11:05.036042Z",
     "start_time": "2020-11-15T00:11:05.033110Z"
    }
   },
   "outputs": [],
   "source": [
    "# Scipy Spectogram (Periodigram over time)\n",
    "\n",
    "# plt.figure(figsize=(8, 6))\n",
    "# f, t, Sxx = signal.spectrogram(noise,\n",
    "#                                fs,\n",
    "#                                return_onesided=False,\n",
    "#                                window='boxcar',\n",
    "#                                nperseg=1024,\n",
    "#                                nfft=1024,\n",
    "#                                noverlap=0,\n",
    "#                                detrend=False,\n",
    "#                                scaling='density',\n",
    "#                                mode='psd')\n",
    "# plt.pcolormesh(t,\n",
    "#                fft.fftshift(f),\n",
    "#                fft.fftshift(Sxx, axes=0),\n",
    "#                shading='gouraud')\n",
    "# plt.ylabel('Frequency [Hz]')\n",
    "# plt.xlabel('Time [sec]')\n",
    "# plt.show()\n",
    "\n",
    "# plt.figure(figsize=(8, 6))\n",
    "# f, t, Sxx = signal.spectrogram(sig,\n",
    "#                                fs,\n",
    "#                                return_onesided=False,\n",
    "#                                window='boxcar',\n",
    "#                                nperseg=1024,\n",
    "#                                nfft=1024,\n",
    "#                                noverlap=0,\n",
    "#                                detrend=False,\n",
    "#                                scaling='density',\n",
    "#                                mode='psd')\n",
    "# plt.pcolormesh(t,\n",
    "#                fft.fftshift(f),\n",
    "#                fft.fftshift(Sxx, axes=0),\n",
    "#                shading='gouraud')\n",
    "# plt.ylabel('Frequency [Hz]')\n",
    "# plt.xlabel('Time [sec]')\n",
    "# plt.show()\n",
    "\n",
    "# plt.figure(figsize=(8, 6))\n",
    "# f, t, Sxx = signal.spectrogram(both,\n",
    "#                                fs,\n",
    "#                                return_onesided=False,\n",
    "#                                window='boxcar',\n",
    "#                                nperseg=1024,\n",
    "#                                nfft=1024,\n",
    "#                                noverlap=0,\n",
    "#                                detrend=False,\n",
    "#                                scaling='density',\n",
    "#                                mode='psd')\n",
    "# plt.pcolormesh(t,\n",
    "#                fft.fftshift(f),\n",
    "#                fft.fftshift(Sxx, axes=0),\n",
    "#                shading='gouraud')\n",
    "# plt.ylabel('Frequency [Hz]')\n",
    "# plt.xlabel('Time [sec]')\n",
    "# plt.show()"
   ]
  },
  {
   "cell_type": "code",
   "execution_count": 9,
   "metadata": {
    "ExecuteTime": {
     "end_time": "2020-11-15T00:11:05.040429Z",
     "start_time": "2020-11-15T00:11:05.037471Z"
    }
   },
   "outputs": [],
   "source": [
    "# def get_fft_psd(sig, fs, N):\n",
    "#     assert N == len(sig) \n",
    "#     f_tmp = fft.fftfreq(N, 1. / fs)\n",
    "#     f = fft.fftshift(f_tmp)\n",
    "#     x_tmp = fft.fft(sig)\n",
    "#     x = fft.fftshift(x_tmp)\n",
    "#     x = np.abs(x)**2. / (N * fs)\n",
    "#     return f, x\n",
    "\n",
    "\n",
    "# def get_energy_from_psd(psd):\n",
    "#     return np.sum(psd)\n",
    "\n",
    "\n",
    "# def get_power_from_psd(psd, f):\n",
    "#     df = f[1] - f[0]\n",
    "#     return np.sum(psd) * df"
   ]
  },
  {
   "cell_type": "code",
   "execution_count": 10,
   "metadata": {
    "ExecuteTime": {
     "end_time": "2020-11-15T00:11:05.043974Z",
     "start_time": "2020-11-15T00:11:05.041433Z"
    }
   },
   "outputs": [],
   "source": [
    "# power_sig_time = signal_power(sig)\n",
    "# energy_sig_time_from_power_sig_time = power_sig_time * N * 1. / fs  # where 1./fs=dt and T=(N*1./fs)\n",
    "# print('Signal power in time %8.6f' % (power_sig_time))\n",
    "# print('Signal energy in time from signal power in time %8.6f' %\n",
    "#       (energy_sig_time_from_power_sig_time))\n",
    "\n",
    "# plt.figure(figsize=(8, 6))\n",
    "# f, psd = get_fft_psd(sig, fs, N)\n",
    "# plt.semilogy(f, psd)\n",
    "# plt.show()\n",
    "\n",
    "# print('Signal power from psd %8.6f' % (get_power_from_psd(psd, f)))\n",
    "# print('Signal energy from psd %8.6f' % (get_energy_from_psd(psd)))"
   ]
  },
  {
   "cell_type": "code",
   "execution_count": 11,
   "metadata": {
    "ExecuteTime": {
     "end_time": "2020-11-15T00:11:05.048294Z",
     "start_time": "2020-11-15T00:11:05.045047Z"
    }
   },
   "outputs": [],
   "source": [
    "# window_size = 1024\n",
    "\n",
    "# plt.figure(figsize=(8, 6))\n",
    "# f_welch, psd_welch = signal.welch(sig,\n",
    "#                                   fs,\n",
    "#                                   window='flattop',\n",
    "#                                   nperseg=window_size,\n",
    "#                                   noverlap=0,\n",
    "#                                   nfft=window_size,\n",
    "#                                   detrend=False,\n",
    "#                                   scaling='density',\n",
    "#                                   return_onesided=False)\n",
    "# f_welch = fft.fftshift(f_welch)\n",
    "# psd_welch = fft.fftshift(psd_welch)\n",
    "# plt.figure(figsize=(8, 6))\n",
    "# plt.semilogy(f_welch, psd_welch)\n",
    "# plt.show()\n",
    "\n",
    "# df_welch = f_welch[1] - f_welch[0]\n",
    "# welch_power = np.sum(psd_welch) * df_welch\n",
    "# print('Signal power from welch %8.6f' % (welch_power))\n",
    "\n",
    "# welch_energy = welch_power * 1./fs * window_size\n",
    "# print('Signal energy from welch %8.6f' % (welch_energy))"
   ]
  },
  {
   "cell_type": "code",
   "execution_count": 24,
   "metadata": {
    "ExecuteTime": {
     "end_time": "2020-11-15T00:16:30.115641Z",
     "start_time": "2020-11-15T00:16:29.712913Z"
    }
   },
   "outputs": [
    {
     "data": {
      "image/png": "[encoded data removed]",
      "text/plain": [
       "<Figure size 576x432 with 1 Axes>"
      ]
     },
     "metadata": {
      "needs_background": "light"
     },
     "output_type": "display_data"
    },
    {
     "data": {
      "image/png": "[encoded data removed]",
      "text/plain": [
       "<Figure size 576x432 with 1 Axes>"
      ]
     },
     "metadata": {
      "needs_background": "light"
     },
     "output_type": "display_data"
    }
   ],
   "source": [
    "\n",
    "class Stft:\n",
    "    \n",
    "    def __init__(self, n=1024, window='flattop'):\n",
    "        assert self.is_power2(n)\n",
    "        self.n = n\n",
    "        self.window = window\n",
    "        \n",
    "    def is_power2(self, n):\n",
    "        '''Check least significant bit for power of two.'''\n",
    "        return (n != 0) and (n & (n-1) == 0)\n",
    "    \n",
    "    def fft(self, sig, fs):\n",
    "        f = fft.fftshift(fft.fftfreq(len(sig), 1. / fs))\n",
    "        p = fft.fftshift(fft.fft(sig))\n",
    "        return f, p\n",
    "\n",
    "    def apply_window(self, sig):\n",
    "        return sig * signal.get_window(self.window, len(sig))\n",
    "    \n",
    "    def stft_helper(self, sig, fs):\n",
    "        return self.fft(self.apply_window(sig), fs)\n",
    "    \n",
    "    def stft(self, sig, fs):\n",
    "        segs = [sig[i:i + self.n] for i in range(0, len(sig), self.n)]\n",
    "        for i in segs:\n",
    "            f, x = self.stft_helper(i, fs)\n",
    "            yield f, x\n",
    "            \n",
    "    def apply_psd(self, sig, fs):\n",
    "        return np.abs(sig)**2. / (len(sig) * fs)\n",
    "\n",
    "    def dB(self, psd):\n",
    "        return 10. * np.log10(psd)\n",
    "\n",
    "    def psd(self, sig, fs):\n",
    "        for f, x in self.stft(sig, fs):\n",
    "            yield f, self.apply_psd(x, fs)\n",
    "        \n",
    "    def spectogram(self, sig, fs):\n",
    "        tl = list()\n",
    "        xl = list()\n",
    "        i = 0\n",
    "        for f, x in self.psd(sig, fs):\n",
    "            tl.append(i*self.n*1./fs)\n",
    "            i += 1\n",
    "            xl.append(self.dB(x))\n",
    "        xl = np.swapaxes(xl, 0, 1)\n",
    "        return f, tl, xl\n",
    "        \n",
    "        \n",
    "#     def stft(self, sig, fs):\n",
    "#         for i in range(0, len(sig), self.n):\n",
    "#             yield self.stft_helper(sig[i:i + self.n], fs)\n",
    "            \n",
    "#     def psd(self, sig, fs):\n",
    "#         for f, t in self.stft(sig, fs):\n",
    "#             yield (lambda f, t: (self.apply_psd(f, fs), t))(f, t)\n",
    "    \n",
    "#     def cut(self, sig):\n",
    "#         return [sig[i:i + self.n] for i in range(0, len(sig), self.n)]\n",
    "    \n",
    "#     def tmp(self, sig, fs):\n",
    "#         return list(map(lambda x: self.stft_helper(x, fs), self.cut(sig)))\n",
    "\n",
    "\n",
    "sft = Stft(n=1024, window='flattop')\n",
    "\n",
    "# for f, t in sft.psd(sig, fs):\n",
    "#     plt.figure(figsize=(8, 6))\n",
    "#     plt.semilogy(f, t)\n",
    "#     plt.show()\n",
    "\n",
    "f, t, x = sft.spectogram(sig, fs)\n",
    "\n",
    "plt.figure(figsize=(8, 6))\n",
    "plt.plot(f, x[:, 2])\n",
    "plt.show()\n",
    "\n",
    "plt.figure(figsize=(8, 6))\n",
    "plt.pcolormesh(t,\n",
    "               f,\n",
    "               x,\n",
    "               shading='flat',\n",
    "               cmap='viridis',\n",
    "               snap=True,\n",
    "               vmin=np.min(x),\n",
    "               vmax=np.max(x))\n",
    "plt.title('STFT Magnitude')\n",
    "plt.ylabel('Frequency [Hz]')\n",
    "plt.xlabel('Time [sec]')\n",
    "plt.show()\n",
    "\n",
    "\n",
    "# s = list(sft.stft(sig, fs))\n",
    "\n",
    "# t = sft.tmp(sig, fs)\n",
    "\n",
    "# print(t)\n",
    "\n",
    "# plt.figure(figsize=(8, 6))\n",
    "# plt.semilogy(t[0])\n",
    "# plt.show()\n",
    "\n",
    "# for f, t in sft.stft(sig, fs):\n",
    "#     plt.figure(figsize=(8, 6))\n",
    "#     plt.semilogy(f, t)\n",
    "#     plt.show()\n",
    "\n",
    "\n",
    "# sig_here = sig[1024:2048]\n",
    "\n",
    "# print(sig_here)\n",
    "\n",
    "# f, t = sft.fft(sig_here, fs)\n",
    "# # f, t = get_fft_psd(sig_here, fs, 1024)\n",
    "\n",
    "# # f, psd = get_fft_psd(sig_here, fs, N_here)\n",
    "\n",
    "# t = np.abs(t)**2. / (len(t) * fs)\n",
    "\n",
    "# plt.figure(figsize=(8, 6))\n",
    "# plt.semilogy(f, t)\n",
    "# plt.show()\n",
    "\n",
    "# df = f[1] - f[0]\n",
    "# power = np.sum(psd) * df\n",
    "# print('Signal power %8.6f' % (power))\n",
    "\n",
    "# chunks = [sig[x:x+100] for x in range(0, len(sig), 100)]"
   ]
  },
  {
   "cell_type": "code",
   "execution_count": 13,
   "metadata": {
    "ExecuteTime": {
     "end_time": "2020-11-15T00:11:05.795171Z",
     "start_time": "2020-11-15T00:11:05.787764Z"
    }
   },
   "outputs": [],
   "source": [
    "def get_stft_psd(sig, fs):\n",
    "    f, t, psd = signal.stft(sig,\n",
    "                            fs,\n",
    "#                             window='box',\n",
    "                            signal.get_window('flattop', 1024, False),\n",
    "                            nperseg=1024,\n",
    "                            noverlap=0,\n",
    "                            nfft=1024,\n",
    "                            detrend=False,\n",
    "                            return_onesided=False)\n",
    "    f = fft.fftshift(f)\n",
    "    psd = fft.fftshift(psd, axes=0)\n",
    "    psd = np.abs(psd)**2.\n",
    "    return f, t, psd\n",
    "\n",
    "\n",
    "def get_dB(psd):\n",
    "    return 10. * np.log10(psd)\n",
    "\n",
    "\n",
    "def get_power_from_stft(psd, f, t):\n",
    "    return np.sum(psd)\n",
    "\n",
    "\n",
    "def get_energy_from_stft(psd, f, t):\n",
    "    dt = t[-1] - t[0]\n",
    "    return np.sum(psd) * dt"
   ]
  },
  {
   "cell_type": "code",
   "execution_count": 14,
   "metadata": {
    "ExecuteTime": {
     "end_time": "2020-11-15T00:11:05.801420Z",
     "start_time": "2020-11-15T00:11:05.796822Z"
    }
   },
   "outputs": [],
   "source": [
    "# #3.99\n",
    "\n",
    "# f, t, psd = get_stft_psd(sig, fs) \n",
    "\n",
    "# # print('Signal energy from stft %8.6f' % (get_energy_from_stft(psd, f, t)))\n",
    "# # print('Signal energy corr from stft %8.6f' % (get_energy_from_stft(psd, f, t)*(1.63**2)))\n",
    "# # print('Signal power from stft %8.6f' % (get_power_from_stft(psd, f, t)))\n",
    "# # print('Signal power corr from stft %8.6f' % (get_power_from_stft(psd, f, t)*(1.63)))\n",
    "\n",
    "# plt.figure(figsize=(8, 6))\n",
    "# plt.semilogy(psd[:, 30])\n",
    "# plt.show()\n",
    "\n",
    "# # print(np.sum(psd[:, 100])/3.77)\n",
    "# print(np.sum(psd[:, 30]))\n",
    "\n",
    "# w = signal.get_window('hann', 4096, False)\n",
    "# plt.figure(figsize=(8, 6))\n",
    "# plt.plot(w)\n",
    "# corr = 1/(np.sqrt(np.sum(np.abs(w)**2) / 4096))\n",
    "# print(corr)\n",
    "# w = signal.get_window('flattop', 4096, True)\n",
    "# plt.plot(w)\n",
    "# plt.show()\n",
    "# corr = 1/(np.sqrt(np.sum(np.abs(w)**2) / 1024))\n",
    "# print(corr)\n",
    "\n",
    "# # g = np.sum(psd, axis=0)\n",
    "# # plt.figure(figsize=(8, 6))\n",
    "# # plt.plot(g)\n",
    "# # plt.show()"
   ]
  },
  {
   "cell_type": "code",
   "execution_count": 19,
   "metadata": {
    "ExecuteTime": {
     "end_time": "2020-11-15T00:12:42.363709Z",
     "start_time": "2020-11-15T00:12:41.998389Z"
    }
   },
   "outputs": [
    {
     "data": {
      "image/png": "[encoded data removed]",
      "text/plain": [
       "<Figure size 576x432 with 1 Axes>"
      ]
     },
     "metadata": {
      "needs_background": "light"
     },
     "output_type": "display_data"
    },
    {
     "data": {
      "image/png": "[encoded data removed]",
      "text/plain": [
       "<Figure size 576x432 with 1 Axes>"
      ]
     },
     "metadata": {
      "needs_background": "light"
     },
     "output_type": "display_data"
    }
   ],
   "source": [
    "# f, t, psd = get_stft_psd(noise, fs)\n",
    "# psd = get_dB(psd)\n",
    "# plt.figure(figsize=(8, 6))\n",
    "# plt.pcolormesh(t,\n",
    "#                f,\n",
    "#                psd,\n",
    "#                shading='flat',\n",
    "#                cmap='viridis',\n",
    "#                vmin=np.min(psd),\n",
    "#                vmax=np.max(psd))\n",
    "# plt.title('STFT Magnitude')\n",
    "# plt.ylabel('Frequency [Hz]')\n",
    "# plt.xlabel('Time [sec]')\n",
    "# plt.show()\n",
    "\n",
    "f, t, psd = get_stft_psd(sig, fs)\n",
    "psd = get_dB(psd)\n",
    "\n",
    "plt.figure(figsize=(8, 6))\n",
    "plt.plot(f, psd[:, 2])\n",
    "plt.show()\n",
    "\n",
    "plt.figure(figsize=(8, 6))\n",
    "plt.pcolormesh(t,\n",
    "               f,\n",
    "               psd,\n",
    "               shading='flat',\n",
    "               cmap='viridis',\n",
    "               snap=True,\n",
    "               vmin=np.min(psd),\n",
    "               vmax=np.max(psd))\n",
    "plt.title('STFT Magnitude')\n",
    "plt.ylabel('Frequency [Hz]')\n",
    "plt.xlabel('Time [sec]')\n",
    "plt.show()\n",
    "\n",
    "# f, t, psd = get_stft_psd(both, fs)\n",
    "# psd = get_dB(psd)\n",
    "# plt.figure(figsize=(8, 6))\n",
    "# plt.pcolormesh(t,\n",
    "#                f,\n",
    "#                psd,\n",
    "#                shading='flat',\n",
    "#                cmap='viridis',\n",
    "#                vmin=np.min(psd),\n",
    "#                vmax=np.max(psd))\n",
    "# plt.title('STFT Magnitude')\n",
    "# plt.ylabel('Frequency [Hz]')\n",
    "# plt.xlabel('Time [sec]')\n",
    "# plt.show()"
   ]
  },
  {
   "cell_type": "code",
   "execution_count": 16,
   "metadata": {
    "ExecuteTime": {
     "end_time": "2020-11-15T00:11:06.090118Z",
     "start_time": "2020-11-15T00:11:06.088334Z"
    }
   },
   "outputs": [],
   "source": [
    "# import scipy.ndimage\n",
    "\n",
    "# def clip_2d(x, lim_min, lim_max):\n",
    "#     (x, y) = np.shape(Sxx)\n",
    "#     for i in range(x):\n",
    "#         for j in range(y):\n",
    "#             Sxx[i, j] = max(min(Sxx[i, j], lim_max), lim_min)\n",
    "#     return Sxx\n",
    "\n",
    "# def smooth_2d(x, sigma):\n",
    "#     return scipy.ndimage.filters.gaussian_filter(x, [sigma, sigma], mode='mirror')\n",
    "\n",
    "# def crop_2d(Sxx, f, t, n):\n",
    "#     Sxx = Sxx[n:-n, n:-n]\n",
    "#     f = f[n:-n]\n",
    "#     t = t[n:-n]\n",
    "#     return Sxx, f, t"
   ]
  },
  {
   "cell_type": "code",
   "execution_count": 17,
   "metadata": {
    "ExecuteTime": {
     "end_time": "2020-11-15T00:11:06.094036Z",
     "start_time": "2020-11-15T00:11:06.091554Z"
    }
   },
   "outputs": [],
   "source": [
    "# f, t, Sxx = signal.spectrogram(both, fs, return_onesided=False, window='hann', nperseg=1024, nfft=1024, noverlap=0, detrend=False, scaling='density', mode='psd')\n",
    "\n",
    "# f = fft.fftshift(f)\n",
    "# Sxx = fft.fftshift(Sxx, axes=0)\n",
    "\n",
    "# Sxx = 10.0*np.log10(Sxx)\n",
    "# Sxx = clip_2d(Sxx, -60, 0)\n",
    "# Sxx = smooth_2d(Sxx, 2)\n",
    "# # Sxx, f, t = crop_2d(Sxx, f, t, 4)\n",
    "\n",
    "# fig = plt.figure(figsize=(12,12))\n",
    "# ax = fig.gca(projection='3d')\n",
    "# # ax.get_proj = lambda: np.dot(mpl3d.axes3d.Axes3D.get_proj(ax), np.diag([1, 1, 0.5, 1]))\n",
    "# ax.plot_surface(f[:, None], t[None, :], Sxx, cmap='viridis', rstride=1, cstride=1, alpha=1, antialiased=True)\n",
    "# ax.view_init(elev=30, azim=70)\n",
    "# plt.show()\n",
    "# plt.savefig('test.png')  "
   ]
  },
  {
   "cell_type": "code",
   "execution_count": null,
   "metadata": {},
   "outputs": [],
   "source": []
  },
  {
   "cell_type": "code",
   "execution_count": null,
   "metadata": {},
   "outputs": [],
   "source": []
  },
  {
   "cell_type": "code",
   "execution_count": null,
   "metadata": {},
   "outputs": [],
   "source": []
  },
  {
   "cell_type": "code",
   "execution_count": null,
   "metadata": {},
   "outputs": [],
   "source": []
  },
  {
   "cell_type": "code",
   "execution_count": null,
   "metadata": {},
   "outputs": [],
   "source": []
  },
  {
   "cell_type": "code",
   "execution_count": null,
   "metadata": {},
   "outputs": [],
   "source": []
  },
  {
   "cell_type": "code",
   "execution_count": null,
   "metadata": {},
   "outputs": [],
   "source": []
  },
  {
   "cell_type": "code",
   "execution_count": null,
   "metadata": {},
   "outputs": [],
   "source": []
  },
  {
   "cell_type": "code",
   "execution_count": null,
   "metadata": {},
   "outputs": [],
   "source": []
  },
  {
   "cell_type": "code",
   "execution_count": null,
   "metadata": {},
   "outputs": [],
   "source": []
  },
  {
   "cell_type": "code",
   "execution_count": null,
   "metadata": {},
   "outputs": [],
   "source": []
  },
  {
   "cell_type": "code",
   "execution_count": null,
   "metadata": {},
   "outputs": [],
   "source": []
  },
  {
   "cell_type": "code",
   "execution_count": null,
   "metadata": {},
   "outputs": [],
   "source": []
  },
  {
   "cell_type": "code",
   "execution_count": null,
   "metadata": {},
   "outputs": [],
   "source": []
  },
  {
   "cell_type": "code",
   "execution_count": null,
   "metadata": {},
   "outputs": [],
   "source": []
  }
 ],
 "metadata": {
  "kernelspec": {
   "display_name": "Python 3",
   "language": "python",
   "name": "python3"
  },
  "language_info": {
   "codemirror_mode": {
    "name": "ipython",
    "version": 3
   },
   "file_extension": ".py",
   "mimetype": "text/x-python",
   "name": "python",
   "nbconvert_exporter": "python",
   "pygments_lexer": "ipython3",
   "version": "3.6.9"
  },
  "varInspector": {
   "cols": {
    "lenName": 16,
    "lenType": 16,
    "lenVar": 40
   },
   "kernels_config": {
    "python": {
     "delete_cmd_postfix": "",
     "delete_cmd_prefix": "del ",
     "library": "var_list.py",
     "varRefreshCmd": "print(var_dic_list())"
    },
    "r": {
     "delete_cmd_postfix": ") ",
     "delete_cmd_prefix": "rm(",
     "library": "var_list.r",
     "varRefreshCmd": "cat(var_dic_list()) "
    }
   },
   "oldHeight": 987,
   "position": {
    "height": "1009px",
    "left": "1155px",
    "right": "20px",
    "top": "73px",
    "width": "544px"
   },
   "types_to_exclude": [
    "module",
    "function",
    "builtin_function_or_method",
    "instance",
    "_Feature"
   ],
   "varInspector_section_display": "block",
   "window_display": true
  }
 },
 "nbformat": 4,
 "nbformat_minor": 4
}
