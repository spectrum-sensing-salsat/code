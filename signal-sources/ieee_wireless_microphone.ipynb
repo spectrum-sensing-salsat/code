{
 "cells": [
  {
   "cell_type": "code",
   "execution_count": 277,
   "metadata": {
    "ExecuteTime": {
     "end_time": "2020-11-09T22:57:10.581142Z",
     "start_time": "2020-11-09T22:57:10.576043Z"
    }
   },
   "outputs": [],
   "source": [
    "import numpy as np\n",
    "import matplotlib as mpl\n",
    "import matplotlib.pyplot as plt\n",
    "from scipy import signal\n",
    "from scipy import stats\n",
    "from scipy import linalg\n",
    "from scipy import fft\n",
    "from scipy import io\n",
    "\n",
    "np.random.seed(123)"
   ]
  },
  {
   "cell_type": "code",
   "execution_count": 278,
   "metadata": {
    "ExecuteTime": {
     "end_time": "2020-11-09T22:57:10.588382Z",
     "start_time": "2020-11-09T22:57:10.582477Z"
    }
   },
   "outputs": [],
   "source": [
    "class SimulatedIEEEMic:\n",
    "    fdev = 15000\n",
    "    fm = 3900\n",
    "\n",
    "    def get_sig(self, N, fs, fc):\n",
    "        n = np.arange(N)\n",
    "        t = n / fs\n",
    "        if fc is None:\n",
    "            fc = fs / 4.\n",
    "        ph0 = np.random.random() * 2. * np.pi\n",
    "        ph = ph0 + 2.0 * np.pi * fc * t + self.fdev / self.fm * np.cos(\n",
    "            2.0 * np.pi * self.fm * t)\n",
    "        x = np.cos(ph)\n",
    "        return x\n",
    "\n",
    "    def get(self, N, fs, dB, fc=None):\n",
    "        if dB is None:\n",
    "            x = np.zeros(N)\n",
    "        else:\n",
    "            x = self.get_sig(N, fs, fc)\n",
    "            x /= np.std(x)\n",
    "            x *= 10.**(dB / 10.)\n",
    "        return x\n",
    "\n",
    "    def noise(self, N, dB):\n",
    "        A = 10.**(dB / 20.)\n",
    "        x = np.random.normal(loc=0, scale=A, size=N)\n",
    "        return x"
   ]
  },
  {
   "cell_type": "code",
   "execution_count": 279,
   "metadata": {
    "ExecuteTime": {
     "end_time": "2020-11-09T22:57:10.593855Z",
     "start_time": "2020-11-09T22:57:10.589949Z"
    }
   },
   "outputs": [],
   "source": [
    "def round_power2(num):\n",
    "    return int(np.power(2., np.ceil(np.log2(num))))\n",
    "\n",
    "\n",
    "def signal_power(x):\n",
    "    return np.var(x)\n",
    "    return sum(abs(sig)**2.0)/N\n",
    "\n",
    "def signal_power_dB(x):\n",
    "    return 10. * np.log10(signal_power(x))\n",
    "\n",
    "\n",
    "def snr(a, b):\n",
    "    return signal_power(a) / signal_power(b)\n",
    "\n",
    "\n",
    "def snr_dB(a, b):\n",
    "    return 10. * np.log10(snr(a, b))"
   ]
  },
  {
   "cell_type": "code",
   "execution_count": 280,
   "metadata": {
    "ExecuteTime": {
     "end_time": "2020-11-09T22:57:10.598552Z",
     "start_time": "2020-11-09T22:57:10.595322Z"
    }
   },
   "outputs": [],
   "source": [
    "def mic_sig(n, fs, fc, fm, fd, dB=0.):\n",
    "    t = np.arange(n) / fs\n",
    "    x = np.exp(1.j *\n",
    "               (2. * np.pi * fc * t + fd / fm * np.sin(2. * np.pi * fm * t)))\n",
    "    x /= np.std(x)\n",
    "    x *= 10.**(dB / 20.)\n",
    "    return x"
   ]
  },
  {
   "cell_type": "code",
   "execution_count": 281,
   "metadata": {
    "ExecuteTime": {
     "end_time": "2020-11-09T22:57:10.602945Z",
     "start_time": "2020-11-09T22:57:10.599892Z"
    }
   },
   "outputs": [],
   "source": [
    "def awgn(n, dB=0.):\n",
    "    w = 10.**(dB / 10.)\n",
    "    d = stats.multivariate_normal(mean=[0., 0.],\n",
    "                                  cov=[[.5 * w, 0.], [0., .5 * w]])\n",
    "    x = d.rvs(size=n).view(np.complex128).reshape(N)\n",
    "    return x"
   ]
  },
  {
   "cell_type": "code",
   "execution_count": 282,
   "metadata": {
    "ExecuteTime": {
     "end_time": "2020-11-09T22:57:10.643101Z",
     "start_time": "2020-11-09T22:57:10.604215Z"
    }
   },
   "outputs": [
    {
     "name": "stdout",
     "output_type": "stream",
     "text": [
      "Signal power:  0.00 dB\n",
      "Noise power:  9.98 dB\n",
      "SNR: -9.98 dB\n"
     ]
    }
   ],
   "source": [
    "N = round_power2(1e5)\n",
    "fs = int(1e6)\n",
    "fc = 0.\n",
    "fd = 15000.\n",
    "fm = 3900.\n",
    "\n",
    "# mic1 = SimulatedIEEEMic()\n",
    "# sig1 = mic1.get(N, fs, dB=0.)\n",
    "\n",
    "sig = mic_sig(N, fs, fc=fc, fm=fm, fd=fd, dB=0.)\n",
    "noise = awgn(N, dB=10.)\n",
    "both = sig + noise\n",
    "\n",
    "print('Signal power: %5.2f dB' % (signal_power_dB(sig)))\n",
    "print('Noise power: %5.2f dB' % (signal_power_dB(noise)))\n",
    "print('SNR: %5.2f dB' % (snr_dB(sig, noise)))"
   ]
  },
  {
   "cell_type": "code",
   "execution_count": 283,
   "metadata": {
    "ExecuteTime": {
     "end_time": "2020-11-09T22:57:10.648013Z",
     "start_time": "2020-11-09T22:57:10.644956Z"
    }
   },
   "outputs": [],
   "source": [
    "# Matplotlib Method\n",
    "\n",
    "# plt.specgram(noise, NFFT=1024, Fs=fs, scale='dB', noverlap=0, mode='psd', window=signal.get_window('hann', 1024))\n",
    "# plt.title(\"PSD\")\n",
    "# plt.xlabel(\"Time\")\n",
    "# plt.ylabel(\"Frequency\")\n",
    "# plt.show()\n",
    "\n",
    "# plt.specgram(sig, NFFT=1024, Fs=fs, scale='dB', noverlap=0, mode='psd', window=signal.get_window('hann', 1024))\n",
    "# plt.title(\"PSD\")\n",
    "# plt.xlabel(\"Time\")\n",
    "# plt.ylabel(\"Frequency\")\n",
    "# plt.show()\n",
    "\n",
    "# plt.specgram(both, NFFT=1024, Fs=fs, scale='dB', noverlap=0, mode='psd', window=signal.get_window('hann', 1024))\n",
    "# plt.title(\"PSD\")\n",
    "# plt.xlabel(\"Time\")\n",
    "# plt.ylabel(\"Frequency\")\n",
    "# plt.show()"
   ]
  },
  {
   "cell_type": "code",
   "execution_count": 284,
   "metadata": {
    "ExecuteTime": {
     "end_time": "2020-11-09T22:57:10.866017Z",
     "start_time": "2020-11-09T22:57:10.651132Z"
    }
   },
   "outputs": [
    {
     "data": {
      "image/png": "[encoded data removed]",
      "text/plain": [
       "<Figure size 432x288 with 1 Axes>"
      ]
     },
     "metadata": {
      "needs_background": "light"
     },
     "output_type": "display_data"
    }
   ],
   "source": [
    "# Welch (Periodigram with averaging and overlap, which is currently 0)\n",
    "\n",
    "# f, Pxx_den = signal.welch(noise, fs, nperseg=1024, noverlap=0, window='hann', scaling='density', detrend=False)\n",
    "# plt.semilogy(fft.fftshift(f), fft.fftshift(Pxx_den))\n",
    "# plt.xlabel('Frequency [Hz]')\n",
    "# plt.ylabel('PSD [V**2/Hz]')\n",
    "# plt.show()\n",
    "\n",
    "f, Pxx_den = signal.welch(sig, fs, nperseg=1024, noverlap=0, window='hann', scaling='density', detrend=False)\n",
    "plt.semilogy(fft.fftshift(f), fft.fftshift(Pxx_den))\n",
    "plt.xlabel('Frequency [Hz]')\n",
    "plt.ylabel('PSD [V**2/Hz]')\n",
    "plt.show()\n",
    "\n",
    "# f, Pxx_den = signal.welch(both, fs, nperseg=1024, noverlap=0, window='hann', scaling='density', detrend=False)\n",
    "# plt.semilogy(fft.fftshift(f), fft.fftshift(Pxx_den))\n",
    "# plt.xlabel('Frequency [Hz]')\n",
    "# plt.ylabel('PSD [V**2/Hz]')\n",
    "# plt.show()"
   ]
  },
  {
   "cell_type": "code",
   "execution_count": 285,
   "metadata": {
    "ExecuteTime": {
     "end_time": "2020-11-09T22:57:11.077288Z",
     "start_time": "2020-11-09T22:57:10.867755Z"
    }
   },
   "outputs": [
    {
     "data": {
      "image/png": "[encoded data removed]",
      "text/plain": [
       "<Figure size 432x288 with 1 Axes>"
      ]
     },
     "metadata": {
      "needs_background": "light"
     },
     "output_type": "display_data"
    },
    {
     "data": {
      "text/plain": [
       "1.193500983407178"
      ]
     },
     "execution_count": 285,
     "metadata": {},
     "output_type": "execute_result"
    }
   ],
   "source": [
    "# Periodigram\n",
    "\n",
    "# f, Pxx_den = signal.periodogram(noise, fs, window='hann', nfft=1024, scaling='density', detrend=False)\n",
    "# plt.semilogy(fft.fftshift(f), fft.fftshift(Pxx_den))\n",
    "# plt.xlabel('frequency [Hz]')\n",
    "# plt.ylabel('PSD [V**2/Hz]')\n",
    "# plt.show()\n",
    "\n",
    "f, Pxx_den = signal.periodogram(sig, fs, window='hann', nfft=1024, scaling='density', detrend=False)\n",
    "plt.semilogy(fft.fftshift(f), fft.fftshift(Pxx_den))\n",
    "plt.xlabel('frequency [Hz]')\n",
    "plt.ylabel('PSD [V**2/Hz]')\n",
    "plt.show()\n",
    "\n",
    "# f, Pxx_den = signal.periodogram(both, fs, window='hann', nfft=1024, scaling='density', detrend=False)\n",
    "# plt.semilogy(fft.fftshift(f), fft.fftshift(Pxx_den))\n",
    "# plt.xlabel('frequency [Hz]')\n",
    "# plt.ylabel('PSD [V**2/Hz]')\n",
    "# plt.show()\n",
    "\n",
    "df = f[1] - f[0] \n",
    "np.sum(Pxx_den) * df"
   ]
  },
  {
   "cell_type": "code",
   "execution_count": 286,
   "metadata": {
    "ExecuteTime": {
     "end_time": "2020-11-09T22:57:11.081902Z",
     "start_time": "2020-11-09T22:57:11.078867Z"
    }
   },
   "outputs": [
    {
     "ename": "SyntaxError",
     "evalue": "invalid syntax (<ipython-input-286-ae4544413608>, line 1)",
     "output_type": "error",
     "traceback": [
      "\u001b[0;36m  File \u001b[0;32m\"<ipython-input-286-ae4544413608>\"\u001b[0;36m, line \u001b[0;32m1\u001b[0m\n\u001b[0;31m    def get_psd\u001b[0m\n\u001b[0m               ^\u001b[0m\n\u001b[0;31mSyntaxError\u001b[0m\u001b[0;31m:\u001b[0m invalid syntax\n"
     ]
    }
   ],
   "source": [
    "def get_psd"
   ]
  },
  {
   "cell_type": "code",
   "execution_count": null,
   "metadata": {
    "ExecuteTime": {
     "end_time": "2020-11-09T22:57:11.084128Z",
     "start_time": "2020-11-09T22:57:10.590Z"
    }
   },
   "outputs": [],
   "source": [
    "f = fft.fftshift(fft.fftfreq(N, 1/fs))\n",
    "x = fft.fftshift(fft.fft(sig))\n",
    "\n",
    "power_sig_time = signal_power(sig)\n",
    "energy_sig_time_from_power_sig_time = power_sig_time * N * 1./fs\n",
    "\n",
    "print('Signal power in time %8.6f' % (power_sig_time))\n",
    "print('Signal energy in time from signal power in time %8.6f' % (energy_sig_time_from_power_sig_time))\n",
    "\n",
    "energy_sig_time = np.sum(np.abs(sig)**2.) / fs\n",
    "# energy_sig_freq = np.sum(np.abs(x)**2.) / (N * fs)\n",
    "energy_sig_freq = np.sum(np.abs(x)**2.) / (N **2)\n",
    "\n",
    "print('Signal energy in time %8.6f' % (energy_sig_time))\n",
    "print('Signal energy in freq %8.6f' % (energy_sig_freq))\n",
    "\n",
    "plt.semilogy(f, np.abs(x)**2.)\n",
    "plt.show()"
   ]
  },
  {
   "cell_type": "code",
   "execution_count": null,
   "metadata": {},
   "outputs": [],
   "source": []
  }
 ],
 "metadata": {
  "kernelspec": {
   "display_name": "Python 3",
   "language": "python",
   "name": "python3"
  },
  "language_info": {
   "codemirror_mode": {
    "name": "ipython",
    "version": 3
   },
   "file_extension": ".py",
   "mimetype": "text/x-python",
   "name": "python",
   "nbconvert_exporter": "python",
   "pygments_lexer": "ipython3",
   "version": "3.6.9"
  },
  "varInspector": {
   "cols": {
    "lenName": 16,
    "lenType": 16,
    "lenVar": 40
   },
   "kernels_config": {
    "python": {
     "delete_cmd_postfix": "",
     "delete_cmd_prefix": "del ",
     "library": "var_list.py",
     "varRefreshCmd": "print(var_dic_list())"
    },
    "r": {
     "delete_cmd_postfix": ") ",
     "delete_cmd_prefix": "rm(",
     "library": "var_list.r",
     "varRefreshCmd": "cat(var_dic_list()) "
    }
   },
   "position": {
    "height": "431px",
    "left": "1437px",
    "right": "20px",
    "top": "99px",
    "width": "342px"
   },
   "types_to_exclude": [
    "module",
    "function",
    "builtin_function_or_method",
    "instance",
    "_Feature"
   ],
   "window_display": true
  }
 },
 "nbformat": 4,
 "nbformat_minor": 4
}
