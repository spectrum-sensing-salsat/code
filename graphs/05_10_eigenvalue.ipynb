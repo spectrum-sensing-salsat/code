{
 "cells": [
  {
   "cell_type": "code",
   "execution_count": 2,
   "metadata": {
    "ExecuteTime": {
     "end_time": "2021-02-12T22:27:25.906699Z",
     "start_time": "2021-02-12T22:27:25.497892Z"
    }
   },
   "outputs": [],
   "source": [
    "import numpy as np\n",
    "import math\n",
    "import matplotlib as mpl\n",
    "import matplotlib.pyplot as plt\n",
    "plt.style.use('seaborn-deep')\n",
    "from mpl_toolkits import mplot3d as mpl3d\n",
    "from scipy import signal, stats, linalg, fft\n",
    "import tqdm\n",
    "\n",
    "# import our 'specsens' package with the help of 'sys'\n",
    "import sys\n",
    "sys.path.insert(0, '..')\n",
    "import specsens as ss"
   ]
  },
  {
   "cell_type": "code",
   "execution_count": 3,
   "metadata": {
    "ExecuteTime": {
     "end_time": "2021-02-12T22:27:25.911288Z",
     "start_time": "2021-02-12T22:27:25.908321Z"
    }
   },
   "outputs": [],
   "source": [
    "# mpl.use(\"pgf\")  # to display graphs remove this line\n",
    "mpl.rcParams.update({\n",
    "    'pgf.texsystem': 'pdflatex',\n",
    "    'font.family': 'serif',\n",
    "    'text.usetex': True,\n",
    "    'pgf.rcfonts': False,\n",
    "})\n",
    "line = 0.75"
   ]
  },
  {
   "cell_type": "code",
   "execution_count": 40,
   "metadata": {
    "ExecuteTime": {
     "end_time": "2021-02-12T22:45:26.902090Z",
     "start_time": "2021-02-12T22:45:26.720908Z"
    }
   },
   "outputs": [
    {
     "name": "stdout",
     "output_type": "stream",
     "text": [
      "Signal power: 1.00 dB\n",
      "Noise power:  0.99 dB\n",
      "SNR:          0.01 dB\n",
      "Num samples:  200000\n"
     ]
    }
   ],
   "source": [
    "# general settings for signal and noise\n",
    "sample_freq = 1e6  # in Hz\n",
    "length = 0.2  # in s\n",
    "signal_power = 1.0  # in dB\n",
    "noise_power = 1.0  # in dB\n",
    "\n",
    "# create the signal (the 'soft speaker' kind)\n",
    "wm = ss.WirelessMicrophone(f_sample=sample_freq, t_sec=length, seed=None)\n",
    "sig = wm.soft(f_center=-1e5, power=signal_power, dB=True)\n",
    "\n",
    "# create the noise\n",
    "wgn = ss.WhiteGaussianNoise(f_sample=sample_freq, t_sec=length, seed=None)\n",
    "noise = wgn.signal(power=noise_power, dB=True)\n",
    "\n",
    "# ensure noise and signal have same length (and create global variable 'num_samples')\n",
    "assert wm.num_samples == wgn.num_samples\n",
    "num_samples = wm.num_samples\n",
    "\n",
    "# create actual signal ('both') comprising of signal and additive white Gaussian noise (AWGN)\n",
    "both = sig + noise\n",
    "\n",
    "# print some info about signal and noise\n",
    "print('Signal power: %.2f dB' % (ss.util.signal_power(sig, dB=True)))\n",
    "print('Noise power:  %.2f dB' % (ss.util.signal_power(noise, dB=True)))\n",
    "print('SNR:          %.2f dB' % (ss.util.snr(sig, noise, dB=True)))\n",
    "print('Num samples:  %d' % (num_samples))\n",
    "\n",
    "# ensure that Parseval's theorem holds\n",
    "ss.util.check_parseval(both, length, sample_freq)"
   ]
  },
  {
   "cell_type": "code",
   "execution_count": 47,
   "metadata": {
    "ExecuteTime": {
     "end_time": "2021-02-12T22:48:30.607127Z",
     "start_time": "2021-02-12T22:48:27.741091Z"
    }
   },
   "outputs": [
    {
     "data": {
      "image/png": "[encoded data removed]",
      "text/plain": [
       "<Figure size 576x432 with 6 Axes>"
      ]
     },
     "metadata": {
      "needs_background": "light"
     },
     "output_type": "display_data"
    }
   ],
   "source": [
    "cov_size = 20\n",
    "\n",
    "fig, axs = plt.subplots(nrows=2, ncols=2, figsize=(8, 6))\n",
    "\n",
    "mat_noise = ss.eigen_detector.corr(x=noise, l=cov_size)\n",
    "img = axs[0, 0].imshow(np.abs(mat_noise), aspect='auto')\n",
    "axs[0, 0].set_title(r'(a) Noise only sample covariance matrix')\n",
    "cbar = plt.colorbar(img, ax=axs[0, 0])\n",
    "axs[0, 0].set_xticks([0,5,10,15])\n",
    "axs[0, 0].set_yticks([0,5,10,15])\n",
    "axs[0, 0].set_xlim([-0.5,19.5])\n",
    "axs[0, 0].set_ylim([19.5,-0.5])\n",
    "\n",
    "mat_both = ss.eigen_detector.corr(x=both, l=cov_size)\n",
    "img = axs[0, 1].imshow(np.abs(mat_both), aspect='auto')\n",
    "axs[0, 1].set_title(r'(b) Noise and signal sample covariance matrix')\n",
    "cbar = plt.colorbar(img, ax=axs[0, 1])\n",
    "axs[0, 1].set_xticks([0,5,10,15])\n",
    "axs[0, 1].set_yticks([0,5,10,15])\n",
    "axs[0, 1].set_xlim([-0.5,19.5])\n",
    "axs[0, 1].set_ylim([19.5,-0.5])\n",
    "\n",
    "noise_eigvals = np.abs(linalg.eigvals(mat_noise))\n",
    "axs[1, 0].plot(noise_eigvals, 'o', alpha=1., aa=True)\n",
    "axs[1, 0].set_title(r'(c) Noise only eigenvalues')\n",
    "axs[1, 0].grid(linewidth=0.5)\n",
    "axs[1, 0].set_ylim([0, 10])\n",
    "\n",
    "both_eigvals = np.abs(linalg.eigvals(mat_both))\n",
    "axs[1, 1].plot(both_eigvals, 'o', c='C1', alpha=1., aa=True)\n",
    "axs[1, 1].set_title(r'(d) Noise and signal eigenvalues')\n",
    "axs[1, 1].grid(linewidth=0.5)\n",
    "\n",
    "plt.tight_layout()\n",
    "plt.savefig('out/chap5/eigenvalue.pdf')"
   ]
  }
 ],
 "metadata": {
  "kernelspec": {
   "display_name": "Python 3",
   "language": "python",
   "name": "python3"
  },
  "language_info": {
   "codemirror_mode": {
    "name": "ipython",
    "version": 3
   },
   "file_extension": ".py",
   "mimetype": "text/x-python",
   "name": "python",
   "nbconvert_exporter": "python",
   "pygments_lexer": "ipython3",
   "version": "3.6.9"
  },
  "varInspector": {
   "cols": {
    "lenName": 16,
    "lenType": 16,
    "lenVar": 40
   },
   "kernels_config": {
    "python": {
     "delete_cmd_postfix": "",
     "delete_cmd_prefix": "del ",
     "library": "var_list.py",
     "varRefreshCmd": "print(var_dic_list())"
    },
    "r": {
     "delete_cmd_postfix": ") ",
     "delete_cmd_prefix": "rm(",
     "library": "var_list.r",
     "varRefreshCmd": "cat(var_dic_list()) "
    }
   },
   "types_to_exclude": [
    "module",
    "function",
    "builtin_function_or_method",
    "instance",
    "_Feature"
   ],
   "window_display": false
  }
 },
 "nbformat": 4,
 "nbformat_minor": 4
}
