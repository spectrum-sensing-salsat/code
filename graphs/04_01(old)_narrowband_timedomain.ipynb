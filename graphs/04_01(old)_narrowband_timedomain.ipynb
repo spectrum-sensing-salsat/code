{
 "cells": [
  {
   "cell_type": "code",
   "execution_count": 44,
   "metadata": {
    "ExecuteTime": {
     "end_time": "2021-02-11T09:36:52.189757Z",
     "start_time": "2021-02-11T09:36:52.186586Z"
    }
   },
   "outputs": [],
   "source": [
    "import numpy as np\n",
    "import math\n",
    "import matplotlib as mpl\n",
    "import matplotlib.pyplot as plt\n",
    "plt.style.use('seaborn-deep')\n",
    "from mpl_toolkits import mplot3d as mpl3d\n",
    "from scipy import signal, stats, linalg, fft\n",
    "\n",
    "# import our 'specsens' package with the help of 'sys'\n",
    "import sys\n",
    "sys.path.insert(0, '..')\n",
    "import specsens as ss"
   ]
  },
  {
   "cell_type": "code",
   "execution_count": 45,
   "metadata": {
    "ExecuteTime": {
     "end_time": "2021-02-11T09:36:52.197046Z",
     "start_time": "2021-02-11T09:36:52.191315Z"
    }
   },
   "outputs": [],
   "source": [
    "# mpl.use(\"pgf\")  # to display graphs remove this line\n",
    "mpl.rcParams.update({\n",
    "    'pgf.texsystem': 'pdflatex',\n",
    "    'font.family': 'serif',\n",
    "    'text.usetex': True,\n",
    "    'pgf.rcfonts': False,\n",
    "})\n",
    "line = 0.75"
   ]
  },
  {
   "cell_type": "code",
   "execution_count": 48,
   "metadata": {
    "ExecuteTime": {
     "end_time": "2021-02-12T18:13:12.066745Z",
     "start_time": "2021-02-12T18:13:12.062682Z"
    }
   },
   "outputs": [],
   "source": [
    "# # general settings for signal and noise\n",
    "# sample_freq = 1e6  # in Hz\n",
    "# length = 1.0  # in s\n",
    "# signal_power = 0.0  # in dB\n",
    "# noise_power = -15.0  # in dB\n",
    "\n",
    "# # create the signal (the 'soft speaker' kind)\n",
    "# wm = ss.WirelessMicrophone(f_sample=sample_freq, t_sec=length, seed=None)\n",
    "# sig = wm.soft(f_center=1e4, power=signal_power, dB=True)\n",
    "\n",
    "# # create the noise\n",
    "# wgn = ss.WhiteGaussianNoise(f_sample=sample_freq, t_sec=length, seed=None)\n",
    "# noise = wgn.signal(power=noise_power, dB=True)\n",
    "\n",
    "# # ensure noise and signal have same length (and create global variable 'num_samples')\n",
    "# assert wm.num_samples == wgn.num_samples\n",
    "# num_samples = wm.num_samples\n",
    "\n",
    "# # create actual signal ('both') comprising of signal and additive white Gaussian noise (AWGN)\n",
    "# both = sig + noise\n",
    "\n",
    "# # print some info about signal and noise\n",
    "# print('Signal power: %.2f dB' % (ss.util.signal_power(sig, dB=True)))\n",
    "# print('Noise power:  %.2f dB' % (ss.util.signal_power(noise, dB=True)))\n",
    "# print('SNR:          %.2f dB' % (ss.util.snr(sig, noise, dB=True)))\n",
    "# print('Num samples:  %d' % (num_samples))\n",
    "\n",
    "# # ensure that Parseval's theorem holds\n",
    "# ss.util.check_parseval(both, length, sample_freq)"
   ]
  },
  {
   "cell_type": "code",
   "execution_count": 49,
   "metadata": {
    "ExecuteTime": {
     "end_time": "2021-02-12T18:13:12.782053Z",
     "start_time": "2021-02-12T18:13:12.778815Z"
    }
   },
   "outputs": [],
   "source": [
    "# n = 500\n",
    "\n",
    "# plt.figure(figsize=(6, 3))\n",
    "# plt.plot(both[0:n].real, '-', linewidth=1, aa=True)\n",
    "# plt.plot(both[0:n].imag, '-', linewidth=1, alpha=0.75, aa=True)\n",
    "# plt.legend(('Re', 'Im'), loc=1)\n",
    "# plt.xlabel(r'Samples')\n",
    "# plt.ylabel(r'Normalized amplitude')\n",
    "# plt.ylim([-1.4, 1.4])\n",
    "# plt.grid(linewidth=0.5)\n",
    "# plt.tight_layout()\n",
    "# plt.savefig('out/narrowband_time.pdf')"
   ]
  }
 ],
 "metadata": {
  "kernelspec": {
   "display_name": "Python 3",
   "language": "python",
   "name": "python3"
  },
  "language_info": {
   "codemirror_mode": {
    "name": "ipython",
    "version": 3
   },
   "file_extension": ".py",
   "mimetype": "text/x-python",
   "name": "python",
   "nbconvert_exporter": "python",
   "pygments_lexer": "ipython3",
   "version": "3.6.9"
  },
  "varInspector": {
   "cols": {
    "lenName": 16,
    "lenType": 16,
    "lenVar": 40
   },
   "kernels_config": {
    "python": {
     "delete_cmd_postfix": "",
     "delete_cmd_prefix": "del ",
     "library": "var_list.py",
     "varRefreshCmd": "print(var_dic_list())"
    },
    "r": {
     "delete_cmd_postfix": ") ",
     "delete_cmd_prefix": "rm(",
     "library": "var_list.r",
     "varRefreshCmd": "cat(var_dic_list()) "
    }
   },
   "types_to_exclude": [
    "module",
    "function",
    "builtin_function_or_method",
    "instance",
    "_Feature"
   ],
   "window_display": false
  }
 },
 "nbformat": 4,
 "nbformat_minor": 4
}
