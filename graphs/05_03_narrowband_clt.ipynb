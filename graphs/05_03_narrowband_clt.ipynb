{
 "cells": [
  {
   "cell_type": "code",
   "execution_count": 1,
   "metadata": {
    "ExecuteTime": {
     "end_time": "2021-02-12T18:36:29.972564Z",
     "start_time": "2021-02-12T18:36:29.575873Z"
    }
   },
   "outputs": [],
   "source": [
    "import numpy as np\n",
    "import math\n",
    "import matplotlib as mpl\n",
    "import matplotlib.pyplot as plt\n",
    "plt.style.use('seaborn-deep')\n",
    "from mpl_toolkits import mplot3d as mpl3d\n",
    "from scipy import signal, stats, linalg, fft\n",
    "\n",
    "# import our 'specsens' package with the help of 'sys'\n",
    "import sys\n",
    "sys.path.insert(0, '..')\n",
    "import specsens as ss"
   ]
  },
  {
   "cell_type": "code",
   "execution_count": 2,
   "metadata": {
    "ExecuteTime": {
     "end_time": "2021-02-12T18:36:29.976175Z",
     "start_time": "2021-02-12T18:36:29.973923Z"
    }
   },
   "outputs": [],
   "source": [
    "# mpl.use(\"pgf\")  # to display graphs remove this line\n",
    "mpl.rcParams.update({\n",
    "    'pgf.texsystem': 'pdflatex',\n",
    "    'font.family': 'serif',\n",
    "    'text.usetex': True,\n",
    "    'pgf.rcfonts': False,\n",
    "})\n",
    "line = 0.75"
   ]
  },
  {
   "cell_type": "code",
   "execution_count": 3,
   "metadata": {
    "ExecuteTime": {
     "end_time": "2021-02-12T18:36:32.069451Z",
     "start_time": "2021-02-12T18:36:29.977322Z"
    }
   },
   "outputs": [
    {
     "data": {
      "image/png": "[encoded data removed]",
      "text/plain": [
       "<Figure size 576x216 with 2 Axes>"
      ]
     },
     "metadata": {
      "needs_background": "light"
     },
     "output_type": "display_data"
    }
   ],
   "source": [
    "fig, (ax1, ax2) = plt.subplots(1, 2, figsize=(8, 3))\n",
    "\n",
    "pfa = np.linspace(0, 0.999, 1000)\n",
    "pd_chi2 = ss.chi2_stats.roc(noise_power=12,\n",
    "                            signal_power=0,\n",
    "                            pfa=pfa,\n",
    "                            n=500,\n",
    "                            dB=True)\n",
    "pd_clt = ss.clt_stats.roc(noise_power=12,\n",
    "                           signal_power=0,\n",
    "                           pfa=pfa,\n",
    "                           n=500,\n",
    "                           dB=True)\n",
    "\n",
    "ax1.plot(pfa, pd_chi2, ls='-', label=r'Chi-square', linewidth=1, aa=True)\n",
    "ax1.plot(pfa, pd_clt, ls='-', label=r'CLT', linewidth=1, aa=True)\n",
    "ax1.legend(loc=0)\n",
    "ax1.set_xlabel(r'$P_{\\textit{FA}}$')\n",
    "ax1.set_ylabel(r'$P_{\\textit{D}}$')\n",
    "ax1.set_title(r'(a) $N=500$ and $\\textrm{SNR}=-12\\textrm{dB}$')\n",
    "ax1.grid(linewidth=0.5)\n",
    "\n",
    "pfa = np.linspace(0, 0.999, 1000)\n",
    "pd_chi2 = ss.chi2_stats.roc(noise_power=1,\n",
    "                            signal_power=0,\n",
    "                            pfa=pfa,\n",
    "                            n=5,\n",
    "                            dB=True)\n",
    "pd_clt = ss.clt_stats.roc(noise_power=1,\n",
    "                           signal_power=0,\n",
    "                           pfa=pfa,\n",
    "                           n=5,\n",
    "                           dB=True)\n",
    "\n",
    "ax2.plot(pfa, pd_chi2, ls='-', label=r'Chi-square', linewidth=1, aa=True)\n",
    "ax2.plot(pfa, pd_clt, ls='-', label=r'CLT', linewidth=1, aa=True)\n",
    "ax2.legend(loc=4)\n",
    "ax2.set_xlabel(r'$P_{\\textit{FA}}$')\n",
    "ax2.set_ylabel(r'$P_{\\textit{D}}$')\n",
    "ax2.set_title(r'(b) $N=5$ and $\\textrm{SNR}=-1\\textrm{dB}$')\n",
    "ax2.grid(linewidth=0.5)\n",
    "\n",
    "plt.tight_layout()\n",
    "plt.savefig('out/chap5/narrowband_clt.pdf')"
   ]
  }
 ],
 "metadata": {
  "kernelspec": {
   "display_name": "Python 3",
   "language": "python",
   "name": "python3"
  },
  "varInspector": {
   "cols": {
    "lenName": 16,
    "lenType": 16,
    "lenVar": 40
   },
   "kernels_config": {
    "python": {
     "delete_cmd_postfix": "",
     "delete_cmd_prefix": "del ",
     "library": "var_list.py",
     "varRefreshCmd": "print(var_dic_list())"
    },
    "r": {
     "delete_cmd_postfix": ") ",
     "delete_cmd_prefix": "rm(",
     "library": "var_list.r",
     "varRefreshCmd": "cat(var_dic_list()) "
    }
   },
   "types_to_exclude": [
    "module",
    "function",
    "builtin_function_or_method",
    "instance",
    "_Feature"
   ],
   "window_display": false
  }
 },
 "nbformat": 4,
 "nbformat_minor": 4
}
