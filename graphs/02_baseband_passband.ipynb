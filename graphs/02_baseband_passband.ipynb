{
 "cells": [
  {
   "cell_type": "code",
   "execution_count": 4,
   "metadata": {
    "ExecuteTime": {
     "end_time": "2021-02-26T23:41:55.005686Z",
     "start_time": "2021-02-26T23:41:54.994273Z"
    }
   },
   "outputs": [],
   "source": [
    "import numpy as np\n",
    "import math\n",
    "import matplotlib as mpl\n",
    "import matplotlib.pyplot as plt\n",
    "plt.style.use('seaborn-deep')  # change pyplots default style\n",
    "from mpl_toolkits import mplot3d as mpl3d\n",
    "from scipy import signal, stats, linalg, fft\n",
    "\n",
    "# import our 'specsens' package with the help of 'sys'\n",
    "import sys\n",
    "sys.path.insert(0, '..')\n",
    "import specsens as ss"
   ]
  },
  {
   "cell_type": "code",
   "execution_count": 5,
   "metadata": {
    "ExecuteTime": {
     "end_time": "2021-02-26T23:41:55.022477Z",
     "start_time": "2021-02-26T23:41:55.016544Z"
    }
   },
   "outputs": [],
   "source": [
    "# mpl.use(\"pgf\")  # to display graphs remove this line\n",
    "mpl.rcParams.update({\n",
    "    'pgf.texsystem': 'pdflatex',\n",
    "    'font.family': 'serif',\n",
    "    'text.usetex': True,\n",
    "    'pgf.rcfonts': False,\n",
    "})\n",
    "line = 0.75"
   ]
  },
  {
   "cell_type": "code",
   "execution_count": 6,
   "metadata": {
    "ExecuteTime": {
     "end_time": "2021-02-26T23:41:56.578490Z",
     "start_time": "2021-02-26T23:41:55.025808Z"
    }
   },
   "outputs": [
    {
     "data": {
      "image/png": "[encoded data removed]",
      "text/plain": [
       "<Figure size 504x216 with 2 Axes>"
      ]
     },
     "metadata": {
      "needs_background": "light"
     },
     "output_type": "display_data"
    }
   ],
   "source": [
    "from mpl_toolkits.axisartist.axislines import SubplotZero\n",
    "\n",
    "fig, (ax1, ax2) = plt.subplots(2, figsize=(7, 3))\n",
    "for side in ['bottom', 'right', 'top', 'left']:\n",
    "    ax1.spines[side].set_visible(False)\n",
    "ax1.set_yticklabels([])\n",
    "ax1.set_xticklabels([])\n",
    "ax1.xaxis.set_ticks_position('none')  # tick markers\n",
    "ax1.yaxis.set_ticks_position('none')\n",
    "ax1.arrow(0,\n",
    "          -0.1,\n",
    "          0,\n",
    "          1,\n",
    "          linestyle='-',\n",
    "          head_width=0.05,\n",
    "          head_length=0.05,\n",
    "          fc='k',\n",
    "          ec='k',\n",
    "          alpha=0.8,\n",
    "          linewidth=line,\n",
    "          aa=True)\n",
    "ax1.arrow(-4.5,\n",
    "          0,\n",
    "          9,\n",
    "          0,\n",
    "          linestyle='-',\n",
    "          head_width=0.03,\n",
    "          head_length=0.07,\n",
    "          fc='k',\n",
    "          ec='k',\n",
    "          alpha=0.8,\n",
    "          linewidth=line,\n",
    "          aa=True)\n",
    "\n",
    "ax1.plot([-3.50001, -3.5, -2.00001, -2.0], [0, 0.6, 0.8, 0],\n",
    "         '-',\n",
    "         linewidth=line * 1.2,\n",
    "         color='C0',\n",
    "         aa=True)\n",
    "ax1.plot([2.0, 2.00001, 3.5, 3.5000001], [0, 0.8, 0.6, 0],\n",
    "         '-',\n",
    "         linewidth=line * 1.2,\n",
    "         color='C0',\n",
    "         aa=True)\n",
    "ax1.plot([2.75, 2.75000001], [0.05, -0.05],\n",
    "         '-',\n",
    "         linewidth=line,\n",
    "         color='k',\n",
    "         aa=True)\n",
    "ax1.plot([-2.75, -2.75000001], [0.05, -0.05],\n",
    "         '-',\n",
    "         linewidth=line,\n",
    "         color='k',\n",
    "         aa=True)\n",
    "ax1.text(\n",
    "    4.5,\n",
    "    0.1,\n",
    "    r'$f$',\n",
    ")\n",
    "ax1.text(\n",
    "    0.1,\n",
    "    0.9,\n",
    "    r'$S(f)$',\n",
    ")\n",
    "ax1.text(\n",
    "    -4.2,\n",
    "    -0.2,\n",
    "    r'$-f_c-B/2$',\n",
    ")\n",
    "ax1.text(\n",
    "    -2.4,\n",
    "    -0.2,\n",
    "    r'$-f_c+B/2$',\n",
    ")\n",
    "ax1.text(\n",
    "    1.48,\n",
    "    -0.2,\n",
    "    r'$f_c-B/2$',\n",
    ")\n",
    "ax1.text(\n",
    "    3.28,\n",
    "    -0.2,\n",
    "    r'$f_c+B/2$',\n",
    ")\n",
    "ax1.text(\n",
    "    -2.95,\n",
    "    -0.2,\n",
    "    r'$-f_c$',\n",
    ")\n",
    "ax1.text(\n",
    "    2.7,\n",
    "    -0.2,\n",
    "    r'$f_c$',\n",
    ")\n",
    "ax1.set_xlim([-5, 5])\n",
    "ax1.set_ylim([-0.1, 1.1])\n",
    "\n",
    "for side in ['bottom', 'right', 'top', 'left']:\n",
    "    ax2.spines[side].set_visible(False)\n",
    "ax2.set_yticklabels([])\n",
    "ax2.set_xticklabels([])\n",
    "ax2.xaxis.set_ticks_position('none')  # tick markers\n",
    "ax2.yaxis.set_ticks_position('none')\n",
    "ax2.arrow(0,\n",
    "          -0.1,\n",
    "          0,\n",
    "          1,\n",
    "          linestyle='-',\n",
    "          head_width=0.05,\n",
    "          head_length=0.05,\n",
    "          fc='k',\n",
    "          ec='k',\n",
    "          alpha=0.8,\n",
    "          linewidth=line,\n",
    "          aa=True)\n",
    "ax2.arrow(-4.5,\n",
    "          0,\n",
    "          9,\n",
    "          0,\n",
    "          linestyle='-',\n",
    "          head_width=0.03,\n",
    "          head_length=0.07,\n",
    "          fc='k',\n",
    "          ec='k',\n",
    "          alpha=0.8,\n",
    "          linewidth=line,\n",
    "          aa=True)\n",
    "\n",
    "ax2.plot([-0.7500001, -0.75, 0.75, 0.7500001], [0, 0.85, 0.55, 0],\n",
    "         '-',\n",
    "         linewidth=line * 1.2,\n",
    "         color='C1',\n",
    "         aa=True)\n",
    "ax2.text(\n",
    "    4.5,\n",
    "    0.1,\n",
    "    r'$f$',\n",
    ")\n",
    "ax2.text(\n",
    "    0.1,\n",
    "    0.9,\n",
    "    r'$S_b(f)$',\n",
    ")\n",
    "ax2.text(\n",
    "    -1.1,\n",
    "    -0.2,\n",
    "    r'$-B/2$',\n",
    ")\n",
    "ax2.text(\n",
    "    0.57,\n",
    "    -0.2,\n",
    "    r'$B/2$',\n",
    ")\n",
    "ax2.set_xlim([-5, 5])\n",
    "ax2.set_ylim([-0.1, 1.1])\n",
    "\n",
    "plt.tight_layout()\n",
    "plt.savefig('out/chap2/baseband.pgf')"
   ]
  }
 ],
 "metadata": {
  "kernelspec": {
   "display_name": "Python 3",
   "language": "python",
   "name": "python3"
  },
  "language_info": {
   "codemirror_mode": {
    "name": "ipython",
    "version": 3
   },
   "file_extension": ".py",
   "mimetype": "text/x-python",
   "name": "python",
   "nbconvert_exporter": "python",
   "pygments_lexer": "ipython3",
   "version": "3.6.9"
  },
  "varInspector": {
   "cols": {
    "lenName": 16,
    "lenType": 16,
    "lenVar": 40
   },
   "kernels_config": {
    "python": {
     "delete_cmd_postfix": "",
     "delete_cmd_prefix": "del ",
     "library": "var_list.py",
     "varRefreshCmd": "print(var_dic_list())"
    },
    "r": {
     "delete_cmd_postfix": ") ",
     "delete_cmd_prefix": "rm(",
     "library": "var_list.r",
     "varRefreshCmd": "cat(var_dic_list()) "
    }
   },
   "types_to_exclude": [
    "module",
    "function",
    "builtin_function_or_method",
    "instance",
    "_Feature"
   ],
   "window_display": false
  }
 },
 "nbformat": 4,
 "nbformat_minor": 4
}
