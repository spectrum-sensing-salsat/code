{
 "cells": [
  {
   "cell_type": "code",
   "execution_count": 1,
   "metadata": {
    "ExecuteTime": {
     "end_time": "2021-02-12T18:38:50.314072Z",
     "start_time": "2021-02-12T18:38:49.610671Z"
    }
   },
   "outputs": [],
   "source": [
    "import numpy as np\n",
    "import math\n",
    "import matplotlib as mpl\n",
    "import matplotlib.pyplot as plt\n",
    "plt.style.use('seaborn-deep')\n",
    "from mpl_toolkits import mplot3d as mpl3d\n",
    "from scipy import signal, stats, linalg, fft\n",
    "\n",
    "# import our 'specsens' package with the help of 'sys'\n",
    "import sys\n",
    "sys.path.insert(0, '..')\n",
    "import specsens as ss"
   ]
  },
  {
   "cell_type": "code",
   "execution_count": 2,
   "metadata": {
    "ExecuteTime": {
     "end_time": "2021-02-12T18:38:50.324675Z",
     "start_time": "2021-02-12T18:38:50.318455Z"
    }
   },
   "outputs": [],
   "source": [
    "# mpl.use(\"pgf\")  # to display graphs remove this line\n",
    "mpl.rcParams.update({\n",
    "    'pgf.texsystem': 'pdflatex',\n",
    "    'font.family': 'serif',\n",
    "    'text.usetex': True,\n",
    "    'pgf.rcfonts': False,\n",
    "})\n",
    "line = 0.75"
   ]
  },
  {
   "cell_type": "code",
   "execution_count": 3,
   "metadata": {
    "ExecuteTime": {
     "end_time": "2021-02-12T18:38:50.845113Z",
     "start_time": "2021-02-12T18:38:50.330347Z"
    }
   },
   "outputs": [
    {
     "name": "stdout",
     "output_type": "stream",
     "text": [
      "Created WidebandSignal with 1.0 MHz total bandwidth and 20000 samples per step.\n",
      "Signal power: 8.87 dB\n",
      "Noise power:  9.99 dB\n",
      "SNR:          -1.11 dB\n",
      "Num samples:  200000\n"
     ]
    }
   ],
   "source": [
    "# general settings for signal and noise\n",
    "length = 0.2  # in s\n",
    "noise_power = 10.0  # in dB\n",
    "num_bands = 10\n",
    "\n",
    "# create 'WidebandSignal' object\n",
    "wbs = ss.WidebandSignal(t_sec=length, num_bands=num_bands, num_steps=10)\n",
    "\n",
    "# signal power matrix (dimensions: num_bands x num_steps)\n",
    "mat = np.array([[-100, -100, -100, -100, -100, -100, -100, -100, -100, -100],\n",
    "                [-100, -100,   -3,    0,    3,    5,    7,   10, -100, -100],\n",
    "                [-100, -100, -100, -100, -100, -100, -100, -100, -100, -100],\n",
    "                [-100,    0,    3,    3,    0, -100,    0,    5,    0, -100],\n",
    "                [-100, -100, -100, -100, -100, -100, -100, -100, -100, -100],\n",
    "                [-100, -100,   10,    5,    0,   -5,   -7,  -10,  -13, -100],\n",
    "                [-100, -100, -100, -100, -100, -100, -100, -100, -100, -100],\n",
    "                [-100, -100, -100, -100, -100,    0,    0, -100, -100, -100],\n",
    "                [-100,   10,   10,   10, -100, -100, -100, -100, -100, -100],\n",
    "                [-100, -100, -100, -100, -100, -100, -100, -100, -100, -100]])\n",
    "\n",
    "# # plot the matrix\n",
    "# wbs.plot(mat)\n",
    "\n",
    "# generate actual signal from matrix\n",
    "sig, sample_freq = wbs.signal(mat)\n",
    "\n",
    "# create the noise\n",
    "wgn = ss.WhiteGaussianNoise(f_sample=sample_freq, t_sec=length)\n",
    "noise = wgn.signal(power=noise_power, dB=True)\n",
    "\n",
    "# ensure noise and signal have same length (and create global variable 'num_samples')\n",
    "assert wbs.num_samples == wgn.num_samples\n",
    "num_samples = wbs.num_samples\n",
    "\n",
    "# create actual signal ('both') comprising of signal and additive white Gaussian noise (AWGN)\n",
    "both = sig + noise\n",
    "\n",
    "# print some info about signal and noise\n",
    "print('Signal power: %.2f dB' % (ss.util.signal_power(sig, dB=True)))\n",
    "print('Noise power:  %.2f dB' % (ss.util.signal_power(noise, dB=True)))\n",
    "print('SNR:          %.2f dB' % (ss.util.snr(sig, noise, dB=True)))\n",
    "print('Num samples:  %d' % (num_samples))\n",
    "\n",
    "# ensure that Parseval's theorem holds\n",
    "ss.util.check_parseval(both, length, sample_freq)"
   ]
  },
  {
   "cell_type": "code",
   "execution_count": 4,
   "metadata": {
    "ExecuteTime": {
     "end_time": "2021-02-12T18:38:50.937660Z",
     "start_time": "2021-02-12T18:38:50.852370Z"
    }
   },
   "outputs": [],
   "source": [
    "# wide band energy detector with 'fft_len' window length\n",
    "fft_len = 1024\n",
    "\n",
    "# create a Short Time Fourier Transform object\n",
    "sft = ss.Stft(n=fft_len, window='box')\n",
    "\n",
    "# use the stft to transform the signal into the frequency domain\n",
    "f, t, x = sft.spectogram(both, sample_freq, normalized=False, dB=False)\n",
    "\n",
    "# create a Wideband Energy Detector object\n",
    "fed = ss.WidebandEnergyDetector(num_bands=num_bands,\n",
    "                                f_sample=sample_freq,\n",
    "                                fft_len=fft_len,\n",
    "                                freqs=f)\n",
    "\n",
    "# compute the energy at every timestep\n",
    "eng = np.asarray(list(map(fed.detect, x.T))).T\n",
    "\n",
    "# # plot result of energy detector\n",
    "# ss.util_wide.plot_matrix(eng, xlabel='Time / Num FFT', plabel='Energy')"
   ]
  },
  {
   "cell_type": "code",
   "execution_count": 5,
   "metadata": {
    "ExecuteTime": {
     "end_time": "2021-02-12T18:38:50.966928Z",
     "start_time": "2021-02-12T18:38:50.953780Z"
    }
   },
   "outputs": [
    {
     "name": "stdout",
     "output_type": "stream",
     "text": [
      "---- Stats theory ----\n",
      "Prob false alarm: 0.01000\n",
      "Threshold:        1269.54170\n",
      "Prob detection:   0.99999\n",
      "---- Stats from matrix ----\n",
      "Simulation false alarm: 0.01026\n",
      "Simulation Detection:   0.88205\n"
     ]
    }
   ],
   "source": [
    "# we set the probability of false alarm to our desired value\n",
    "pfa = 0.01\n",
    "\n",
    "# from that we calculate the threshold\n",
    "thr = ss.chi2_stats.thr(noise_power=noise_power,\n",
    "                        pfa=pfa,\n",
    "                        n=fft_len // num_bands,\n",
    "                        dB=True)\n",
    "\n",
    "# and the probability of detection for 0dB signal power\n",
    "pd = ss.chi2_stats.pd(noise_power=noise_power,\n",
    "                      signal_power=0.,\n",
    "                      thr=thr,\n",
    "                      n=fft_len // num_bands,\n",
    "                      dB=True,\n",
    "                      num_bands=num_bands)\n",
    "\n",
    "print('---- Stats theory ----')\n",
    "print('Prob false alarm: %.5f' % (pfa))\n",
    "print('Threshold:        %.5f' % (thr))\n",
    "print('Prob detection:   %.5f' % (pd))\n",
    "\n",
    "# apply threshold to result of energy detector matrix\n",
    "res = (eng > thr) * np.full_like(eng, 1.)\n",
    "\n",
    "# # plot the resulting binary decision matrix\n",
    "# ss.util_wide.plot_matrix(res,\n",
    "#                          xlabel='Time / Num FFT',\n",
    "#                          plabel='Decision',\n",
    "#                          binary=True)\n",
    "\n",
    "print('---- Stats from matrix ----')\n",
    "print('Simulation false alarm: %.5f' % (ss.util_wide.mat_pfa(res, mat)))\n",
    "print('Simulation Detection:   %.5f' % (ss.util_wide.mat_pd(res, mat)))"
   ]
  },
  {
   "cell_type": "code",
   "execution_count": 6,
   "metadata": {
    "ExecuteTime": {
     "end_time": "2021-02-12T18:38:53.004292Z",
     "start_time": "2021-02-12T18:38:50.976360Z"
    }
   },
   "outputs": [
    {
     "data": {
      "image/png": "[encoded data removed]",
      "text/plain": [
       "<Figure size 576x216 with 4 Axes>"
      ]
     },
     "metadata": {
      "needs_background": "light"
     },
     "output_type": "display_data"
    }
   ],
   "source": [
    "fig, (ax1, ax2) = plt.subplots(1, 2, figsize=(8, 3))\n",
    "\n",
    "ax1.set_title(r'(a) Energies')\n",
    "img = ax1.imshow(eng, aspect='auto')\n",
    "ax1.set_xlabel(r'Time [FFT bin]')\n",
    "ax1.set_ylabel(r'Band')\n",
    "cbar = plt.colorbar(img, ax=ax1)\n",
    "# cbar.set_label(r'Energy')\n",
    "\n",
    "ax2.set_title(r'(b) Detection results')\n",
    "img = ax2.imshow(res, aspect='auto')\n",
    "ax2.set_xlabel(r'Time [FFT bin]')\n",
    "ax2.set_ylabel(r'Band')\n",
    "cbar = plt.colorbar(img, ax=ax2)\n",
    "# cbar.set_label(r'Decision')\n",
    "cbar.set_ticks([0, 1])\n",
    "\n",
    "plt.tight_layout()\n",
    "plt.savefig('out/chap5/wideband_detect.pdf')"
   ]
  }
 ],
 "metadata": {
  "kernelspec": {
   "display_name": "Python 3",
   "language": "python",
   "name": "python3"
  },
  "varInspector": {
   "cols": {
    "lenName": 16,
    "lenType": 16,
    "lenVar": 40
   },
   "kernels_config": {
    "python": {
     "delete_cmd_postfix": "",
     "delete_cmd_prefix": "del ",
     "library": "var_list.py",
     "varRefreshCmd": "print(var_dic_list())"
    },
    "r": {
     "delete_cmd_postfix": ") ",
     "delete_cmd_prefix": "rm(",
     "library": "var_list.r",
     "varRefreshCmd": "cat(var_dic_list()) "
    }
   },
   "types_to_exclude": [
    "module",
    "function",
    "builtin_function_or_method",
    "instance",
    "_Feature"
   ],
   "window_display": false
  }
 },
 "nbformat": 4,
 "nbformat_minor": 4
}
