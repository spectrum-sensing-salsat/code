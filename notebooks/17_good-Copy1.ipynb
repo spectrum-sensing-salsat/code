{
 "cells": [
  {
   "cell_type": "code",
   "execution_count": 118,
   "metadata": {
    "ExecuteTime": {
     "end_time": "2021-01-13T21:34:27.403996Z",
     "start_time": "2021-01-13T21:34:27.400495Z"
    }
   },
   "outputs": [],
   "source": [
    "import numpy as np\n",
    "import math\n",
    "import matplotlib as mpl\n",
    "import matplotlib.pyplot as plt\n",
    "plt.style.use('seaborn-deep')\n",
    "from mpl_toolkits import mplot3d as mpl3d\n",
    "from scipy import signal, stats, linalg, fft\n",
    "\n",
    "# import our 'specsens' package with the help of 'sys'\n",
    "import sys\n",
    "sys.path.insert(0, '..')\n",
    "import specsens as ss"
   ]
  },
  {
   "cell_type": "code",
   "execution_count": 119,
   "metadata": {
    "ExecuteTime": {
     "end_time": "2021-01-13T21:34:27.428506Z",
     "start_time": "2021-01-13T21:34:27.405901Z"
    }
   },
   "outputs": [
    {
     "name": "stdout",
     "output_type": "stream",
     "text": [
      "Signal power: 14.62 dB\n",
      "Noise power:  8.01 dB\n",
      "SNR:          6.61 dB\n",
      "Num samples:  10240\n"
     ]
    }
   ],
   "source": [
    "# general settings for signal and noise\n",
    "sample_freq = 1e6  # in Hz\n",
    "length = 0.01024  # in s\n",
    "signal_power = 1.0  # in dB\n",
    "noise_power = 8.0  # in dB\n",
    "\n",
    "# create the signal (the 'soft speaker' kind)\n",
    "wm = ss.WirelessMicrophone(f_sample=sample_freq, t_sec=length, seed=None)\n",
    "sig = wm.soft(f_center=-1e5, power=signal_power, dB=True)\n",
    "sig += wm.soft(f_center=-2e5, power=signal_power+2, dB=True)\n",
    "sig += wm.soft(f_center=1e5, power=signal_power-3, dB=True)\n",
    "sig += wm.soft(f_center=2.5e5, power=signal_power+3, dB=True)\n",
    "sig += wm.soft(f_center=1.5e5, power=signal_power+6, dB=True)\n",
    "sig += wm.soft(f_center=-2.5e5, power=signal_power+3, dB=True)\n",
    "sig += wm.soft(f_center=2e5, power=signal_power+6, dB=True)\n",
    "sig += wm.soft(f_center=-1.5e5, power=signal_power+5, dB=True)\n",
    "sig += wm.soft(f_center=.5e5, power=signal_power+3, dB=True)\n",
    "sig += wm.soft(f_center=-.5e5, power=signal_power+2, dB=True)\n",
    "sig += wm.soft(f_center=0e5, power=signal_power+1, dB=True)\n",
    "\n",
    "# create the noise\n",
    "wgn = ss.WhiteGaussianNoise(f_sample=sample_freq, t_sec=length, seed=None)\n",
    "noise = wgn.signal(power=noise_power, dB=True)\n",
    "\n",
    "# ensure noise and signal have same length (and create global variable 'num_samples')\n",
    "assert wm.num_samples == wgn.num_samples\n",
    "num_samples = wm.num_samples\n",
    "\n",
    "# create actual signal ('both') comprising of signal and additive white Gaussian noise (AWGN)\n",
    "both = sig + noise\n",
    "# both = noise\n",
    "\n",
    "# print some info about signal and noise\n",
    "print('Signal power: %.2f dB' % (ss.util.signal_power(sig, dB=True)))\n",
    "print('Noise power:  %.2f dB' % (ss.util.signal_power(noise, dB=True)))\n",
    "print('SNR:          %.2f dB' % (ss.util.snr(sig, noise, dB=True)))\n",
    "print('Num samples:  %d' % (num_samples))\n",
    "\n",
    "# ensure that Parseval's theorem holds\n",
    "ss.util.check_parseval(both, length, sample_freq)"
   ]
  },
  {
   "cell_type": "code",
   "execution_count": 120,
   "metadata": {
    "ExecuteTime": {
     "end_time": "2021-01-13T21:34:27.569527Z",
     "start_time": "2021-01-13T21:34:27.430030Z"
    }
   },
   "outputs": [
    {
     "data": {
      "image/png": "[encoded data removed]",
      "text/plain": [
       "<Figure size 576x432 with 1 Axes>"
      ]
     },
     "metadata": {
      "needs_background": "light"
     },
     "output_type": "display_data"
    }
   ],
   "source": [
    "# use the 2d plot function to plot the spectogram\n",
    "ss.spectrum_plot_2d(sig=both,\n",
    "                    f_sample=sample_freq,\n",
    "                    window='flattop',\n",
    "                    nfft=1024)"
   ]
  },
  {
   "cell_type": "code",
   "execution_count": 121,
   "metadata": {
    "ExecuteTime": {
     "end_time": "2021-01-13T21:34:27.573135Z",
     "start_time": "2021-01-13T21:34:27.570836Z"
    },
    "scrolled": false
   },
   "outputs": [],
   "source": [
    "# def mdl_citerion(L, N, eigs, M):\n",
    "#     '''Minimum description length criterion function.'''\n",
    "#     eigs = eigs[M:]  # select the last M eigenvalues\n",
    "#     prod = np.prod(eigs**(1 / (L - M)))\n",
    "#     summ = np.sum(eigs) / (L - M)\n",
    "#     return -(L - M) * N * np.log(\n",
    "#         prod / summ) + .5 * M * (2 * L - M) * np.log(N)\n",
    "\n",
    "\n",
    "# def noise_eigvals(x, n, l=50):\n",
    "#     assert len(x) == n, 'Length does not match n'\n",
    "#     assert len(x) > l, 'Length cant be smaller than l'\n",
    "#     c = n / l\n",
    "#     print('n', n, 'l', l, 'c', c)\n",
    "    \n",
    "#     # claculate covariance matrix\n",
    "#     mat = ss.eigen_detector.corr(x, l)\n",
    "    \n",
    "#     plt.figure(figsize=(8, 6))\n",
    "#     plt.imshow(np.abs(mat))\n",
    "#     plt.colorbar()\n",
    "#     plt.show()\n",
    "    \n",
    "#     # get sorted eigenvalues\n",
    "#     eigs = np.sort(np.abs(linalg.eigvals(mat)))[::-1]\n",
    "    \n",
    "#     plt.figure(figsize=(8, 6))\n",
    "#     plt.plot(eigs, 'o')\n",
    "#     plt.grid(linewidth=0.5)\n",
    "#     plt.show()\n",
    "    \n",
    "#     # calculate mdl\n",
    "#     mdl = list(map(lambda x: mdl_citerion(l, n, eigs, x), np.arange(l)))\n",
    "    \n",
    "#     plt.figure(figsize=(8, 6))\n",
    "#     plt.plot(mdl, 'o')\n",
    "#     plt.grid(linewidth=0.5)\n",
    "#     plt.yscale('log')\n",
    "#     plt.show()\n",
    "    \n",
    "#     # get optimal m (find first noise eignvalue index)\n",
    "#     m = np.argmin(mdl)\n",
    "    \n",
    "#     print('m', m)\n",
    "    \n",
    "#     # noise only eigenvalues\n",
    "#     noise_eigs = eigs[m:]\n",
    "    \n",
    "#     plt.figure(figsize=(8, 6))\n",
    "#     plt.plot(noise_eigs, 'o')\n",
    "#     plt.grid(linewidth=0.5)\n",
    "#     plt.show()\n",
    "    \n",
    "#     return noise_eigs, m\n",
    "    \n",
    "\n",
    "# noise_eigs, m = noise_eigvals(both, num_samples, l=50)\n",
    "\n",
    "# print('act', ss.util.dB_to_factor_power(noise_power))\n",
    "# print('est', np.mean(noise_eigs))"
   ]
  },
  {
   "cell_type": "code",
   "execution_count": 126,
   "metadata": {
    "ExecuteTime": {
     "end_time": "2021-01-13T21:35:02.131538Z",
     "start_time": "2021-01-13T21:35:00.822895Z"
    }
   },
   "outputs": [
    {
     "name": "stderr",
     "output_type": "stream",
     "text": [
      "100%|██████████| 10190/10190 [00:00<00:00, 81557.96it/s]\n"
     ]
    },
    {
     "name": "stdout",
     "output_type": "stream",
     "text": [
      "0.0048828125 0.58\n"
     ]
    },
    {
     "data": {
      "image/png": "[encoded data removed]",
      "text/plain": [
       "<Figure size 576x432 with 1 Axes>"
      ]
     },
     "metadata": {
      "needs_background": "light"
     },
     "output_type": "display_data"
    },
    {
     "name": "stdout",
     "output_type": "stream",
     "text": [
      "act 8.0\n",
      "mea 7.9323468707135545\n",
      "fit 7.9950234989666225\n",
      "mle 7.8878364971892285\n"
     ]
    }
   ],
   "source": [
    "def mdl_citerion(L, N, eigs, M):\n",
    "    '''Minimum description length criterion function.'''\n",
    "    eigs = eigs[M:]  # select the last M eigenvalues\n",
    "    prod = np.prod(eigs**(1 / (L - M)))\n",
    "    summ = np.sum(eigs) / (L - M)\n",
    "    return -(L - M) * N * np.log(\n",
    "        prod / summ) + .5 * M * (2 * L - M) * np.log(N)\n",
    "\n",
    "\n",
    "def marchenko_pastur_pdf_list(var, c, res):\n",
    "    v_max, v_min = var * (1 + c**.5)**2., var * (1 - c**.5)**2.\n",
    "    v = np.linspace(v_min, v_max, res)\n",
    "    return v, ((v - v_min) * (v_max - v))**.5 / (2. * np.pi * var * v * c)\n",
    "\n",
    "def marchenko_pastur_pdf(var, c, v):\n",
    "    v_max, v_min = var * (1 + c**.5)**2., var * (1 - c**.5)**2.\n",
    "    if v > v_max or v < v_min:\n",
    "        return 0\n",
    "    else:\n",
    "        return ((v - v_min) * (v_max - v))**.5 / (2. * np.pi * var * v * c)\n",
    "\n",
    "def empirical_dist(eigs, v):\n",
    "#     w = np.linspace(1., 1.2, len(eigs))\n",
    "#     return stats.gaussian_kde(eigs, bw_method='scott', weights=w).evaluate(v)\n",
    "    return stats.gaussian_kde(eigs, bw_method='scott').evaluate(v)\n",
    "\n",
    "\n",
    "\n",
    "def goodness_fit(c, beta, res, eigs, var):\n",
    "    v, mp = marchenko_pastur_pdf_list(var, (1 - beta) * c, res=res)\n",
    "    kde = empirical_dist(eigs, v)\n",
    "    return linalg.norm(kde - mp)\n",
    "\n",
    "def mle(c, beta, eigs, var):\n",
    "    return np.sum(list(map(lambda x: marchenko_pastur_pdf(var, (1-beta)*c, x), eigs)))\n",
    "\n",
    "\n",
    "\n",
    "def noise_eigvals(x, n, l=50, res=1000):\n",
    "    assert len(x) == n, 'Length does not match n'\n",
    "    assert len(x) > l, 'Length cant be smaller than l'\n",
    "\n",
    "    # claculate covariance matrix\n",
    "    mat = ss.eigen_detector.corr(x, l)\n",
    "\n",
    "    # get sorted eigenvalues\n",
    "    eigs = np.sort(np.abs(linalg.eigvals(mat)))[::-1]\n",
    "\n",
    "    # calculate mdl\n",
    "    mdl = list(map(lambda x: mdl_citerion(l, n, eigs, x), np.arange(l)))\n",
    "\n",
    "    # get optimal m (find first noise eignvalue index)\n",
    "    m = np.argmin(mdl)\n",
    "\n",
    "    # noise only eigenvalues\n",
    "    noise_eigs = eigs[m:]\n",
    "    \n",
    "    # estimate noise from mean noise eigenvalues\n",
    "    noise_est_mea = np.mean(noise_eigs)\n",
    "    \n",
    "    \n",
    "    # use model fitting for more accurate estimation\n",
    "    c = l / n\n",
    "    beta = m / l\n",
    "    \n",
    "    print(c, beta)\n",
    "\n",
    "    pis = np.linspace(noise_eigs[-1] / (1 - c**.5)**2 * .9,\n",
    "                      noise_eigs[0] / (1 + c**.5)**2 * 1.1, res)\n",
    "\n",
    "    diffs = list(map(lambda x: goodness_fit(c, beta, res, noise_eigs, var=x), pis))\n",
    "    noise_est_fit = pis[np.argmin(diffs)]\n",
    "    \n",
    "    likelihoods = list(map(lambda x: mle(c, beta, noise_eigs, x), pis))\n",
    "    noise_est_mle = pis[np.argmax(likelihoods)]\n",
    "\n",
    "#     plt.figure(figsize=(8, 6))\n",
    "#     plt.plot(pis, diffs, ',')\n",
    "#     plt.grid(linewidth=0.5)\n",
    "#     plt.show()\n",
    "    \n",
    "    v, mp = marchenko_pastur_pdf_list(noise_est_fit, c, res)\n",
    "    v1, mp1 = marchenko_pastur_pdf_list(ss.util.dB_to_factor_power(noise_power), c, res)\n",
    "    v2, mp2 = marchenko_pastur_pdf_list(noise_est_mea, c, res)\n",
    "    v3, mp3 = marchenko_pastur_pdf_list(noise_est_mle, c, res)\n",
    "    plt.figure(figsize=(8, 6))\n",
    "    plt.plot(v, mp, 'r-')\n",
    "    plt.plot(v1, mp1, 'g-')\n",
    "    plt.plot(v2, mp2, 'b-')\n",
    "    plt.plot(v3, mp3, 'k-')\n",
    "    plt.hist(noise_eigs, bins=l//2, density=True, alpha=0.5)\n",
    "    plt.plot(v, empirical_dist(noise_eigs, v))\n",
    "    plt.grid(linewidth=0.5)\n",
    "    plt.show()\n",
    "\n",
    "    return noise_est_mea, noise_est_fit, noise_est_mle\n",
    "\n",
    "\n",
    "mea, fit, mle = noise_eigvals(both, num_samples, l=50)\n",
    "\n",
    "print('act', noise_power)\n",
    "print('mea', ss.util.dB_power(mea))\n",
    "print('fit', ss.util.dB_power(fit))\n",
    "print('mle', ss.util.dB_power(mle))"
   ]
  },
  {
   "cell_type": "code",
   "execution_count": 123,
   "metadata": {
    "ExecuteTime": {
     "end_time": "2021-01-13T21:34:28.916751Z",
     "start_time": "2021-01-13T21:34:28.912859Z"
    }
   },
   "outputs": [],
   "source": [
    "# def mdl_citerion(L, N, eigs, M):\n",
    "#     '''Minimum description length criterion function.'''\n",
    "#     eigs = eigs[M:]  # select the last M eigenvalues\n",
    "#     prod = np.prod(eigs**(1 / (L - M)))\n",
    "#     summ = np.sum(eigs) / (L - M)\n",
    "#     return -(L - M) * N * np.log(\n",
    "#         prod / summ) + .5 * M * (2 * L - M) * np.log(N)\n",
    "\n",
    "\n",
    "# # def marchenko_pastur_pdf(var, c, res):\n",
    "# #     v_max, v_min = var * (1 + c**.5)**2., var * (1 - c**.5)**2.\n",
    "# #     v = np.linspace(v_min, v_max, res)\n",
    "# #     return v, ((v - v_min) * (v_max - v))**.5 / (2. * np.pi * var * v * c)\n",
    "\n",
    "# def marchenko_pastur_pdf(var, c, v):\n",
    "#     v_max, v_min = var * (1 + c**.5)**2., var * (1 - c**.5)**2.\n",
    "#     if v > v_max or v < v_min:\n",
    "#         return 0\n",
    "#     else:\n",
    "#         return ((v - v_min) * (v_max - v))**.5 / (2. * np.pi * var * v * c)\n",
    "\n",
    "# # def empirical_dist(eigs, v):\n",
    "# #     w = np.linspace(1., 1.2, len(eigs))\n",
    "# #     return stats.gaussian_kde(eigs, bw_method='scott', weights=w).evaluate(v)\n",
    "# # #     return stats.gaussian_kde(eigs, bw_method='scott', weights=w).evaluate(v)\n",
    "\n",
    "\n",
    "# # def goodness_fit(n, c, beta, res, eigs, var):\n",
    "# #     v, mp = marchenko_pastur_pdf(var, (1 - beta) * c, res=res)\n",
    "# #     kde = empirical_dist(eigs, v)\n",
    "# #     return linalg.norm(kde - mp)\n",
    "\n",
    "\n",
    "# def mle(c, beta, eigs, var):\n",
    "#     return np.sum(list(map(lambda x: marchenko_pastur_pdf(var, (1-beta)*c, x), eigs))\n",
    "\n",
    "# def noise_eigvals(x, n, l=50, res=1000):\n",
    "#     assert len(x) == n, 'Length does not match n'\n",
    "#     assert len(x) > l, 'Length cant be smaller than l'\n",
    "\n",
    "#     # claculate covariance matrix\n",
    "#     mat = ss.eigen_detector.corr(x, l)\n",
    "\n",
    "#     # get sorted eigenvalues\n",
    "#     eigs = np.sort(np.abs(linalg.eigvals(mat)))[::-1]\n",
    "\n",
    "#     # calculate mdl\n",
    "#     mdl = list(map(lambda x: mdl_citerion(l, n, eigs, x), np.arange(l)))\n",
    "\n",
    "#     # get optimal m (find first noise eignvalue index)\n",
    "#     m = np.argmin(mdl)\n",
    "\n",
    "#     # noise only eigenvalues\n",
    "#     noise_eigs = eigs[m:]\n",
    "\n",
    "#     c = l / n\n",
    "#     beta = m / l\n",
    "\n",
    "#     x = noise_eigs\n",
    "#     y = []\n",
    "#     xs = np.linspace(2.5, 3.5, 2000)\n",
    "#     for i in xs:    \n",
    "#         y.append(sum(list(map(lambda x: marchenko_pastur_pdf(ss.util.dB_to_factor_power(i), (1-beta)*c, x), x))))\n",
    "\n",
    "#     plt.figure(figsize=(8, 6))\n",
    "#     plt.plot(xs, y, ',')\n",
    "#     plt.grid(linewidth=0.5)\n",
    "#     plt.show()\n",
    "    \n",
    "#     print(xs[np.argmax(y)])\n",
    "    \n",
    "\n",
    "\n",
    "# # est, opt = noise_eigvals(both, num_samples, l=50)\n",
    "# noise_eigvals(both, num_samples, l=20)\n",
    "\n",
    "# # print('act', noise_power)\n",
    "# # print('est', ss.util.dB_power(est))\n",
    "# # print('opt', ss.util.dB_power(opt))\n",
    "\n"
   ]
  },
  {
   "cell_type": "code",
   "execution_count": 124,
   "metadata": {
    "ExecuteTime": {
     "end_time": "2021-01-13T21:34:28.924477Z",
     "start_time": "2021-01-13T21:34:28.918339Z"
    }
   },
   "outputs": [],
   "source": [
    "# 54.88289969501152\n",
    "\n",
    "\n",
    "# def marchenko_pastur_pdf(var, c, v):\n",
    "#     v_max, v_min = var * (1 + c**.5)**2., var * (1 - c**.5)**2.\n",
    "#     if v > v_max or v < v_min:\n",
    "#         return 0\n",
    "#     else:\n",
    "#         return ((v - v_min) * (v_max - v))**.5 / (2. * np.pi * var * v * c)\n",
    "\n",
    "\n",
    "# # x = np.linspace(0, 10, 100, endpoint=True)\n",
    "\n",
    "# y = []\n",
    "# for i in x:\n",
    "#     y.append(np.log(scipy.stats.norm.pdf(data,i,0.5)).sum())\n",
    "    \n",
    "# x = np.linspace(1.5, 2.5, 1000)\n",
    "# y = list(map(lambda x: marchenko_pastur_pdf(ss.util.dB_to_factor_power(noise_power), (1-0.6)*0.0048828125, x), x))\n",
    "\n",
    "# plt.figure(figsize=(8, 6))\n",
    "# plt.plot(x, y)\n",
    "# plt.grid(linewidth=0.5)\n",
    "# plt.show()"
   ]
  },
  {
   "cell_type": "code",
   "execution_count": 125,
   "metadata": {
    "ExecuteTime": {
     "end_time": "2021-01-13T21:34:28.929360Z",
     "start_time": "2021-01-13T21:34:28.926265Z"
    }
   },
   "outputs": [],
   "source": [
    "# import matplotlib.pyplot as plt\n",
    "# import numpy as np\n",
    "# import scipy.stats\n",
    "\n",
    "# mu = 3.0\n",
    "# sigma = 0.5\n",
    "\n",
    "# data = np.random.randn(100000) * sigma + mu\n",
    "\n",
    "# hx, hy, _ = plt.hist(data, bins=50, normed=1,color=\"lightblue\")\n",
    "\n",
    "# plt.ylim(0.0,max(hx)+0.05)\n",
    "# plt.title(r'Normal distribution $\\mu_0 = 3$ and $\\sigma_0 = 0.5$')\n",
    "# plt.grid()\n",
    "\n",
    "# plt.savefig(\"likelihood_normal_distribution_01.png\", bbox_inches='tight')\n",
    "# #plt.show()\n",
    "# plt.close()\n",
    "\n",
    "\n",
    "# scipy.stats.norm.pdf(6,2.0,1.0)\n",
    "\n",
    "# print( np.log(scipy.stats.norm.pdf(data,2.0,1.0)).sum() )\n",
    "\n",
    "# x = np.linspace(-10, 10, 1000, endpoint=True)\n",
    "\n",
    "# y = []\n",
    "# for i in x:\n",
    "#     y.append(np.log(scipy.stats.norm.pdf(data,i,0.5)).sum())\n",
    "\n",
    "# plt.plot(x,y)\n",
    "\n",
    "# plt.title(r'Log-Likelihood')\n",
    "# plt.xlabel(r'$\\mu$')\n",
    "\n",
    "# plt.grid()\n",
    "\n",
    "# plt.savefig(\"likelihood_normal_distribution_02.png\", bbox_inches='tight')\n",
    "# #plt.show()"
   ]
  }
 ],
 "metadata": {
  "kernelspec": {
   "display_name": "Python 3",
   "language": "python",
   "name": "python3"
  },
  "language_info": {
   "codemirror_mode": {
    "name": "ipython",
    "version": 3
   },
   "file_extension": ".py",
   "mimetype": "text/x-python",
   "name": "python",
   "nbconvert_exporter": "python",
   "pygments_lexer": "ipython3",
   "version": "3.6.9"
  },
  "varInspector": {
   "cols": {
    "lenName": 16,
    "lenType": 16,
    "lenVar": 40
   },
   "kernels_config": {
    "python": {
     "delete_cmd_postfix": "",
     "delete_cmd_prefix": "del ",
     "library": "var_list.py",
     "varRefreshCmd": "print(var_dic_list())"
    },
    "r": {
     "delete_cmd_postfix": ") ",
     "delete_cmd_prefix": "rm(",
     "library": "var_list.r",
     "varRefreshCmd": "cat(var_dic_list()) "
    }
   },
   "types_to_exclude": [
    "module",
    "function",
    "builtin_function_or_method",
    "instance",
    "_Feature"
   ],
   "window_display": false
  }
 },
 "nbformat": 4,
 "nbformat_minor": 4
}
