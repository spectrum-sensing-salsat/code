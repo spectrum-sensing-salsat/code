{
 "cells": [
  {
   "cell_type": "code",
   "execution_count": 1,
   "metadata": {
    "ExecuteTime": {
     "end_time": "2021-01-10T09:06:34.602017Z",
     "start_time": "2021-01-10T09:06:34.242351Z"
    }
   },
   "outputs": [
    {
     "ename": "ModuleNotFoundError",
     "evalue": "No module named 'specsens'",
     "output_type": "error",
     "traceback": [
      "\u001b[0;31m---------------------------------------------------------------------------\u001b[0m",
      "\u001b[0;31mModuleNotFoundError\u001b[0m                       Traceback (most recent call last)",
      "\u001b[0;32m<ipython-input-1-aca3b7a9c589>\u001b[0m in \u001b[0;36m<module>\u001b[0;34m\u001b[0m\n\u001b[1;32m     10\u001b[0m \u001b[0;31m# import sys\u001b[0m\u001b[0;34m\u001b[0m\u001b[0;34m\u001b[0m\u001b[0;34m\u001b[0m\u001b[0m\n\u001b[1;32m     11\u001b[0m \u001b[0;31m# sys.path.insert(0, '..')\u001b[0m\u001b[0;34m\u001b[0m\u001b[0;34m\u001b[0m\u001b[0;34m\u001b[0m\u001b[0m\n\u001b[0;32m---> 12\u001b[0;31m \u001b[0;32mimport\u001b[0m \u001b[0mspecsens\u001b[0m \u001b[0;32mas\u001b[0m \u001b[0mss\u001b[0m\u001b[0;34m\u001b[0m\u001b[0;34m\u001b[0m\u001b[0m\n\u001b[0m",
      "\u001b[0;31mModuleNotFoundError\u001b[0m: No module named 'specsens'"
     ]
    }
   ],
   "source": [
    "import numpy as np\n",
    "import math\n",
    "import matplotlib as mpl\n",
    "import matplotlib.pyplot as plt\n",
    "plt.style.use('seaborn-deep')\n",
    "from mpl_toolkits import mplot3d as mpl3d\n",
    "from scipy import signal, stats, linalg, fft\n",
    "\n",
    "# import our 'specsens' package with the help of 'sys'\n",
    "import sys\n",
    "sys.path.insert(0, '..')\n",
    "import specsens as ss"
   ]
  },
  {
   "cell_type": "code",
   "execution_count": null,
   "metadata": {
    "ExecuteTime": {
     "end_time": "2021-01-10T09:06:34.603664Z",
     "start_time": "2021-01-10T09:06:34.247Z"
    }
   },
   "outputs": [],
   "source": [
    "# general settings for signal and noise\n",
    "sample_freq = 1e6  # in Hz\n",
    "length = 1.0  # in s\n",
    "signal_power = 0.0  # in dB\n",
    "noise_power = -15.0  # in dB\n",
    "\n",
    "# create the signal (the 'soft speaker' kind)\n",
    "wm = ss.WirelessMicrophone(f_sample=sample_freq, t_sec=length, seed=None)\n",
    "sig = wm.soft(f_center=1e4, power=signal_power, dB=True)\n",
    "\n",
    "# create the noise\n",
    "wgn = ss.WhiteGaussianNoise(f_sample=sample_freq, t_sec=length, seed=None)\n",
    "noise = wgn.signal(power=noise_power, dB=True)\n",
    "\n",
    "# ensure noise and signal have same length (and create global variable 'num_samples')\n",
    "assert wm.num_samples == wgn.num_samples\n",
    "num_samples = wm.num_samples\n",
    "\n",
    "# create actual signal ('both') comprising of signal and additive white Gaussian noise (AWGN)\n",
    "both = sig + noise\n",
    "\n",
    "# print some info about signal and noise\n",
    "print('Signal power: %.2f dB' % (ss.util.signal_power(sig, dB=True)))\n",
    "print('Noise power:  %.2f dB' % (ss.util.signal_power(noise, dB=True)))\n",
    "print('SNR:          %.2f dB' % (ss.util.snr(sig, noise, dB=True)))\n",
    "print('Num samples:  %d' % (num_samples))\n",
    "\n",
    "# ensure that Parseval's theorem holds\n",
    "ss.util.check_parseval(both, length, sample_freq)"
   ]
  },
  {
   "cell_type": "code",
   "execution_count": null,
   "metadata": {
    "ExecuteTime": {
     "end_time": "2021-01-10T09:06:34.604396Z",
     "start_time": "2021-01-10T09:06:34.256Z"
    }
   },
   "outputs": [],
   "source": [
    "# plot the first n sample points of only signal\n",
    "n = 500\n",
    "\n",
    "# actual sample points (only real part)\n",
    "plt.figure(figsize=(8, 6))\n",
    "plt.plot(sig[0:n].real, 'o', c='C0', markersize=2, aa=True)\n",
    "plt.xlabel(r'Samples')\n",
    "plt.ylabel(r'Normalized amplitude')\n",
    "plt.grid(linewidth=0.5)\n",
    "plt.show()\n",
    "\n",
    "# with linear interpolation (both real and imaginary parts)\n",
    "plt.figure(figsize=(8, 6))\n",
    "plt.plot(sig[0:n].real, '-', aa=True)\n",
    "plt.plot(sig[0:n].imag, '--', alpha=0.75, aa=True)\n",
    "plt.legend(('Re', 'Im'), loc=1)\n",
    "plt.xlabel(r'Samples')\n",
    "plt.ylabel(r'Normalized amplitude')\n",
    "plt.grid(linewidth=0.5)\n",
    "plt.show()\n",
    "\n",
    "# the complex signal can also be displayed in 3d\n",
    "fig = plt.figure(figsize=(10, 8))\n",
    "ax = fig.gca(projection='3d')\n",
    "ax.plot(np.arange(0, n),\n",
    "        sig[0:n].real,\n",
    "        sig[0:n].imag,\n",
    "        c='C0',\n",
    "        alpha=1.0,\n",
    "        linewidth=1.0)\n",
    "ax.view_init(elev=20, azim=-50)\n",
    "ax.set_yticks([-1.0, -0.5, 0.0, 0.5, 1.0])\n",
    "ax.set_zticks([-1.0, -0.5, 0.0, 0.5, 1.0])\n",
    "\n",
    "ax.zaxis.set_rotate_label(False)\n",
    "ax.set_xlabel(r'Samples')\n",
    "ax.set_ylabel(r'Re')\n",
    "ax.set_zlabel(r'Im', rotation=90)\n",
    "\n",
    "ax.xaxis.pane.fill = False\n",
    "ax.yaxis.pane.fill = False\n",
    "ax.zaxis.pane.fill = False\n",
    "\n",
    "ax.xaxis.pane.set_edgecolor('w')\n",
    "ax.yaxis.pane.set_edgecolor('w')\n",
    "ax.zaxis.pane.set_edgecolor('w')\n",
    "plt.show()"
   ]
  },
  {
   "cell_type": "code",
   "execution_count": null,
   "metadata": {
    "ExecuteTime": {
     "end_time": "2021-01-10T09:06:34.605128Z",
     "start_time": "2021-01-10T09:06:34.260Z"
    }
   },
   "outputs": [],
   "source": [
    "# plot the first n sample points of signal and noise ('both')\n",
    "plt.figure(figsize=(8, 6))\n",
    "plt.plot(both[0:n].real, '-', aa=True)\n",
    "plt.plot(both[0:n].imag, '--', alpha=0.75, aa=True)\n",
    "plt.legend(('Re', 'Im'), loc=1)\n",
    "plt.xlabel(r'Samples')\n",
    "plt.ylabel(r'Normalized amplitude')\n",
    "plt.grid(linewidth=0.5)\n",
    "plt.show()"
   ]
  }
 ],
 "metadata": {
  "kernelspec": {
   "display_name": "Python 3",
   "language": "python",
   "name": "python3"
  },
  "language_info": {
   "codemirror_mode": {
    "name": "ipython",
    "version": 3
   },
   "file_extension": ".py",
   "mimetype": "text/x-python",
   "name": "python",
   "nbconvert_exporter": "python",
   "pygments_lexer": "ipython3",
   "version": "3.6.9"
  },
  "varInspector": {
   "cols": {
    "lenName": 16,
    "lenType": 16,
    "lenVar": 40
   },
   "kernels_config": {
    "python": {
     "delete_cmd_postfix": "",
     "delete_cmd_prefix": "del ",
     "library": "var_list.py",
     "varRefreshCmd": "print(var_dic_list())"
    },
    "r": {
     "delete_cmd_postfix": ") ",
     "delete_cmd_prefix": "rm(",
     "library": "var_list.r",
     "varRefreshCmd": "cat(var_dic_list()) "
    }
   },
   "position": {
    "height": "646px",
    "left": "1413px",
    "right": "20px",
    "top": "126px",
    "width": "350px"
   },
   "types_to_exclude": [
    "module",
    "function",
    "builtin_function_or_method",
    "instance",
    "_Feature"
   ],
   "window_display": false
  }
 },
 "nbformat": 4,
 "nbformat_minor": 4
}
