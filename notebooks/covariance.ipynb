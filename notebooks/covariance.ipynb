{
 "cells": [
  {
   "cell_type": "code",
   "execution_count": 1,
   "metadata": {
    "ExecuteTime": {
     "end_time": "2021-01-08T09:34:48.062530Z",
     "start_time": "2021-01-08T09:34:47.639450Z"
    }
   },
   "outputs": [],
   "source": [
    "import numpy as np\n",
    "import matplotlib as mpl\n",
    "import matplotlib.pyplot as plt\n",
    "from scipy import signal\n",
    "from scipy import stats\n",
    "from scipy import linalg\n",
    "from scipy import fft\n",
    "\n",
    "import sys\n",
    "sys.path.insert(0,'..')\n",
    "import specsens as ss"
   ]
  },
  {
   "cell_type": "code",
   "execution_count": 2,
   "metadata": {
    "ExecuteTime": {
     "end_time": "2021-01-08T09:34:48.130695Z",
     "start_time": "2021-01-08T09:34:48.064251Z"
    }
   },
   "outputs": [
    {
     "ename": "AttributeError",
     "evalue": "'WirelessMicrophone' object has no attribute 'get_soft'",
     "output_type": "error",
     "traceback": [
      "\u001b[0;31m---------------------------------------------------------------------------\u001b[0m",
      "\u001b[0;31mAttributeError\u001b[0m                            Traceback (most recent call last)",
      "\u001b[0;32m<ipython-input-2-4a2a0be01211>\u001b[0m in \u001b[0;36m<module>\u001b[0;34m\u001b[0m\n\u001b[1;32m      6\u001b[0m \u001b[0;31m# create the signal\u001b[0m\u001b[0;34m\u001b[0m\u001b[0;34m\u001b[0m\u001b[0;34m\u001b[0m\u001b[0m\n\u001b[1;32m      7\u001b[0m \u001b[0mwm\u001b[0m \u001b[0;34m=\u001b[0m \u001b[0mss\u001b[0m\u001b[0;34m.\u001b[0m\u001b[0mWirelessMicrophone\u001b[0m\u001b[0;34m(\u001b[0m\u001b[0mf_sample\u001b[0m\u001b[0;34m=\u001b[0m\u001b[0msample_freq\u001b[0m\u001b[0;34m,\u001b[0m \u001b[0mt_sec\u001b[0m\u001b[0;34m=\u001b[0m\u001b[0mlength\u001b[0m\u001b[0;34m)\u001b[0m\u001b[0;34m\u001b[0m\u001b[0;34m\u001b[0m\u001b[0m\n\u001b[0;32m----> 8\u001b[0;31m \u001b[0msig\u001b[0m \u001b[0;34m=\u001b[0m \u001b[0mwm\u001b[0m\u001b[0;34m.\u001b[0m\u001b[0mget_soft\u001b[0m\u001b[0;34m(\u001b[0m\u001b[0mf_center\u001b[0m\u001b[0;34m=\u001b[0m\u001b[0;36m1e5\u001b[0m\u001b[0;34m,\u001b[0m \u001b[0mpower\u001b[0m\u001b[0;34m=\u001b[0m\u001b[0msignal_power\u001b[0m\u001b[0;34m,\u001b[0m \u001b[0mdB\u001b[0m\u001b[0;34m=\u001b[0m\u001b[0;32mTrue\u001b[0m\u001b[0;34m)\u001b[0m\u001b[0;34m\u001b[0m\u001b[0;34m\u001b[0m\u001b[0m\n\u001b[0m\u001b[1;32m      9\u001b[0m \u001b[0;34m\u001b[0m\u001b[0m\n\u001b[1;32m     10\u001b[0m \u001b[0;31m# create the noise\u001b[0m\u001b[0;34m\u001b[0m\u001b[0;34m\u001b[0m\u001b[0;34m\u001b[0m\u001b[0m\n",
      "\u001b[0;31mAttributeError\u001b[0m: 'WirelessMicrophone' object has no attribute 'get_soft'"
     ]
    }
   ],
   "source": [
    "sample_freq = 1e6  # in Hz\n",
    "length = 0.1  # in s\n",
    "signal_power = 0.0  # in dB\n",
    "noise_power = 0.0  # in dB\n",
    "\n",
    "# create the signal\n",
    "wm = ss.WirelessMicrophone(f_sample=sample_freq, t_sec=length)\n",
    "sig = wm.get_soft(f_center=1e5, power=signal_power, dB=True)\n",
    "\n",
    "# create the noise\n",
    "wgn = ss.WhiteGaussianNoise(f_sample=sample_freq, t_sec=length)\n",
    "noise = wgn.get_signal(power=noise_power, dB=True)\n",
    "\n",
    "# ensure noise and signal have same length\n",
    "assert wm.num_samples == wgn.num_samples\n",
    "num_samples = wm.num_samples\n",
    "\n",
    "# create actual signal ('both') comprising of signal and additive white gaussian noise (AWGN)\n",
    "both = sig + noise\n",
    "\n",
    "# print some info about signal and noise\n",
    "print('Signal power: %.2f dB' % (ss.util.signal_power(sig, dB=True)))\n",
    "print('Noise power:  %.2f dB' % (ss.util.signal_power(noise, dB=True)))\n",
    "print('SNR:          %.2f dB' % (ss.util.snr(sig, noise, dB=True)))\n",
    "print('Num samples:  %d ' % (num_samples))\n",
    "\n",
    "# note, that Parseval's theorem holds\n",
    "print(\"Freq energy:  %.2f\" % (np.sum(np.abs(fft.fft(both))**2)/sample_freq))\n",
    "print(\"Time energy:  %.2f\" % (np.sum(np.abs(both)**2 * length)))"
   ]
  },
  {
   "cell_type": "code",
   "execution_count": null,
   "metadata": {
    "ExecuteTime": {
     "end_time": "2021-01-08T09:34:48.132341Z",
     "start_time": "2021-01-08T09:34:47.407Z"
    }
   },
   "outputs": [],
   "source": [
    "# Plot the resulting signals using matplotlib\n",
    "nfft = 1024\n",
    "\n",
    "plt.figure(figsize=(8, 6))\n",
    "plt.specgram(noise,\n",
    "             NFFT=nfft,\n",
    "             Fs=sample_freq,\n",
    "             scale='dB',\n",
    "             cmap='viridis',\n",
    "             noverlap=0,\n",
    "             mode='psd',\n",
    "             window=signal.get_window('flattop', nfft))\n",
    "plt.title(\"Noise\")\n",
    "plt.xlabel(\"Time\")\n",
    "plt.ylabel(\"Frequency\")\n",
    "plt.show()\n",
    "\n",
    "plt.figure(figsize=(8, 6))\n",
    "plt.specgram(sig,\n",
    "             NFFT=nfft,\n",
    "             Fs=sample_freq,\n",
    "             scale='dB',\n",
    "             cmap='viridis',\n",
    "             noverlap=0,\n",
    "             mode='psd',\n",
    "             window=signal.get_window('flattop', nfft))\n",
    "plt.title(\"Signal\")\n",
    "plt.xlabel(\"Time\")\n",
    "plt.ylabel(\"Frequency\")\n",
    "plt.show()\n",
    "\n",
    "plt.figure(figsize=(8, 6))\n",
    "plt.specgram(both,\n",
    "             NFFT=nfft,\n",
    "             Fs=sample_freq,\n",
    "             scale='dB',\n",
    "             cmap='viridis',\n",
    "             noverlap=0,\n",
    "             mode='psd',\n",
    "             window=signal.get_window('flattop', nfft))\n",
    "plt.title(\"Both\")\n",
    "plt.xlabel(\"Time\")\n",
    "plt.ylabel(\"Frequency\")\n",
    "plt.show()"
   ]
  },
  {
   "cell_type": "code",
   "execution_count": null,
   "metadata": {
    "ExecuteTime": {
     "end_time": "2021-01-08T09:34:48.133303Z",
     "start_time": "2021-01-08T09:34:47.409Z"
    },
    "scrolled": true
   },
   "outputs": [],
   "source": [
    "def cal(y, l):\n",
    "    y = np.reshape(y, (-1, 1))\n",
    "    r = np.zeros((l, l), dtype = np.complex128)\n",
    "    for i in range(0, len(y)-l):\n",
    "        r += np.dot(y[i:i+l], y[i:i+l].conj().T)\n",
    "    return r / (len(y)-l)\n",
    "\n",
    "l = 100\n",
    "c_sig = cal(sig, l)\n",
    "c_noise = cal(noise, l)\n",
    "c_both = cal(both, l)\n",
    "\n",
    "# plt.imshow(abs(c_sig))\n",
    "# plt.colorbar()\n",
    "# plt.show()\n",
    "\n",
    "# plt.imshow(abs(c_noise))\n",
    "# plt.colorbar()\n",
    "# plt.show()\n",
    "\n",
    "# plt.imshow(abs(c_both))\n",
    "# plt.colorbar()\n",
    "# plt.show()\n",
    "\n",
    "# def test1(x):\n",
    "#     t1 = x.sum()\n",
    "#     t2 = x.trace()\n",
    "#     return t1/t2\n",
    "\n",
    "def test2(x):\n",
    "    eig = linalg.eigvals(x)\n",
    "    eig_max = np.abs(np.max(eig))\n",
    "    eig_min = np.abs(np.min(eig))\n",
    "    return eig_max/eig_min\n",
    "    \n",
    "print(f\"Noise only: {test2(c_noise)}\")\n",
    "print(f\"Noise and signal: {test2(c_both)}\")\n",
    "print(f\"Diff: {test2(c_both)-test2(c_noise)}\")"
   ]
  },
  {
   "cell_type": "code",
   "execution_count": null,
   "metadata": {},
   "outputs": [],
   "source": []
  },
  {
   "cell_type": "code",
   "execution_count": null,
   "metadata": {
    "ExecuteTime": {
     "end_time": "2021-01-08T09:34:48.134255Z",
     "start_time": "2021-01-08T09:34:47.411Z"
    }
   },
   "outputs": [],
   "source": [
    "# plt.figure(figsize=(8, 6))\n",
    "# plt.plot(np.abs(linalg.eigvals(c_noise)), 'kx')\n",
    "# plt.show()\n",
    "\n",
    "# plt.figure(figsize=(8, 6))\n",
    "# plt.plot(np.abs(linalg.eigvals(c_both)), 'kx')\n",
    "# plt.show()\n",
    "\n",
    "plt.figure(figsize=(8, 6))\n",
    "plt.plot(np.abs(linalg.eigvals(c_both)), 'kx')\n",
    "plt.show()\n",
    "\n",
    "plt.figure(figsize=(8, 6))\n",
    "plt.plot(linalg.svd(c_both, compute_uv=False), 'kx')\n",
    "plt.show()"
   ]
  },
  {
   "cell_type": "code",
   "execution_count": null,
   "metadata": {},
   "outputs": [],
   "source": []
  }
 ],
 "metadata": {
  "kernelspec": {
   "display_name": "Python 3",
   "language": "python",
   "name": "python3"
  },
  "varInspector": {
   "cols": {
    "lenName": 16,
    "lenType": 16,
    "lenVar": 40
   },
   "kernels_config": {
    "python": {
     "delete_cmd_postfix": "",
     "delete_cmd_prefix": "del ",
     "library": "var_list.py",
     "varRefreshCmd": "print(var_dic_list())"
    },
    "r": {
     "delete_cmd_postfix": ") ",
     "delete_cmd_prefix": "rm(",
     "library": "var_list.r",
     "varRefreshCmd": "cat(var_dic_list()) "
    }
   },
   "types_to_exclude": [
    "module",
    "function",
    "builtin_function_or_method",
    "instance",
    "_Feature"
   ],
   "window_display": false
  }
 },
 "nbformat": 4,
 "nbformat_minor": 4
}
