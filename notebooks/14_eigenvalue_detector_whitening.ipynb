{
 "cells": [
  {
   "cell_type": "code",
   "execution_count": 19,
   "metadata": {
    "ExecuteTime": {
     "end_time": "2021-01-15T23:10:15.267434Z",
     "start_time": "2021-01-15T23:10:15.263244Z"
    }
   },
   "outputs": [],
   "source": [
    "import numpy as np\n",
    "import math\n",
    "import matplotlib as mpl\n",
    "import matplotlib.pyplot as plt\n",
    "plt.style.use('seaborn-deep')\n",
    "from mpl_toolkits import mplot3d as mpl3d\n",
    "from scipy import signal, stats, linalg, fft\n",
    "import tqdm\n",
    "\n",
    "# import our 'specsens' package with the help of 'sys'\n",
    "import sys\n",
    "sys.path.insert(0, '..')\n",
    "import specsens as ss"
   ]
  },
  {
   "cell_type": "code",
   "execution_count": 20,
   "metadata": {
    "ExecuteTime": {
     "end_time": "2021-01-15T23:10:15.436873Z",
     "start_time": "2021-01-15T23:10:15.269206Z"
    }
   },
   "outputs": [
    {
     "name": "stdout",
     "output_type": "stream",
     "text": [
      "Signal power: 0.00 dB\n",
      "Noise power:  15.00 dB\n",
      "SNR:          -15.00 dB\n",
      "Num samples:  200000 \n"
     ]
    }
   ],
   "source": [
    "# general settings for signal and noise\n",
    "sample_freq = 1e6  # in Hz\n",
    "length = 0.2  # in s\n",
    "signal_power = 0.0  # in dB\n",
    "noise_power = 15.0  # in dB\n",
    "\n",
    "# create the signal (the 'soft speaker' kind)\n",
    "wm = ss.WirelessMicrophone(f_sample=sample_freq, t_sec=length, seed=None)\n",
    "sig = wm.soft(f_center=-1e5, power=signal_power, dB=True)\n",
    "\n",
    "# create the noise\n",
    "wgn = ss.WhiteGaussianNoise(f_sample=sample_freq, t_sec=length, seed=None)\n",
    "noise = wgn.signal(power=noise_power, dB=True)\n",
    "\n",
    "# ensure noise and signal have same length (and create global variable 'num_samples')\n",
    "assert wm.num_samples == wgn.num_samples\n",
    "num_samples = wm.num_samples\n",
    "\n",
    "# create actual signal ('both') comprising of signal and additive white Gaussian noise (AWGN)\n",
    "both = sig + noise\n",
    "\n",
    "# print some info about signal and noise\n",
    "print('Signal power: %.2f dB' % (ss.util.signal_power(sig, dB=True)))\n",
    "print('Noise power:  %.2f dB' % (ss.util.signal_power(noise, dB=True)))\n",
    "print('SNR:          %.2f dB' % (ss.util.snr(sig, noise, dB=True)))\n",
    "print('Num samples:  %d ' % (num_samples))\n",
    "\n",
    "# ensure that Parseval's theorem holds\n",
    "ss.util.check_parseval(both, length, sample_freq)"
   ]
  },
  {
   "cell_type": "code",
   "execution_count": 21,
   "metadata": {
    "ExecuteTime": {
     "end_time": "2021-01-15T23:10:32.945436Z",
     "start_time": "2021-01-15T23:10:15.446838Z"
    }
   },
   "outputs": [
    {
     "name": "stderr",
     "output_type": "stream",
     "text": [
      "100%|██████████| 10/10 [00:17<00:00,  1.70s/it]\n"
     ]
    },
    {
     "data": {
      "image/png": "[encoded data removed]",
      "text/plain": [
       "<Figure size 576x432 with 2 Axes>"
      ]
     },
     "metadata": {
      "needs_background": "light"
     },
     "output_type": "display_data"
    }
   ],
   "source": [
    "n = 10\n",
    "cov_size = 10\n",
    "\n",
    "w_mats = np.empty((0, cov_size, cov_size))\n",
    "for i in tqdm.tqdm(range(n)):\n",
    "    noi = wgn.signal(power=0, dB=True)\n",
    "    noi_fil = ss.filter.fir_bandpass(noi,\n",
    "                                     f_min=-4e5,\n",
    "                                     f_max=-2e5,\n",
    "                                     f_sample=sample_freq)\n",
    "    w_mat = ss.eigen_detector.whitening_mat(noi_fil, l=cov_size)\n",
    "    w_mat = np.reshape(w_mat, (1, cov_size, cov_size))\n",
    "    w_mats = np.append(w_mats, w_mat, axis=0)\n",
    "\n",
    "w_mat = np.mean(w_mats, axis=0)\n",
    "\n",
    "plt.figure(figsize=(8, 6))\n",
    "plt.imshow(np.abs(w_mat))\n",
    "plt.colorbar()\n",
    "plt.title('Filter matrix')\n",
    "plt.show()"
   ]
  },
  {
   "cell_type": "code",
   "execution_count": 22,
   "metadata": {
    "ExecuteTime": {
     "end_time": "2021-01-15T23:10:36.453432Z",
     "start_time": "2021-01-15T23:10:32.947425Z"
    }
   },
   "outputs": [
    {
     "name": "stdout",
     "output_type": "stream",
     "text": [
      "Prob false alarm:   0.1000\n",
      "Threshold:          1.0294\n",
      "Noise only mme:     1.0247\n",
      "Filtered noise mme: 1.0384\n"
     ]
    }
   ],
   "source": [
    "# apply bandpass filter to noise\n",
    "noise = wgn.signal(power=noise_power, dB=True)\n",
    "noi_fil = ss.filter.fir_bandpass(noi,\n",
    "                                 f_min=-4e5,\n",
    "                                 f_max=-2e5,\n",
    "                                 f_sample=sample_freq)\n",
    "\n",
    "# check what the stats have to say\n",
    "pfa = 0.1\n",
    "thr = ss.eigen_stats.mme_thr(Ns=num_samples, L=cov_size, Pfa=pfa)\n",
    "eng_noise = ss.eigen_detector.mme(x=noise, l=cov_size)\n",
    "eng_noise_fil = ss.eigen_detector.mme(x=noi_fil, l=cov_size, w_mat=w_mat)\n",
    "\n",
    "print('Prob false alarm:   %.4f' % (pfa))\n",
    "print('Threshold:          %.4f' % (thr))\n",
    "print('Noise only mme:     %.4f' % (eng_noise))\n",
    "print('Filtered noise mme: %.4f' % (eng_noise_fil))"
   ]
  },
  {
   "cell_type": "code",
   "execution_count": 23,
   "metadata": {
    "ExecuteTime": {
     "end_time": "2021-01-15T23:11:08.613043Z",
     "start_time": "2021-01-15T23:10:36.455211Z"
    }
   },
   "outputs": [
    {
     "name": "stderr",
     "output_type": "stream",
     "text": [
      "100%|██████████| 10/10 [00:32<00:00,  3.21s/it]"
     ]
    },
    {
     "name": "stdout",
     "output_type": "stream",
     "text": [
      "Mean difference 0.027330572841844238\n"
     ]
    },
    {
     "name": "stderr",
     "output_type": "stream",
     "text": [
      "\n"
     ]
    }
   ],
   "source": [
    "diffs = []\n",
    "for i in tqdm.tqdm(range(n)):\n",
    "    noi = wgn.signal(power=noise_power, dB=True)\n",
    "    noi_fil = ss.filter.fir_bandpass(noi,\n",
    "                                     f_min=-4e5,\n",
    "                                     f_max=-2e5,\n",
    "                                     f_sample=sample_freq)\n",
    "    eng_noi = ss.eigen_detector.mme(x=noi, l=cov_size)\n",
    "    eng_noi_fil = ss.eigen_detector.mme(x=noi_fil, l=cov_size, w_mat=w_mat)\n",
    "    diff = eng_noi_fil - eng_noi\n",
    "    #     print(diff)\n",
    "    diffs.append(diff)\n",
    "\n",
    "diff_mean = np.mean(diffs, axis=0)\n",
    "print('Mean difference', diff_mean)"
   ]
  },
  {
   "cell_type": "code",
   "execution_count": 24,
   "metadata": {
    "ExecuteTime": {
     "end_time": "2021-01-15T23:11:11.832357Z",
     "start_time": "2021-01-15T23:11:08.617264Z"
    }
   },
   "outputs": [
    {
     "name": "stdout",
     "output_type": "stream",
     "text": [
      "Prob false alarm:   0.1000\n",
      "Threshold:          1.0294\n",
      "Noise only mme:     1.0296\n",
      "Filtered noise mme: 1.0284\n"
     ]
    }
   ],
   "source": [
    "# apply bandpass filter to noise\n",
    "noise = wgn.signal(power=noise_power, dB=True)\n",
    "noi_fil = ss.filter.fir_bandpass(noi,\n",
    "                                 f_min=-4e5,\n",
    "                                 f_max=-2e5,\n",
    "                                 f_sample=sample_freq)\n",
    "\n",
    "# check what the stats have to say\n",
    "pfa = 0.1\n",
    "thr = ss.eigen_stats.mme_thr(Ns=num_samples, L=cov_size, Pfa=pfa)\n",
    "eng_noise = ss.eigen_detector.mme(x=noise, l=cov_size)\n",
    "eng_noise_fil = ss.eigen_detector.mme(x=noi_fil, l=cov_size, w_mat=w_mat)\n",
    "\n",
    "print('Prob false alarm:   %.4f' % (pfa))\n",
    "print('Threshold:          %.4f' % (thr))\n",
    "print('Noise only mme:     %.4f' % (eng_noise))\n",
    "print('Filtered noise mme: %.4f' % (eng_noise_fil - diff_mean))"
   ]
  }
 ],
 "metadata": {
  "kernelspec": {
   "display_name": "Python 3",
   "language": "python",
   "name": "python3"
  },
  "language_info": {
   "codemirror_mode": {
    "name": "ipython",
    "version": 3
   },
   "file_extension": ".py",
   "mimetype": "text/x-python",
   "name": "python",
   "nbconvert_exporter": "python",
   "pygments_lexer": "ipython3",
   "version": "3.6.9"
  },
  "varInspector": {
   "cols": {
    "lenName": 16,
    "lenType": 16,
    "lenVar": 40
   },
   "kernels_config": {
    "python": {
     "delete_cmd_postfix": "",
     "delete_cmd_prefix": "del ",
     "library": "var_list.py",
     "varRefreshCmd": "print(var_dic_list())"
    },
    "r": {
     "delete_cmd_postfix": ") ",
     "delete_cmd_prefix": "rm(",
     "library": "var_list.r",
     "varRefreshCmd": "cat(var_dic_list()) "
    }
   },
   "types_to_exclude": [
    "module",
    "function",
    "builtin_function_or_method",
    "instance",
    "_Feature"
   ],
   "window_display": false
  }
 },
 "nbformat": 4,
 "nbformat_minor": 4
}
