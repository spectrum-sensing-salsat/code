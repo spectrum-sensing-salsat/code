{
 "cells": [
  {
   "cell_type": "code",
   "execution_count": 3,
   "metadata": {
    "ExecuteTime": {
     "end_time": "2021-01-15T23:10:25.559448Z",
     "start_time": "2021-01-15T23:10:25.555065Z"
    }
   },
   "outputs": [],
   "source": [
    "import numpy as np\n",
    "import math\n",
    "import matplotlib as mpl\n",
    "import matplotlib.pyplot as plt\n",
    "plt.style.use('seaborn-deep')\n",
    "from mpl_toolkits import mplot3d as mpl3d\n",
    "from scipy import signal, stats, linalg, fft\n",
    "\n",
    "# import our 'specsens' package with the help of 'sys'\n",
    "import sys\n",
    "sys.path.insert(0, '..')\n",
    "import specsens as ss"
   ]
  },
  {
   "cell_type": "code",
   "execution_count": 4,
   "metadata": {
    "ExecuteTime": {
     "end_time": "2021-01-15T23:15:50.004707Z",
     "start_time": "2021-01-15T23:10:25.565388Z"
    }
   },
   "outputs": [
    {
     "name": "stdout",
     "output_type": "stream",
     "text": [
      "---- Simulation parameters ----\n",
      "Generations:    50\n",
      "Iterations:     20\n",
      "Total iters:    1000\n",
      "Signal power:   1.00 dB\n",
      "Sig cent. freq: -150000.0 Hz\n",
      "Noise power:    10.00 dB\n",
      "Noise uncert:   10.00 dB\n",
      "SNR:            -9.00 dB\n",
      "Signal length:  0.008192 s\n",
      "Signal samples: 8192\n",
      "FFT length:     8192\n",
      "Num. of bands:  4\n",
      "Band noise est: 3\n",
      "---- Running simulation ----\n",
      "Using 8 processes on 8 cores\n"
     ]
    },
    {
     "name": "stderr",
     "output_type": "stream",
     "text": [
      "100%|██████████| 50/50 [05:24<00:00,  6.48s/it] "
     ]
    },
    {
     "name": "stdout",
     "output_type": "stream",
     "text": [
      "---- Simulation stats ----\n",
      "Err time:             -22.2143 dB\n",
      "Err band:             -19.3585 dB\n",
      "Err eigenval average: -21.5806 dB\n",
      "Err eigenval hist:    -20.4419 dB\n",
      "Err eigenval kde:     -21.6736 dB\n",
      "Err eigenval mle:     -21.5517 dB\n"
     ]
    },
    {
     "name": "stderr",
     "output_type": "stream",
     "text": [
      "\n"
     ]
    }
   ],
   "source": [
    "_ = ss.estimation_comparison_sim(\n",
    "    gens=50,  # generations, number of environments\n",
    "    itrs=20,  # iterations, number of tests in each environment\n",
    "    f_sample=1e6,  # in Hz\n",
    "    signal_power=1.0,  # in dB\n",
    "    noise_power=10.0,  # in dB\n",
    "    length_sec=0.008192,  # length of each sample in seconds\n",
    "    #     length_sec=0.001024,  # length of each sample in seconds\n",
    "    noise_uncert=10.0,  # standard deviation of the noise normal distribution in dB\n",
    "    num_procs=None,  # number of processes to run in parallel\n",
    "    seed=None,  # set seed for reproducibility\n",
    "    window='box',  # window used with fft\n",
    "    fft_len=8192,  # samples used for fft\n",
    "    #     fft_len=1024,  # samples used for fft\n",
    "    num_bands=4,  # total number of bands\n",
    "    f_center=-1.5e5,  # signal center frequency\n",
    "    band_noise_est=3,  # band to use for noise estimation\n",
    "    cov_size=20)"
   ]
  }
 ],
 "metadata": {
  "kernelspec": {
   "display_name": "Python 3",
   "language": "python",
   "name": "python3"
  },
  "language_info": {
   "codemirror_mode": {
    "name": "ipython",
    "version": 3
   },
   "file_extension": ".py",
   "mimetype": "text/x-python",
   "name": "python",
   "nbconvert_exporter": "python",
   "pygments_lexer": "ipython3",
   "version": "3.6.9"
  },
  "varInspector": {
   "cols": {
    "lenName": 16,
    "lenType": 16,
    "lenVar": 40
   },
   "kernels_config": {
    "python": {
     "delete_cmd_postfix": "",
     "delete_cmd_prefix": "del ",
     "library": "var_list.py",
     "varRefreshCmd": "print(var_dic_list())"
    },
    "r": {
     "delete_cmd_postfix": ") ",
     "delete_cmd_prefix": "rm(",
     "library": "var_list.r",
     "varRefreshCmd": "cat(var_dic_list()) "
    }
   },
   "types_to_exclude": [
    "module",
    "function",
    "builtin_function_or_method",
    "instance",
    "_Feature"
   ],
   "window_display": false
  }
 },
 "nbformat": 4,
 "nbformat_minor": 4
}
